{
 "cells": [
  {
   "cell_type": "markdown",
   "metadata": {},
   "source": [
    "# United States v. Shonubi (1997)"
   ]
  },
  {
   "cell_type": "code",
   "execution_count": 12,
   "metadata": {},
   "outputs": [],
   "source": [
    "# packages\n",
    "\n",
    "import pandas as pd\n",
    "import seaborn as sns\n",
    "import torch\n",
    "\n",
    "import pyro\n",
    "import pyro.distributions as dist\n",
    "import pyro.ops.stats as stats\n",
    "\n",
    "from rethinking import (LM, MAP, coef, extract_samples, glimmer,\n",
    "                        link, precis, replicate, sim, vcov)\n"
   ]
  },
  {
   "cell_type": "code",
   "execution_count": 81,
   "metadata": {},
   "outputs": [
    {
     "data": {
      "text/html": [
       "<div>\n",
       "<style scoped>\n",
       "    .dataframe tbody tr th:only-of-type {\n",
       "        vertical-align: middle;\n",
       "    }\n",
       "\n",
       "    .dataframe tbody tr th {\n",
       "        vertical-align: top;\n",
       "    }\n",
       "\n",
       "    .dataframe thead th {\n",
       "        text-align: right;\n",
       "    }\n",
       "</style>\n",
       "<table border=\"1\" class=\"dataframe\">\n",
       "  <thead>\n",
       "    <tr style=\"text-align: right;\">\n",
       "      <th></th>\n",
       "      <th>obs</th>\n",
       "      <th>dataset</th>\n",
       "      <th>balloons</th>\n",
       "      <th>gross_wt</th>\n",
       "      <th>net_wt</th>\n",
       "      <th>purity</th>\n",
       "      <th>age_yrs</th>\n",
       "      <th>gender</th>\n",
       "    </tr>\n",
       "  </thead>\n",
       "  <tbody>\n",
       "    <tr>\n",
       "      <th>0</th>\n",
       "      <td>1.0</td>\n",
       "      <td>1.0</td>\n",
       "      <td>79.0</td>\n",
       "      <td>742.4</td>\n",
       "      <td>503.2</td>\n",
       "      <td>0.51</td>\n",
       "      <td>NaN</td>\n",
       "      <td>NaN</td>\n",
       "    </tr>\n",
       "    <tr>\n",
       "      <th>1</th>\n",
       "      <td>2.0</td>\n",
       "      <td>1.0</td>\n",
       "      <td>90.0</td>\n",
       "      <td>901.7</td>\n",
       "      <td>576.9</td>\n",
       "      <td>0.32</td>\n",
       "      <td>NaN</td>\n",
       "      <td>NaN</td>\n",
       "    </tr>\n",
       "    <tr>\n",
       "      <th>2</th>\n",
       "      <td>3.0</td>\n",
       "      <td>12.0</td>\n",
       "      <td>90.0</td>\n",
       "      <td>800.2</td>\n",
       "      <td>573.3</td>\n",
       "      <td>0.85</td>\n",
       "      <td>38.0</td>\n",
       "      <td>1.0</td>\n",
       "    </tr>\n",
       "    <tr>\n",
       "      <th>3</th>\n",
       "      <td>4.0</td>\n",
       "      <td>12.0</td>\n",
       "      <td>1.0</td>\n",
       "      <td>706.2</td>\n",
       "      <td>439.8</td>\n",
       "      <td>0.75</td>\n",
       "      <td>41.0</td>\n",
       "      <td>1.0</td>\n",
       "    </tr>\n",
       "    <tr>\n",
       "      <th>4</th>\n",
       "      <td>5.0</td>\n",
       "      <td>1.0</td>\n",
       "      <td>5.0</td>\n",
       "      <td>72.2</td>\n",
       "      <td>23.1</td>\n",
       "      <td>0.62</td>\n",
       "      <td>NaN</td>\n",
       "      <td>NaN</td>\n",
       "    </tr>\n",
       "    <tr>\n",
       "      <th>...</th>\n",
       "      <td>...</td>\n",
       "      <td>...</td>\n",
       "      <td>...</td>\n",
       "      <td>...</td>\n",
       "      <td>...</td>\n",
       "      <td>...</td>\n",
       "      <td>...</td>\n",
       "      <td>...</td>\n",
       "    </tr>\n",
       "    <tr>\n",
       "      <th>243</th>\n",
       "      <td>NaN</td>\n",
       "      <td>NaN</td>\n",
       "      <td>NaN</td>\n",
       "      <td>NaN</td>\n",
       "      <td>NaN</td>\n",
       "      <td>NaN</td>\n",
       "      <td>NaN</td>\n",
       "      <td>NaN</td>\n",
       "    </tr>\n",
       "    <tr>\n",
       "      <th>244</th>\n",
       "      <td>NaN</td>\n",
       "      <td>NaN</td>\n",
       "      <td>NaN</td>\n",
       "      <td>NaN</td>\n",
       "      <td>NaN</td>\n",
       "      <td>NaN</td>\n",
       "      <td>NaN</td>\n",
       "      <td>NaN</td>\n",
       "    </tr>\n",
       "    <tr>\n",
       "      <th>245</th>\n",
       "      <td>NaN</td>\n",
       "      <td>NaN</td>\n",
       "      <td>NaN</td>\n",
       "      <td>NaN</td>\n",
       "      <td>NaN</td>\n",
       "      <td>NaN</td>\n",
       "      <td>NaN</td>\n",
       "      <td>NaN</td>\n",
       "    </tr>\n",
       "    <tr>\n",
       "      <th>246</th>\n",
       "      <td>NaN</td>\n",
       "      <td>NaN</td>\n",
       "      <td>NaN</td>\n",
       "      <td>NaN</td>\n",
       "      <td>NaN</td>\n",
       "      <td>NaN</td>\n",
       "      <td>NaN</td>\n",
       "      <td>NaN</td>\n",
       "    </tr>\n",
       "    <tr>\n",
       "      <th>247</th>\n",
       "      <td>NaN</td>\n",
       "      <td>NaN</td>\n",
       "      <td>NaN</td>\n",
       "      <td>NaN</td>\n",
       "      <td>NaN</td>\n",
       "      <td>NaN</td>\n",
       "      <td>NaN</td>\n",
       "      <td>NaN</td>\n",
       "    </tr>\n",
       "  </tbody>\n",
       "</table>\n",
       "<p>248 rows × 8 columns</p>\n",
       "</div>"
      ],
      "text/plain": [
       "     obs  dataset   balloons  gross_wt  net_wt  purity  age_yrs  gender\n",
       "0    1.0      1.0       79.0     742.4   503.2    0.51      NaN     NaN\n",
       "1    2.0      1.0       90.0     901.7   576.9    0.32      NaN     NaN\n",
       "2    3.0     12.0       90.0     800.2   573.3    0.85     38.0     1.0\n",
       "3    4.0     12.0        1.0     706.2   439.8    0.75     41.0     1.0\n",
       "4    5.0      1.0        5.0      72.2    23.1    0.62      NaN     NaN\n",
       "..   ...      ...        ...       ...     ...     ...      ...     ...\n",
       "243  NaN      NaN        NaN       NaN     NaN     NaN      NaN     NaN\n",
       "244  NaN      NaN        NaN       NaN     NaN     NaN      NaN     NaN\n",
       "245  NaN      NaN        NaN       NaN     NaN     NaN      NaN     NaN\n",
       "246  NaN      NaN        NaN       NaN     NaN     NaN      NaN     NaN\n",
       "247  NaN      NaN        NaN       NaN     NaN     NaN      NaN     NaN\n",
       "\n",
       "[248 rows x 8 columns]"
      ]
     },
     "execution_count": 81,
     "metadata": {},
     "output_type": "execute_result"
    }
   ],
   "source": [
    "# the dataset\n",
    "\n",
    "sh = pd.read_csv('ShonubiCaseDataset.csv')\n",
    "sh.head()\n",
    "\n",
    "sh"
   ]
  },
  {
   "cell_type": "markdown",
   "metadata": {},
   "source": [
    "FIRST, STRATEGY WHICH USES POSTERIOR MEANS ONLY\n",
    "\n",
    "\n",
    "note there are 107 cases with gross_wt, but no net_wt. Let's first predict\n",
    "those, then fill them in to predict weight based on balloons"
   ]
  },
  {
   "cell_type": "code",
   "execution_count": 79,
   "metadata": {},
   "outputs": [],
   "source": [
    "def model(gross_wt, net_wt):\n",
    "\n",
    "    m = pyro.sample(\"m\", dist.Normal(0.8, 0.3))\n",
    "    mu = m * gross_wt\n",
    "    sigma = pyro.sample(\"sigma\", dist.Uniform(0, 150))\n",
    "\n",
    "    with pyro.plate(\"plate\"):\n",
    "        pyro.sample(\"net_wt\", dist.Normal(mu, sigma), obs=net_wt) \n",
    "\n",
    "gross_wt = torch.tensor(netData[\"gross_wt\"], dtype=torch.float)\n",
    "net_wt = torch.tensor(netData[\"net_wt\"], dtype=torch.float)\n",
    "\n",
    "netModel = MAP(model).run(gross_wt, net_wt)\n",
    "\n",
    "precis(netModel)"
   ]
  },
  {
   "cell_type": "code",
   "execution_count": 87,
   "metadata": {},
   "outputs": [
    {
     "data": {
      "text/html": [
       "<div>\n",
       "<style scoped>\n",
       "    .dataframe tbody tr th:only-of-type {\n",
       "        vertical-align: middle;\n",
       "    }\n",
       "\n",
       "    .dataframe tbody tr th {\n",
       "        vertical-align: top;\n",
       "    }\n",
       "\n",
       "    .dataframe thead th {\n",
       "        text-align: right;\n",
       "    }\n",
       "</style>\n",
       "<table border=\"1\" class=\"dataframe\">\n",
       "  <thead>\n",
       "    <tr style=\"text-align: right;\">\n",
       "      <th></th>\n",
       "      <th>Mean</th>\n",
       "      <th>StdDev</th>\n",
       "      <th>|0.89</th>\n",
       "      <th>0.89|</th>\n",
       "    </tr>\n",
       "  </thead>\n",
       "  <tbody>\n",
       "    <tr>\n",
       "      <th>m</th>\n",
       "      <td>0.80</td>\n",
       "      <td>0.03</td>\n",
       "      <td>0.75</td>\n",
       "      <td>0.85</td>\n",
       "    </tr>\n",
       "    <tr>\n",
       "      <th>sigma</th>\n",
       "      <td>62.55</td>\n",
       "      <td>4.56</td>\n",
       "      <td>54.79</td>\n",
       "      <td>69.43</td>\n",
       "    </tr>\n",
       "  </tbody>\n",
       "</table>\n",
       "</div>"
      ],
      "text/plain": [
       "        Mean  StdDev  |0.89  0.89|\n",
       "m       0.80    0.03   0.75   0.85\n",
       "sigma  62.55    4.56  54.79  69.43"
      ]
     },
     "execution_count": 87,
     "metadata": {},
     "output_type": "execute_result"
    }
   ],
   "source": [
    "precis(netModel)"
   ]
  },
  {
   "cell_type": "code",
   "execution_count": 102,
   "metadata": {},
   "outputs": [
    {
     "data": {
      "text/plain": [
       "gross_wt    float64\n",
       "net_wt      float64\n",
       "dtype: object"
      ]
     },
     "execution_count": 102,
     "metadata": {},
     "output_type": "execute_result"
    }
   ],
   "source": [
    "netData.dtypes"
   ]
  },
  {
   "cell_type": "code",
   "execution_count": 152,
   "metadata": {},
   "outputs": [],
   "source": [
    "# taking a subset of missing net_wt values\n",
    "fillNet = sh.copy()[(~sh['gross_wt'].isna()) & (sh['net_wt'].isna())]\n",
    "fillNet.loc[:, 'net_wt'] = fillNet['net_wt'].fillna(0) # 0s instead of NaNs?\n",
    "\n",
    "# use torch.floats ?\n",
    "gross_wtFILL = torch.tensor(fillNet[\"gross_wt\"].values, dtype=torch.float)\n",
    "net_wtFILL = torch.tensor(fillNet[\"net_wt\"].values, dtype=torch.float) # sim wants tensors\n",
    "\n",
    "fillNetPair = {\"gross_wt\": gross_wtFILL}\n",
    "\n",
    "# using the trained model to fill in missing values\n",
    "netPred = sim(netModel, fillNetPair, n=int(1e4)) \n",
    "\n",
    "\n",
    "\n",
    "\n",
    "# example\n",
    "# pred_data = {\"marriage\": R_seq, \"median_age_marriage\": A_avg.expand_as(R_seq)}\n",
    "\n",
    "# # compute counterfactual mean divorce (mu)\n",
    "# mu = link(m5_3, data=pred_data)\n",
    "# mu_mean = mu.mean(0)\n",
    "# mu_PI = stats.pi(mu, 0.89, dim=0)\n",
    "\n",
    "# # simulate counterfactual divorce outcomes\n",
    "# R_sim = sim(m5_3, data=pred_data, n=int(1e4))"
   ]
  },
  {
   "cell_type": "code",
   "execution_count": 153,
   "metadata": {},
   "outputs": [
    {
     "data": {
      "text/plain": [
       "tensor([[270.1053, 356.0332, 604.5569,  ..., 631.4575, 315.5721, 545.8282],\n",
       "        [252.6828, 430.4397, 657.4655,  ..., 641.9639, 355.4886, 627.8801],\n",
       "        [241.9848, 452.2124, 511.4755,  ..., 563.9434, 282.2535, 575.4324],\n",
       "        ...,\n",
       "        [190.5428, 386.3636, 615.5149,  ..., 669.1935, 282.1034, 563.7313],\n",
       "        [280.5052, 590.8213, 534.6596,  ..., 767.5511, 216.3159, 678.9118],\n",
       "        [438.5371, 695.6119, 669.7462,  ..., 604.7857, 322.1996, 582.6583]])"
      ]
     },
     "execution_count": 153,
     "metadata": {},
     "output_type": "execute_result"
    }
   ],
   "source": [
    "netPred"
   ]
  },
  {
   "cell_type": "code",
   "execution_count": 123,
   "metadata": {},
   "outputs": [],
   "source": [
    "fillNet['gross_wt'] = fillNet['gross_wt'].fillna(0)\n",
    "\n",
    "# Convert 'gross_wt' column to NumPy array\n",
    "gross_wt_array = fillNet['gross_wt'].values\n",
    "\n",
    "# Convert NumPy array to torch tensor\n",
    "gross_wtFILL = torch.tensor(gross_wt_array, dtype=torch.float)"
   ]
  }
 ],
 "metadata": {
  "kernelspec": {
   "display_name": "base",
   "language": "python",
   "name": "python3"
  },
  "language_info": {
   "codemirror_mode": {
    "name": "ipython",
    "version": 3
   },
   "file_extension": ".py",
   "mimetype": "text/x-python",
   "name": "python",
   "nbconvert_exporter": "python",
   "pygments_lexer": "ipython3",
   "version": "3.11.4"
  }
 },
 "nbformat": 4,
 "nbformat_minor": 2
}
