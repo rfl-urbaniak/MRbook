{
 "cells": [
  {
   "cell_type": "markdown",
   "metadata": {},
   "source": [
    "# United States v. Shonubi (1997)"
   ]
  },
  {
   "cell_type": "code",
   "execution_count": 34,
   "metadata": {},
   "outputs": [],
   "source": [
    "# packages\n",
    "\n",
    "import pyro\n",
    "import pyro.distributions as dist\n",
    "from pyro.infer import Predictive\n",
    "\n",
    "import pyro.ops.stats as stats\n",
    "from pyro.infer import Predictive, SVI, Trace_ELBO, TracePredictive\n",
    "from pyro.infer.autoguide import AutoDiagonalNormal, AutoMultivariateNormal\n",
    "from pyro.nn import PyroSample, PyroModule\n",
    "from pyro.optim import Adam\n",
    "from torch import nn\n",
    "import pyro.poutine as poutine\n",
    "\n",
    "\n",
    "import os\n",
    "from functools import partial\n",
    "import torch\n",
    "import inspect\n",
    "import logging\n",
    "import numpy as np\n",
    "import pandas as pd\n",
    "import seaborn as sns\n",
    "import matplotlib.pyplot as plt\n",
    "\n",
    "\n",
    "logging.basicConfig(format='%(message)s', level=logging.INFO)\n",
    "smoke_test = ('CI' in os.environ)\n",
    "\n",
    "%matplotlib inline\n",
    "plt.style.use('default')"
   ]
  },
  {
   "cell_type": "code",
   "execution_count": 19,
   "metadata": {},
   "outputs": [],
   "source": [
    "# def run_svi_inference(\n",
    "#     model,\n",
    "#     num_steps=500,\n",
    "#     verbose=True,\n",
    "#     lr=0.03,\n",
    "#     guide=None,\n",
    "#     blocked_sites=None,\n",
    "#     **model_kwargs,\n",
    "# ):\n",
    "#     losses = []\n",
    "#     # running_loss_means = []\n",
    "#     if guide is None:\n",
    "#         guide = AutoMultivariateNormal(pyro.poutine.block(model, hide=blocked_sites))\n",
    "#     elbo = pyro.infer.Trace_ELBO()(model, guide)\n",
    "\n",
    "#     elbo(**model_kwargs)\n",
    "#     adam = torch.optim.Adam(elbo.parameters(), lr=lr)\n",
    "#     print(f\"Running SVI for {num_steps} steps...\")\n",
    "#     for step in range(1, num_steps + 1):\n",
    "#         adam.zero_grad()\n",
    "#         loss = elbo(**model_kwargs)\n",
    "#         loss.backward()\n",
    "#         losses.append(loss.item())\n",
    "#         adam.step()\n",
    "#         if (step % 100 == 0) or (step == 1) & verbose:\n",
    "#             print(\"[iteration %04d] loss: %.4f\" % (step, loss))\n",
    "\n",
    "#     plt.figure()\n",
    "#     plt.plot(losses, label=\"ELBO loss\")\n",
    "#     sns.despine()\n",
    "#     plt.title(\"ELBO Loss\")\n",
    "#     plt.ylim(0, max(losses))\n",
    "#     plt.legend()\n",
    "#     plt.show()\n",
    "\n",
    "#     return guide\n",
    "   \n",
    "\n",
    "\n",
    "\n",
    "# def get_samples(\n",
    "#     distance,\n",
    "#     proximity,\n",
    "#     how_far,\n",
    "#     model= model_sigmavar_proximity,\n",
    "#     num_svi_iters=num_svi_iters,\n",
    "#     num_samples=num_samples,\n",
    "# ):\n",
    "#     guide = AutoMultivariateNormal(model, init_loc_fn=init_to_mean)\n",
    "#     svi = SVI(\n",
    "#         model_sigmavar_proximity, guide, optim.Adam({\"lr\": 0.01}), loss=Trace_ELBO()\n",
    "#     )\n",
    "\n",
    "#     iterations = []\n",
    "#     losses = []\n",
    "\n",
    "#     logging.info(f\"Starting SVI inference with {num_svi_iters} iterations.\")\n",
    "#     start_time = time.time()\n",
    "#     pyro.clear_param_store()\n",
    "#     for i in range(num_svi_iters):\n",
    "#         elbo = svi.step(distance, proximity, how_far)\n",
    "#         iterations.append(i)\n",
    "#         losses.append(elbo)\n",
    "#         if i % 50 == 0:\n",
    "#             logging.info(\"Elbo loss: {}\".format(elbo))\n",
    "#     end_time = time.time()\n",
    "#     elapsed_time = end_time - start_time\n",
    "#     logging.info(\"SVI inference completed in %.2f seconds.\", elapsed_time)\n",
    "\n",
    "#     # uncomment if you want to see the ELBO loss plots\n",
    "#     # fig = px.line(x=iterations, y=losses, title=\"ELBO loss\", template=\"presentation\")\n",
    "#     # labels = {\"iterations\": \"iteration\", \"losses\": \"loss\"}\n",
    "#     # fig.update_xaxes(showgrid=False, title_text=labels[\"iterations\"])\n",
    "#     # fig.update_yaxes(showgrid=False, title_text=labels[\"losses\"])\n",
    "#     # fig.update_layout(width=700)\n",
    "#     # fig.show()\n",
    "\n",
    "#     predictive = Predictive(model, guide=guide, num_samples=num_samples)\n",
    "\n",
    "#     proximity_svi = {\n",
    "#         k: v.flatten().reshape(num_samples, -1).detach().cpu().numpy()\n",
    "#         for k, v in predictive(distance, proximity, how_far).items()\n",
    "#         if k != \"obs\"\n",
    "#     }\n",
    "\n",
    "#     print(\"SVI-based coefficient marginals:\")\n",
    "#     for site, values in ft.summary(proximity_svi, [\"d\", \"p\"]).items():\n",
    "#         print(\"Site: {}\".format(site))\n",
    "#         print(values, \"\\n\")\n",
    "\n",
    "#     return {\n",
    "#         \"svi_samples\": proximity_svi,\n",
    "#         \"svi_guide\": guide,\n",
    "#         \"svi_predictive\": predictive,\n",
    "#     }\n",
    "    \n",
    "    "
   ]
  },
  {
   "cell_type": "code",
   "execution_count": 35,
   "metadata": {},
   "outputs": [],
   "source": [
    "def summary_sample(samples):\n",
    "    site_stats = {}\n",
    "    for site_name, values in samples.items():\n",
    "        marginal_site = pd.DataFrame(values)\n",
    "        describe = marginal_site.describe(percentiles=[.05, 0.95]).transpose()\n",
    "        site_stats[site_name] = describe[[\"mean\", \"std\", \"5%\", \"95%\"]]\n",
    "    return site_stats\n",
    "\n",
    "def precis(samples):\n",
    "\n",
    "    for site, values in summary_sample(samples).items():\n",
    "        print(\"Site: {}\".format(site))\n",
    "        print(values, \"\\n\") "
   ]
  },
  {
   "cell_type": "code",
   "execution_count": 36,
   "metadata": {},
   "outputs": [],
   "source": [
    "# the dataset\n",
    "\n",
    "sh = pd.read_csv('ShonubiCaseDataset.csv')\n",
    "sh.head(5)\n",
    "\n",
    "sh.rename(columns={' balloons': 'balloons'}, inplace=True)"
   ]
  },
  {
   "cell_type": "markdown",
   "metadata": {},
   "source": [
    "FIRST, STRATEGY WHICH USES POSTERIOR MEANS ONLY\n",
    "\n",
    "\n",
    "note there are 107 cases with gross_wt, but no net_wt. Let's first predict\n",
    "those, then fill them in to predict weight based on balloons"
   ]
  },
  {
   "cell_type": "code",
   "execution_count": 37,
   "metadata": {},
   "outputs": [],
   "source": [
    "compData = sh[['gross_wt', 'net_wt']].dropna()\n",
    "\n",
    "data_gross = torch.tensor(compData[[\"gross_wt\", \"net_wt\"]].values,\n",
    "                        dtype=torch.float)\n",
    "\n",
    "gross_wt, net_wt  = data_gross[:, 0], data_gross[:, 1]\n",
    "    \n",
    "    \n",
    "def model_net1(gross_wt, net_wt = None):\n",
    "    b_a = pyro.sample(\"bA\", dist.Normal(0.6, 0.3))\n",
    "    sigma = pyro.sample(\"sigma\", dist.Uniform(0., 150.))\n",
    "    mean = b_a * gross_wt\n",
    "    with pyro.plate(\"data_gross\", len(gross_wt)):\n",
    "        pyro.sample(\"obs\", dist.Normal(mean, sigma), obs=net_wt)\n",
    "        \n",
    "        "
   ]
  },
  {
   "cell_type": "code",
   "execution_count": 38,
   "metadata": {},
   "outputs": [],
   "source": [
    "guide_net1 = AutoDiagonalNormal(model_net1)\n",
    "adam = pyro.optim.Adam({\"lr\": 0.03})\n",
    "\n",
    "svi__net1 = SVI(model_net1, guide_net1, adam, loss=Trace_ELBO())\n",
    "\n",
    "\n"
   ]
  },
  {
   "cell_type": "code",
   "execution_count": 40,
   "metadata": {},
   "outputs": [
    {
     "name": "stderr",
     "output_type": "stream",
     "text": [
      "Elbo loss: 778.0695116519928\n"
     ]
    },
    {
     "name": "stderr",
     "output_type": "stream",
     "text": [
      "Elbo loss: 775.4913767576218\n",
      "Elbo loss: 776.4200291633606\n"
     ]
    }
   ],
   "source": [
    "num_iterations = 1500 if not smoke_test else 2\n",
    "\n",
    "for i in range(num_iterations):\n",
    "    elbo = svi__net1.step(gross_wt, net_wt)\n",
    "    if i % 500 == 0:\n",
    "        logging.info(\"Elbo loss: {}\".format(elbo))"
   ]
  },
  {
   "cell_type": "code",
   "execution_count": 41,
   "metadata": {},
   "outputs": [],
   "source": [
    "num_samples = 1000\n",
    "predictive = Predictive(model_net1, guide=guide_net1, num_samples=num_samples)\n",
    "svi_samples = {k: v.reshape(num_samples).detach().cpu().numpy()\n",
    "               for k, v in predictive(gross_wt, net_wt).items()\n",
    "               if k != \"obs\"}"
   ]
  },
  {
   "cell_type": "code",
   "execution_count": 42,
   "metadata": {},
   "outputs": [
    {
     "name": "stdout",
     "output_type": "stream",
     "text": [
      "Site: bA\n",
      "       mean       std        5%       95%\n",
      "0  0.615261  0.017997  0.585699  0.644557 \n",
      "\n",
      "Site: sigma\n",
      "        mean       std          5%         95%\n",
      "0  129.10434  4.574763  121.099046  135.533887 \n",
      "\n"
     ]
    }
   ],
   "source": [
    "precis(svi_samples)\n",
    "\n",
    "#note how the model is pretty certain about where the mean is, but has a\n",
    "#rather huge sd. If we focus on mean values, we ignore this uncertainty\n"
   ]
  },
  {
   "cell_type": "code",
   "execution_count": 43,
   "metadata": {},
   "outputs": [
    {
     "data": {
      "image/png": "[encoded data removed]",
      "text/plain": [
       "<Figure size 640x480 with 1 Axes>"
      ]
     },
     "metadata": {},
     "output_type": "display_data"
    }
   ],
   "source": [
    "# density plot of a slope\n",
    "\n",
    "prior_bA = pyro.sample(\"bA\", dist.Normal(0.6, 0.3).expand([500]))\n",
    "\n",
    "sns.kdeplot(svi_samples['bA'], fill=False)\n",
    "sns.kdeplot(prior_bA, fill=False)\n",
    "plt.title('Slope: prior vs posterior')\n",
    "plt.show()"
   ]
  },
  {
   "cell_type": "code",
   "execution_count": 44,
   "metadata": {},
   "outputs": [
    {
     "data": {
      "text/plain": [
       "dict_keys(['bA', 'sigma', 'obs'])"
      ]
     },
     "execution_count": 44,
     "metadata": {},
     "output_type": "execute_result"
    }
   ],
   "source": [
    "predictive = Predictive(model_net1, guide=guide_net1, num_samples=num_samples)\n",
    "samples1 = predictive(gross_wt)\n",
    "samples1.keys()"
   ]
  },
  {
   "cell_type": "code",
   "execution_count": 45,
   "metadata": {},
   "outputs": [],
   "source": [
    "def summary(samples):\n",
    "    site_stats = {}\n",
    "    for k, v in samples.items():\n",
    "        site_stats[k] = {\n",
    "            \"mean\": torch.mean(v, 0),\n",
    "            \"std\": torch.std(v, 0),\n",
    "            \"5%\": v.kthvalue(int(len(v) * 0.05), dim=0)[0],\n",
    "            \"95%\": v.kthvalue(int(len(v) * 0.95), dim=0)[0],\n",
    "        }\n",
    "    return site_stats\n",
    "\n",
    "pred_summary = summary(samples1)"
   ]
  },
  {
   "cell_type": "code",
   "execution_count": 46,
   "metadata": {},
   "outputs": [
    {
     "data": {
      "text/html": [
       "<div>\n",
       "<style scoped>\n",
       "    .dataframe tbody tr th:only-of-type {\n",
       "        vertical-align: middle;\n",
       "    }\n",
       "\n",
       "    .dataframe tbody tr th {\n",
       "        vertical-align: top;\n",
       "    }\n",
       "\n",
       "    .dataframe thead th {\n",
       "        text-align: right;\n",
       "    }\n",
       "</style>\n",
       "<table border=\"1\" class=\"dataframe\">\n",
       "  <thead>\n",
       "    <tr style=\"text-align: right;\">\n",
       "      <th></th>\n",
       "      <th>gross_wt</th>\n",
       "      <th>y_mean</th>\n",
       "      <th>y_perc_5</th>\n",
       "      <th>y_perc_95</th>\n",
       "      <th>net_wt</th>\n",
       "    </tr>\n",
       "  </thead>\n",
       "  <tbody>\n",
       "    <tr>\n",
       "      <th>0</th>\n",
       "      <td>742.400024</td>\n",
       "      <td>456.362183</td>\n",
       "      <td>248.657349</td>\n",
       "      <td>687.387817</td>\n",
       "      <td>503.200012</td>\n",
       "    </tr>\n",
       "    <tr>\n",
       "      <th>1</th>\n",
       "      <td>901.700012</td>\n",
       "      <td>554.851807</td>\n",
       "      <td>349.193237</td>\n",
       "      <td>761.024475</td>\n",
       "      <td>576.900024</td>\n",
       "    </tr>\n",
       "    <tr>\n",
       "      <th>2</th>\n",
       "      <td>800.200012</td>\n",
       "      <td>485.037903</td>\n",
       "      <td>275.886810</td>\n",
       "      <td>701.721619</td>\n",
       "      <td>573.299988</td>\n",
       "    </tr>\n",
       "    <tr>\n",
       "      <th>3</th>\n",
       "      <td>706.200012</td>\n",
       "      <td>430.569763</td>\n",
       "      <td>207.369019</td>\n",
       "      <td>638.587402</td>\n",
       "      <td>439.799988</td>\n",
       "    </tr>\n",
       "    <tr>\n",
       "      <th>4</th>\n",
       "      <td>72.199997</td>\n",
       "      <td>46.329597</td>\n",
       "      <td>-155.256439</td>\n",
       "      <td>261.128845</td>\n",
       "      <td>23.100000</td>\n",
       "    </tr>\n",
       "  </tbody>\n",
       "</table>\n",
       "</div>"
      ],
      "text/plain": [
       "     gross_wt      y_mean    y_perc_5   y_perc_95      net_wt\n",
       "0  742.400024  456.362183  248.657349  687.387817  503.200012\n",
       "1  901.700012  554.851807  349.193237  761.024475  576.900024\n",
       "2  800.200012  485.037903  275.886810  701.721619  573.299988\n",
       "3  706.200012  430.569763  207.369019  638.587402  439.799988\n",
       "4   72.199997   46.329597 -155.256439  261.128845   23.100000"
      ]
     },
     "execution_count": 46,
     "metadata": {},
     "output_type": "execute_result"
    }
   ],
   "source": [
    "y = pred_summary[\"obs\"]\n",
    "\n",
    "predictions = pd.DataFrame({\n",
    "    \"gross_wt\": gross_wt,\n",
    "    \"y_mean\": y[\"mean\"],\n",
    "    \"y_perc_5\": y[\"5%\"],\n",
    "    \"y_perc_95\": y[\"95%\"],\n",
    "    \"net_wt\": net_wt,\n",
    "})\n",
    "\n",
    "predictions.head()"
   ]
  },
  {
   "cell_type": "code",
   "execution_count": 47,
   "metadata": {},
   "outputs": [
    {
     "data": {
      "image/png": "[encoded data removed]",
      "text/plain": [
       "<Figure size 640x480 with 1 Axes>"
      ]
     },
     "metadata": {},
     "output_type": "display_data"
    }
   ],
   "source": [
    "\n",
    "predictions = predictions.sort_values(by=[\"gross_wt\"])\n",
    "\n",
    "plt.plot(predictions[\"gross_wt\"], predictions[\"y_mean\"], label='Mean Prediction')\n",
    "plt.fill_between(predictions['gross_wt'],\n",
    "                  predictions[\"y_perc_5\"],\n",
    "                    predictions[\"y_perc_95\"], alpha=0.5, label='95% Confidence Interval')\n",
    "plt.plot(predictions[\"gross_wt\"], predictions[\"net_wt\"], \"o\",\n",
    "          markersize=4, label='Actual Net Weight')\n",
    "\n",
    "plt.title('Posterior Predictive Plot')\n",
    "plt.xlabel('Gross Weight')\n",
    "plt.ylabel('Net Weight')\n",
    "plt.legend()\n",
    "\n",
    "plt.show()\n"
   ]
  },
  {
   "cell_type": "markdown",
   "metadata": {},
   "source": [
    "## Filling missing net values"
   ]
  },
  {
   "cell_type": "code",
   "execution_count": 48,
   "metadata": {},
   "outputs": [],
   "source": [
    "# taking a subset of missing net_wt values\n",
    "\n",
    "fillNet = sh.copy()[(~sh['gross_wt'].isna()) & (sh['net_wt'].isna())]\n",
    "gross_wtFILL = torch.tensor(fillNet[\"gross_wt\"].values, dtype=torch.float)\n",
    "\n",
    "samples_FILL = predictive(gross_wtFILL)\n",
    "\n",
    "samples_preds = samples_FILL['obs']\n",
    "samples_preds_summ = summary(samples_FILL)['obs']\n"
   ]
  },
  {
   "cell_type": "markdown",
   "metadata": {},
   "source": [
    "Summary of predictions for missing net weights:"
   ]
  },
  {
   "cell_type": "code",
   "execution_count": 49,
   "metadata": {},
   "outputs": [
    {
     "data": {
      "text/html": [
       "<div>\n",
       "<style scoped>\n",
       "    .dataframe tbody tr th:only-of-type {\n",
       "        vertical-align: middle;\n",
       "    }\n",
       "\n",
       "    .dataframe tbody tr th {\n",
       "        vertical-align: top;\n",
       "    }\n",
       "\n",
       "    .dataframe thead th {\n",
       "        text-align: right;\n",
       "    }\n",
       "</style>\n",
       "<table border=\"1\" class=\"dataframe\">\n",
       "  <thead>\n",
       "    <tr style=\"text-align: right;\">\n",
       "      <th></th>\n",
       "      <th>gross_wt</th>\n",
       "      <th>y_mean</th>\n",
       "      <th>y_perc_5</th>\n",
       "      <th>y_perc_95</th>\n",
       "    </tr>\n",
       "  </thead>\n",
       "  <tbody>\n",
       "    <tr>\n",
       "      <th>0</th>\n",
       "      <td>331.0</td>\n",
       "      <td>203.219635</td>\n",
       "      <td>-18.165802</td>\n",
       "      <td>416.385864</td>\n",
       "    </tr>\n",
       "    <tr>\n",
       "      <th>1</th>\n",
       "      <td>572.0</td>\n",
       "      <td>347.002991</td>\n",
       "      <td>140.386932</td>\n",
       "      <td>552.680481</td>\n",
       "    </tr>\n",
       "    <tr>\n",
       "      <th>2</th>\n",
       "      <td>698.0</td>\n",
       "      <td>429.775238</td>\n",
       "      <td>221.961960</td>\n",
       "      <td>630.185181</td>\n",
       "    </tr>\n",
       "    <tr>\n",
       "      <th>3</th>\n",
       "      <td>594.0</td>\n",
       "      <td>361.320526</td>\n",
       "      <td>136.574539</td>\n",
       "      <td>581.253113</td>\n",
       "    </tr>\n",
       "    <tr>\n",
       "      <th>4</th>\n",
       "      <td>204.0</td>\n",
       "      <td>122.739143</td>\n",
       "      <td>-86.272064</td>\n",
       "      <td>327.015930</td>\n",
       "    </tr>\n",
       "  </tbody>\n",
       "</table>\n",
       "</div>"
      ],
      "text/plain": [
       "   gross_wt      y_mean    y_perc_5   y_perc_95\n",
       "0     331.0  203.219635  -18.165802  416.385864\n",
       "1     572.0  347.002991  140.386932  552.680481\n",
       "2     698.0  429.775238  221.961960  630.185181\n",
       "3     594.0  361.320526  136.574539  581.253113\n",
       "4     204.0  122.739143  -86.272064  327.015930"
      ]
     },
     "execution_count": 49,
     "metadata": {},
     "output_type": "execute_result"
    }
   ],
   "source": [
    "predictions_df = pd.DataFrame({\n",
    "    \"gross_wt\": gross_wtFILL,\n",
    "    \"y_mean\": samples_preds_summ[\"mean\"],\n",
    "    \"y_perc_5\": samples_preds_summ[\"5%\"],\n",
    "    \"y_perc_95\": samples_preds_summ[\"95%\"],\n",
    "})\n",
    "\n",
    "predictions_df.head()"
   ]
  },
  {
   "cell_type": "markdown",
   "metadata": {},
   "source": [
    "Adding columns with estimates of net weights"
   ]
  },
  {
   "cell_type": "code",
   "execution_count": 50,
   "metadata": {},
   "outputs": [
    {
     "data": {
      "text/html": [
       "<div>\n",
       "<style scoped>\n",
       "    .dataframe tbody tr th:only-of-type {\n",
       "        vertical-align: middle;\n",
       "    }\n",
       "\n",
       "    .dataframe tbody tr th {\n",
       "        vertical-align: top;\n",
       "    }\n",
       "\n",
       "    .dataframe thead th {\n",
       "        text-align: right;\n",
       "    }\n",
       "</style>\n",
       "<table border=\"1\" class=\"dataframe\">\n",
       "  <thead>\n",
       "    <tr style=\"text-align: right;\">\n",
       "      <th></th>\n",
       "      <th>obs</th>\n",
       "      <th>dataset</th>\n",
       "      <th>balloons</th>\n",
       "      <th>gross_wt</th>\n",
       "      <th>net_wt</th>\n",
       "      <th>purity</th>\n",
       "      <th>age_yrs</th>\n",
       "      <th>gender</th>\n",
       "      <th>netestimate_mean</th>\n",
       "      <th>netestimate_low</th>\n",
       "    </tr>\n",
       "  </thead>\n",
       "  <tbody>\n",
       "    <tr>\n",
       "      <th>0</th>\n",
       "      <td>1.0</td>\n",
       "      <td>1.0</td>\n",
       "      <td>79.0</td>\n",
       "      <td>742.4</td>\n",
       "      <td>503.2</td>\n",
       "      <td>0.51</td>\n",
       "      <td>NaN</td>\n",
       "      <td>NaN</td>\n",
       "      <td>503.2</td>\n",
       "      <td>503.2</td>\n",
       "    </tr>\n",
       "    <tr>\n",
       "      <th>1</th>\n",
       "      <td>2.0</td>\n",
       "      <td>1.0</td>\n",
       "      <td>90.0</td>\n",
       "      <td>901.7</td>\n",
       "      <td>576.9</td>\n",
       "      <td>0.32</td>\n",
       "      <td>NaN</td>\n",
       "      <td>NaN</td>\n",
       "      <td>576.9</td>\n",
       "      <td>576.9</td>\n",
       "    </tr>\n",
       "    <tr>\n",
       "      <th>2</th>\n",
       "      <td>3.0</td>\n",
       "      <td>12.0</td>\n",
       "      <td>90.0</td>\n",
       "      <td>800.2</td>\n",
       "      <td>573.3</td>\n",
       "      <td>0.85</td>\n",
       "      <td>38.0</td>\n",
       "      <td>1.0</td>\n",
       "      <td>573.3</td>\n",
       "      <td>573.3</td>\n",
       "    </tr>\n",
       "    <tr>\n",
       "      <th>3</th>\n",
       "      <td>4.0</td>\n",
       "      <td>12.0</td>\n",
       "      <td>1.0</td>\n",
       "      <td>706.2</td>\n",
       "      <td>439.8</td>\n",
       "      <td>0.75</td>\n",
       "      <td>41.0</td>\n",
       "      <td>1.0</td>\n",
       "      <td>439.8</td>\n",
       "      <td>439.8</td>\n",
       "    </tr>\n",
       "    <tr>\n",
       "      <th>4</th>\n",
       "      <td>5.0</td>\n",
       "      <td>1.0</td>\n",
       "      <td>5.0</td>\n",
       "      <td>72.2</td>\n",
       "      <td>23.1</td>\n",
       "      <td>0.62</td>\n",
       "      <td>NaN</td>\n",
       "      <td>NaN</td>\n",
       "      <td>23.1</td>\n",
       "      <td>23.1</td>\n",
       "    </tr>\n",
       "  </tbody>\n",
       "</table>\n",
       "</div>"
      ],
      "text/plain": [
       "   obs  dataset  balloons  gross_wt  net_wt  purity  age_yrs  gender  \\\n",
       "0  1.0      1.0      79.0     742.4   503.2    0.51      NaN     NaN   \n",
       "1  2.0      1.0      90.0     901.7   576.9    0.32      NaN     NaN   \n",
       "2  3.0     12.0      90.0     800.2   573.3    0.85     38.0     1.0   \n",
       "3  4.0     12.0       1.0     706.2   439.8    0.75     41.0     1.0   \n",
       "4  5.0      1.0       5.0      72.2    23.1    0.62      NaN     NaN   \n",
       "\n",
       "   netestimate_mean  netestimate_low  \n",
       "0             503.2            503.2  \n",
       "1             576.9            576.9  \n",
       "2             573.3            573.3  \n",
       "3             439.8            439.8  \n",
       "4              23.1             23.1  "
      ]
     },
     "execution_count": 50,
     "metadata": {},
     "output_type": "execute_result"
    }
   ],
   "source": [
    "merged_df = pd.merge(sh, predictions_df, on='gross_wt', how='left')\n",
    "merged_df['netestimate_mean'] = merged_df['net_wt'].fillna(merged_df['y_mean'])\n",
    "merged_df['netestimate_low'] = merged_df['net_wt'].fillna(merged_df['y_perc_5'])\n",
    "sh_est = merged_df.drop(['y_mean', 'y_perc_5', 'y_perc_95'], axis=1)\n",
    "\n",
    "sh_est.head()"
   ]
  },
  {
   "cell_type": "markdown",
   "metadata": {},
   "source": [
    "# Balloons"
   ]
  },
  {
   "cell_type": "markdown",
   "metadata": {},
   "source": [
    "Model that predicts net_weight using balloons as a predictor and MEAN estimates of net values"
   ]
  },
  {
   "cell_type": "code",
   "execution_count": 66,
   "metadata": {},
   "outputs": [],
   "source": [
    "compDataBalloons = sh_est[['balloons', 'netestimate_mean', 'netestimate_low']].dropna()\n",
    "\n",
    "data_balloons = torch.tensor(compDataBalloons[['balloons', 'netestimate_mean', 'netestimate_low']].values,\n",
    "                        dtype=torch.float)\n",
    "\n",
    "\n",
    "balloons, netestimate_mean, netestimate_low  = data_balloons[:, 0], data_balloons[:, 1], data_balloons[:, 2]\n",
    "    \n",
    "    \n",
    "def balloonsModelMean(balloons, netestimate_mean = None):\n",
    "    \n",
    "    b = pyro.sample(\"b\", dist.Normal(15, 25))\n",
    "    sigma = pyro.sample(\"sigma\", dist.Normal(200, 200))\n",
    "    mean = b * balloons\n",
    "    \n",
    "    with pyro.plate(\"data_balloons\", len(balloons)):\n",
    "        pyro.sample(\"obs\", dist.Normal(mean, sigma), obs=netestimate_mean)\n",
    "\n"
   ]
  },
  {
   "cell_type": "code",
   "execution_count": 67,
   "metadata": {},
   "outputs": [],
   "source": [
    "guide_balloonsModelMean = AutoDiagonalNormal(balloonsModelMean)\n",
    "\n",
    "svi__balloonsModelMean = SVI(balloonsModelMean, guide_balloonsModelMean, adam, loss=Trace_ELBO())\n",
    "\n",
    "predictive = Predictive(balloonsModelMean, guide=guide_balloonsModelMean, num_samples=num_samples)"
   ]
  },
  {
   "cell_type": "code",
   "execution_count": 68,
   "metadata": {},
   "outputs": [
    {
     "name": "stderr",
     "output_type": "stream",
     "text": [
      "Elbo loss: 10358664.361952066\n"
     ]
    },
    {
     "name": "stderr",
     "output_type": "stream",
     "text": [
      "Elbo loss: 126991.83689284325\n",
      "Elbo loss: 88761.03239035606\n"
     ]
    }
   ],
   "source": [
    "num_iterations = 1500 if not smoke_test else 2\n",
    "\n",
    "for i in range(num_iterations):\n",
    "    elbo = svi__balloonsModelMean.step(balloons, netestimate_mean)\n",
    "    if i % 500 == 0:\n",
    "        logging.info(\"Elbo loss: {}\".format(elbo))"
   ]
  },
  {
   "cell_type": "code",
   "execution_count": 72,
   "metadata": {},
   "outputs": [
    {
     "name": "stdout",
     "output_type": "stream",
     "text": [
      "Site: b\n",
      "       mean       std        5%      95%\n",
      "0  6.339702  0.019081  6.309557  6.37137 \n",
      "\n",
      "Site: sigma\n",
      "       mean       std        5%       95%\n",
      "0  8.522701  0.112696  8.334236  8.699876 \n",
      "\n"
     ]
    }
   ],
   "source": [
    "svi_samples_balloonsMEAN = {k: v.reshape(num_samples).detach().cpu().numpy()\n",
    "               for k, v in predictive(balloons, netestimate_mean).items()\n",
    "               if k != \"obs\"}\n",
    "precis(svi_samples_balloonsMEAN)"
   ]
  },
  {
   "cell_type": "code",
   "execution_count": null,
   "metadata": {},
   "outputs": [],
   "source": []
  },
  {
   "cell_type": "markdown",
   "metadata": {},
   "source": [
    "Model that predicts net_weight using balloons as a predictor and LOWER percentile estimates of net values"
   ]
  },
  {
   "cell_type": "code",
   "execution_count": null,
   "metadata": {},
   "outputs": [],
   "source": []
  },
  {
   "cell_type": "code",
   "execution_count": null,
   "metadata": {},
   "outputs": [],
   "source": []
  },
  {
   "cell_type": "code",
   "execution_count": null,
   "metadata": {},
   "outputs": [],
   "source": []
  }
 ],
 "metadata": {
  "kernelspec": {
   "display_name": "base",
   "language": "python",
   "name": "python3"
  },
  "language_info": {
   "codemirror_mode": {
    "name": "ipython",
    "version": 3
   },
   "file_extension": ".py",
   "mimetype": "text/x-python",
   "name": "python",
   "nbconvert_exporter": "python",
   "pygments_lexer": "ipython3",
   "version": "3.11.9"
  }
 },
 "nbformat": 4,
 "nbformat_minor": 2
}
