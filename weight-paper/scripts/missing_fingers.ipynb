{
 "cells": [
  {
   "cell_type": "code",
   "execution_count": 1,
   "metadata": {},
   "outputs": [],
   "source": [
    "import torch\n",
    "import pyro\n",
    "\n",
    "from typing import Dict, List\n",
    "from scipy.stats import entropy\n",
    "from scipy.stats import beta\n",
    "import pyro.distributions as dist\n",
    "\n",
    "import pandas as pd\n",
    "import numpy as np\n",
    "\n",
    "import matplotlib.pyplot as plt\n",
    "import seaborn as sns"
   ]
  },
  {
   "cell_type": "markdown",
   "metadata": {},
   "source": [
    "\n",
    "\n",
    "A video shows a men part of ISIS beheading another person. The question is identity. The man in the video has a pair of missing fingers. A suspect is identified, has missing fingers and matches other characteristics (travelled to Syria, participated in ISIS etc.). Suspect denies beheading the person in the video.\n",
    "\n",
    "Key identification evidence:\n",
    "\n",
    "    suspect's missing fingers are missing in the same places as the missing fingers of the person in the video.\n",
    "    probability of random match in Swedish population based on police database is assessed to be 2/20,000\n",
    "    only 2 matches in 20,000 entry database\n",
    "    matching fingers of people in database are of people who died at the time of the crime\n",
    "\n",
    "Missing evidence:\n",
    "\n",
    "    database is based on Swedish population, not ISIS members, random match probability could have been different\n",
    "\n",
    "Suspect is acquitted or charges because evidence was not robust\n",
    "\n",
    "Interesting quotation:\n",
    "\"The court explains that a random match probability of 1 in 10 000 would have been sufficient for proof beyond\n",
    "reasonable doubt, given the other circumstances of the case, if this probability had\n",
    "been robust, but in the absence of more reference data on people affiliated with ISIS it\n",
    "is not sufficiently robust for the standard of proof in criminal cases.\" (p. 142)\n",
    "\n",
    "Weight question in this case:\n",
    "\n",
    "    Had an ISIS database been available at trial, how would the overall evidence have changed?\n"
   ]
  },
  {
   "cell_type": "code",
   "execution_count": 2,
   "metadata": {},
   "outputs": [],
   "source": [
    "# this is just a definition of a function that we will be using for sampling from the model and \n",
    "# creating plots of the samples\n",
    "\n",
    "def plot_from_nodes(nodes, filters: Dict[str, float] = None, nodes_to_plot: List[str] = None, bins = 20):\n",
    "\n",
    "    \"\"\"\n",
    "   The plot_from_nodes function takes a dictionary of nodes, processes their values, optionally filters the data,\n",
    "    and plots histograms for specified nodes. The function then returns the processed DataFrame.\n",
    "    Parameters:\n",
    "    - nodes: Dictionary of nodes containing data.\n",
    "    - filters: Optional dictionary to filter the data based on specified conditions.\n",
    "    - nodes_to_plot: Optional list of specific nodes to plot. If not provided, plots all nodes.\n",
    "    - bins: Number of bins for the histograms (default is 20).\n",
    "\n",
    "    Returns:\n",
    "    - DataFrame of the processed values.\n",
    "    \"\"\"\n",
    "\n",
    "    values = {key: nodes[key]['value'].float().detach().cpu().numpy() for key in nodes.keys() if nodes[key]['name'] != 'samples'}\n",
    "\n",
    "    valuesDF = pd.DataFrame(values)\n",
    "\n",
    "    if filters is not None:\n",
    "        for key in filters.keys():\n",
    "            valuesDF = valuesDF[valuesDF[key] == filters[key]]\n",
    "\n",
    "    if nodes_to_plot is None:\n",
    "        nodes_to_plot = values.keys()\n",
    "\n",
    "    for key in nodes_to_plot:\n",
    "        plt.figure()\n",
    "        plt.hist(valuesDF[key], bins=bins, alpha=0.7, color='blue', density=True)\n",
    "        plt.title(f\"{key}, mean: {valuesDF[key].mean()}\")\n",
    "        plt.xlabel('value')\n",
    "        plt.ylabel('frequency')\n",
    "        sns.despine()\n",
    "        plt.show()  \n",
    "\n",
    "    return valuesDF"
   ]
  },
  {
   "cell_type": "markdown",
   "metadata": {},
   "source": [
    "The function below calculates weight of evidence of a posterior $p$ in a following manner, where $H = -\\sum p \\log(p)$:$$ W(p) = 1 - \\frac{H(p)}{H(\\text{uniform})} $$"
   ]
  },
  {
   "cell_type": "code",
   "execution_count": 3,
   "metadata": {},
   "outputs": [],
   "source": [
    "def weight(posterior: List[float], base = 2) -> float:\n",
    "\n",
    "    grid_length = len(posterior)\n",
    "    x = np.linspace(0, 1, grid_length)\n",
    "    uniform = beta.pdf(x, 1, 1) # def. of a uniform distribution given the size of the posterior\n",
    "    \n",
    "    entropy_uniform = entropy(uniform, base=base) # entropy H(uniform)\n",
    "    entropy_posterior = entropy(posterior, base=base) # entropy H(p)\n",
    "    return 1 - entropy_posterior/entropy_uniform # weight = 1 - H(p)/H(uniform)\n"
   ]
  },
  {
   "cell_type": "code",
   "execution_count": 4,
   "metadata": {},
   "outputs": [
    {
     "data": {
      "text/plain": [
       "tensor(6.4502e-08)"
      ]
     },
     "execution_count": 4,
     "metadata": {},
     "output_type": "execute_result"
    }
   ],
   "source": [
    "# this short chunk is just a demonstration of how the sampling process works,\n",
    "# prob_guilty is an object (a tensor of scalars) sampled from Beta distribution with parameters 1, 1\n",
    "# you can run this chunk multiple times to see how the value changes\n",
    "\n",
    "prob_guilty = pyro.sample(\"prob_guilty\", dist.Beta(1, 1e7))\n",
    "prob_guilty"
   ]
  },
  {
   "cell_type": "markdown",
   "metadata": {},
   "source": [
    "This model will show us the probability of being guilty for a person with missing fingers (when fingers = 1) when we use the Swedish dataset to assess the probability of missing fingers."
   ]
  },
  {
   "cell_type": "code",
   "execution_count": 5,
   "metadata": {},
   "outputs": [
    {
     "name": "stderr",
     "output_type": "stream",
     "text": [
      "/home/rafal/.local/lib/python3.10/site-packages/torch/cuda/__init__.py:628: UserWarning: Can't initialize NVML\n",
      "  warnings.warn(\"Can't initialize NVML\")\n"
     ]
    },
    {
     "ename": "KeyboardInterrupt",
     "evalue": "",
     "output_type": "error",
     "traceback": [
      "\u001b[0;31m---------------------------------------------------------------------------\u001b[0m",
      "\u001b[0;31mKeyboardInterrupt\u001b[0m                         Traceback (most recent call last)",
      "Cell \u001b[0;32mIn[5], line 35\u001b[0m\n\u001b[1;32m     33\u001b[0m \u001b[38;5;28;01mwith\u001b[39;00m pyro\u001b[38;5;241m.\u001b[39mpoutine\u001b[38;5;241m.\u001b[39mtrace() \u001b[38;5;28;01mas\u001b[39;00m tr:\n\u001b[1;32m     34\u001b[0m     \u001b[38;5;28;01mwith\u001b[39;00m pyro\u001b[38;5;241m.\u001b[39mplate(\u001b[38;5;124m\"\u001b[39m\u001b[38;5;124mdata\u001b[39m\u001b[38;5;124m\"\u001b[39m, \u001b[38;5;241m1e7\u001b[39m):\n\u001b[0;32m---> 35\u001b[0m         \u001b[43mfingers_model_just_sweden\u001b[49m\u001b[43m(\u001b[49m\u001b[43m)\u001b[49m\n",
      "Cell \u001b[0;32mIn[5], line 19\u001b[0m, in \u001b[0;36mfingers_model_just_sweden\u001b[0;34m()\u001b[0m\n\u001b[1;32m     16\u001b[0m pr_match_if_swedish \u001b[38;5;241m=\u001b[39m pyro\u001b[38;5;241m.\u001b[39msample(\u001b[38;5;124m\"\u001b[39m\u001b[38;5;124mpr_match_if_swedish\u001b[39m\u001b[38;5;124m\"\u001b[39m, dist\u001b[38;5;241m.\u001b[39mBeta(\u001b[38;5;241m3\u001b[39m, \u001b[38;5;241m20001\u001b[39m)) \u001b[38;5;66;03m# 2 fingers in 20,000 Swedes\u001b[39;00m\n\u001b[1;32m     18\u001b[0m \u001b[38;5;66;03m# Define the deterministic probability of having fingers missing, which is 1 if identity and pr_match_if_swedish if not identity\u001b[39;00m\n\u001b[0;32m---> 19\u001b[0m prob_match \u001b[38;5;241m=\u001b[39m \u001b[43mpyro\u001b[49m\u001b[38;5;241;43m.\u001b[39;49m\u001b[43mdeterministic\u001b[49m\u001b[43m(\u001b[49m\u001b[38;5;124;43m\"\u001b[39;49m\u001b[38;5;124;43mprob_match\u001b[39;49m\u001b[38;5;124;43m\"\u001b[39;49m\u001b[43m,\u001b[49m\u001b[43m \u001b[49m\u001b[43midentity\u001b[49m\u001b[43m \u001b[49m\u001b[38;5;241;43m*\u001b[39;49m\u001b[43m \u001b[49m\u001b[38;5;241;43m1\u001b[39;49m\u001b[43m \u001b[49m\u001b[38;5;241;43m+\u001b[39;49m\u001b[43m \u001b[49m\u001b[43m(\u001b[49m\u001b[38;5;241;43m1\u001b[39;49m\u001b[43m \u001b[49m\u001b[38;5;241;43m-\u001b[39;49m\u001b[43m \u001b[49m\u001b[43midentity\u001b[49m\u001b[43m)\u001b[49m\u001b[43m \u001b[49m\u001b[38;5;241;43m*\u001b[39;49m\u001b[43m \u001b[49m\u001b[43mpr_match_if_swedish\u001b[49m\u001b[43m)\u001b[49m\n\u001b[1;32m     21\u001b[0m \u001b[38;5;66;03m# when identity is 0, then the probability of having fingers missing is equall to pr_match_if_swedish,\u001b[39;00m\n\u001b[1;32m     22\u001b[0m \u001b[38;5;66;03m# when identity is 1, then the probability of having fingers missing is 1\u001b[39;00m\n\u001b[1;32m     23\u001b[0m \n\u001b[1;32m     24\u001b[0m \u001b[38;5;66;03m# Sample the binary outcome of having fingers missing from a Bernoulli distribution with the probability pr_fingers\u001b[39;00m\n\u001b[1;32m     25\u001b[0m match \u001b[38;5;241m=\u001b[39m pyro\u001b[38;5;241m.\u001b[39msample(\u001b[38;5;124m\"\u001b[39m\u001b[38;5;124mmatch\u001b[39m\u001b[38;5;124m\"\u001b[39m, dist\u001b[38;5;241m.\u001b[39mBernoulli(prob_match))\n",
      "File \u001b[0;32m~/miniconda3/envs/chirho/lib/python3.10/site-packages/pyro/primitives.py:220\u001b[0m, in \u001b[0;36mdeterministic\u001b[0;34m(name, value, event_dim)\u001b[0m\n\u001b[1;32m    216\u001b[0m     unit_value \u001b[38;5;241m=\u001b[39m unit_dist\u001b[38;5;241m.\u001b[39msample()\n\u001b[1;32m    217\u001b[0m     sample(name, unit_dist, obs\u001b[38;5;241m=\u001b[39munit_value, infer\u001b[38;5;241m=\u001b[39m{\u001b[38;5;124m\"\u001b[39m\u001b[38;5;124mis_auxiliary\u001b[39m\u001b[38;5;124m\"\u001b[39m: \u001b[38;5;28;01mTrue\u001b[39;00m})\n\u001b[0;32m--> 220\u001b[0m \u001b[38;5;28;01mdef\u001b[39;00m \u001b[38;5;21mdeterministic\u001b[39m(\n\u001b[1;32m    221\u001b[0m     name: \u001b[38;5;28mstr\u001b[39m, value: torch\u001b[38;5;241m.\u001b[39mTensor, event_dim: Optional[\u001b[38;5;28mint\u001b[39m] \u001b[38;5;241m=\u001b[39m \u001b[38;5;28;01mNone\u001b[39;00m\n\u001b[1;32m    222\u001b[0m ) \u001b[38;5;241m-\u001b[39m\u001b[38;5;241m>\u001b[39m torch\u001b[38;5;241m.\u001b[39mTensor:\n\u001b[1;32m    223\u001b[0m \u001b[38;5;250m    \u001b[39m\u001b[38;5;124;03m\"\"\"\u001b[39;00m\n\u001b[1;32m    224\u001b[0m \u001b[38;5;124;03m    Deterministic statement to add a :class:`~pyro.distributions.Delta` site\u001b[39;00m\n\u001b[1;32m    225\u001b[0m \u001b[38;5;124;03m    with name `name` and value `value` to the trace. This is useful when we\u001b[39;00m\n\u001b[0;32m   (...)\u001b[0m\n\u001b[1;32m    237\u001b[0m \u001b[38;5;124;03m    :param int event_dim: Optional event dimension, defaults to `value.ndim`.\u001b[39;00m\n\u001b[1;32m    238\u001b[0m \u001b[38;5;124;03m    \"\"\"\u001b[39;00m\n\u001b[1;32m    239\u001b[0m     event_dim \u001b[38;5;241m=\u001b[39m value\u001b[38;5;241m.\u001b[39mndim \u001b[38;5;28;01mif\u001b[39;00m event_dim \u001b[38;5;129;01mis\u001b[39;00m \u001b[38;5;28;01mNone\u001b[39;00m \u001b[38;5;28;01melse\u001b[39;00m event_dim\n",
      "\u001b[0;31mKeyboardInterrupt\u001b[0m: "
     ]
    }
   ],
   "source": [
    "def fingers_model_just_sweden():\n",
    "    \"\"\"\n",
    "    fingers_model_just_sweden is a model defined as a function in Pyro. \n",
    "    Each line defines a variable used in the probabilistic model. The function is run n amount of times, to sample from the model, as\n",
    "    the objects itroduced here are tensors of floats.\n",
    "    \"\"\"\n",
    "    \n",
    "    # Sample the probability of being the person responsible (a single value) from a Beta distribution\n",
    "    prob_identity = pyro.sample(\"prob_identity\", dist.Beta(2, 301))  # suppose 1 of 300 fighters in Sweden is responsible \n",
    "\n",
    "    # Sample the binary outcome of being identical (0 or 1) from a Bernoulli distribution with the probability: prob_identity\n",
    "    identity = pyro.sample(\"identity\", dist.Bernoulli(prob_identity))\n",
    "\n",
    "    \n",
    "    # Sample the probability of having fingers misssing if Swedish from a Beta distribution with parameters 3 and 20001\n",
    "    pr_match_if_swedish = pyro.sample(\"pr_match_if_swedish\", dist.Beta(3, 20001)) # 2 fingers in 20,000 Swedes\n",
    "    \n",
    "    # Define the deterministic probability of having fingers missing, which is 1 if identity and pr_match_if_swedish if not identity\n",
    "    prob_match = pyro.deterministic(\"prob_match\", identity * 1 + (1 - identity) * pr_match_if_swedish)\n",
    "    \n",
    "    # when identity is 0, then the probability of having fingers missing is equall to pr_match_if_swedish,\n",
    "    # when identity is 1, then the probability of having fingers missing is 1\n",
    "    \n",
    "    # Sample the binary outcome of having fingers missing from a Bernoulli distribution with the probability pr_fingers\n",
    "    match = pyro.sample(\"match\", dist.Bernoulli(prob_match))\n",
    "\n",
    "\n",
    "\n",
    "# Render the model to visualize its structure\n",
    "pyro.render_model(fingers_model_just_sweden)\n",
    "\n",
    "# Trace the execution of the model with 100,000 data points\n",
    "with pyro.poutine.trace() as tr:\n",
    "    with pyro.plate(\"data\", 1e7):\n",
    "        fingers_model_just_sweden()\n"
   ]
  },
  {
   "cell_type": "code",
   "execution_count": null,
   "metadata": {},
   "outputs": [
    {
     "name": "stdout",
     "output_type": "stream",
     "text": [
      "odict_keys(['data', 'prob_identity', 'identity', 'pr_match_if_swedish', 'prob_match', 'match'])\n"
     ]
    },
    {
     "data": {
      "image/png": "[encoded data removed]",
      "text/plain": [
       "<Figure size 640x480 with 1 Axes>"
      ]
     },
     "metadata": {},
     "output_type": "display_data"
    },
    {
     "data": {
      "image/png": "[encoded data removed]",
      "text/plain": [
       "<Figure size 640x480 with 1 Axes>"
      ]
     },
     "metadata": {},
     "output_type": "display_data"
    }
   ],
   "source": [
    "\n",
    "# Extract the nodes from the trace\n",
    "nodes = tr.trace.nodes\n",
    "\n",
    "print(nodes.keys())\n",
    "# Plot the specified nodes, filtering for cases where fingers == 1.0, for that records we look at the probability of missing fingers if Swedish\n",
    "# and the probability of being identity\n",
    "table = plot_from_nodes(nodes, filters={'match': 1.0}, nodes_to_plot=[\"prob_identity\", \"identity\"])\n",
    "\n",
    "# This function also returns a DataFrame of the processed values\n"
   ]
  },
  {
   "cell_type": "code",
   "execution_count": null,
   "metadata": {},
   "outputs": [
    {
     "data": {
      "image/svg+xml": [
       "<?xml version=\"1.0\" encoding=\"UTF-8\" standalone=\"no\"?>\n",
       "<!DOCTYPE svg PUBLIC \"-//W3C//DTD SVG 1.1//EN\"\n",
       " \"http://www.w3.org/Graphics/SVG/1.1/DTD/svg11.dtd\">\n",
       "<!-- Generated by graphviz version 2.43.0 (0)\n",
       " -->\n",
       "<!-- Title: %3 Pages: 1 -->\n",
       "<svg width=\"358pt\" height=\"188pt\"\n",
       " viewBox=\"0.00 0.00 358.38 188.00\" xmlns=\"http://www.w3.org/2000/svg\" xmlns:xlink=\"http://www.w3.org/1999/xlink\">\n",
       "<g id=\"graph0\" class=\"graph\" transform=\"scale(1 1) rotate(0) translate(4 184)\">\n",
       "<title>%3</title>\n",
       "<polygon fill=\"white\" stroke=\"transparent\" points=\"-4,4 -4,-184 354.38,-184 354.38,4 -4,4\"/>\n",
       "<!-- prob_identity -->\n",
       "<g id=\"node1\" class=\"node\">\n",
       "<title>prob_identity</title>\n",
       "<ellipse fill=\"white\" stroke=\"black\" cx=\"72.79\" cy=\"-162\" rx=\"72.59\" ry=\"18\"/>\n",
       "<text text-anchor=\"middle\" x=\"72.79\" y=\"-158.3\" font-family=\"Times,serif\" font-size=\"14.00\">prob_identity</text>\n",
       "</g>\n",
       "<!-- identity -->\n",
       "<g id=\"node2\" class=\"node\">\n",
       "<title>identity</title>\n",
       "<ellipse fill=\"white\" stroke=\"black\" cx=\"72.79\" cy=\"-90\" rx=\"46.59\" ry=\"18\"/>\n",
       "<text text-anchor=\"middle\" x=\"72.79\" y=\"-86.3\" font-family=\"Times,serif\" font-size=\"14.00\">identity</text>\n",
       "</g>\n",
       "<!-- prob_identity&#45;&gt;identity -->\n",
       "<g id=\"edge1\" class=\"edge\">\n",
       "<title>prob_identity&#45;&gt;identity</title>\n",
       "<path fill=\"none\" stroke=\"black\" d=\"M72.79,-143.7C72.79,-135.98 72.79,-126.71 72.79,-118.11\"/>\n",
       "<polygon fill=\"black\" stroke=\"black\" points=\"76.29,-118.1 72.79,-108.1 69.29,-118.1 76.29,-118.1\"/>\n",
       "</g>\n",
       "<!-- prob_match -->\n",
       "<g id=\"node4\" class=\"node\">\n",
       "<title>prob_match</title>\n",
       "<ellipse fill=\"gray\" stroke=\"black\" stroke-dasharray=\"5,2\" cx=\"84.79\" cy=\"-18\" rx=\"65.79\" ry=\"18\"/>\n",
       "<text text-anchor=\"middle\" x=\"84.79\" y=\"-14.3\" font-family=\"Times,serif\" font-size=\"14.00\">prob_match</text>\n",
       "</g>\n",
       "<!-- identity&#45;&gt;prob_match -->\n",
       "<g id=\"edge2\" class=\"edge\">\n",
       "<title>identity&#45;&gt;prob_match</title>\n",
       "<path fill=\"none\" stroke=\"black\" d=\"M75.76,-71.7C77.08,-63.98 78.67,-54.71 80.15,-46.11\"/>\n",
       "<polygon fill=\"black\" stroke=\"black\" points=\"83.62,-46.55 81.86,-36.1 76.72,-45.37 83.62,-46.55\"/>\n",
       "</g>\n",
       "<!-- match -->\n",
       "<g id=\"node5\" class=\"node\">\n",
       "<title>match</title>\n",
       "<ellipse fill=\"white\" stroke=\"black\" cx=\"231.79\" cy=\"-18\" rx=\"39.79\" ry=\"18\"/>\n",
       "<text text-anchor=\"middle\" x=\"231.79\" y=\"-14.3\" font-family=\"Times,serif\" font-size=\"14.00\">match</text>\n",
       "</g>\n",
       "<!-- identity&#45;&gt;match -->\n",
       "<g id=\"edge4\" class=\"edge\">\n",
       "<title>identity&#45;&gt;match</title>\n",
       "<path fill=\"none\" stroke=\"black\" d=\"M102.33,-76C128.44,-64.5 166.64,-47.69 194.78,-35.3\"/>\n",
       "<polygon fill=\"black\" stroke=\"black\" points=\"196.54,-38.35 204.28,-31.11 193.72,-31.94 196.54,-38.35\"/>\n",
       "</g>\n",
       "<!-- pr_match_if_swedish -->\n",
       "<g id=\"node3\" class=\"node\">\n",
       "<title>pr_match_if_swedish</title>\n",
       "<ellipse fill=\"white\" stroke=\"black\" cx=\"243.79\" cy=\"-90\" rx=\"106.68\" ry=\"18\"/>\n",
       "<text text-anchor=\"middle\" x=\"243.79\" y=\"-86.3\" font-family=\"Times,serif\" font-size=\"14.00\">pr_match_if_swedish</text>\n",
       "</g>\n",
       "<!-- pr_match_if_swedish&#45;&gt;prob_match -->\n",
       "<g id=\"edge3\" class=\"edge\">\n",
       "<title>pr_match_if_swedish&#45;&gt;prob_match</title>\n",
       "<path fill=\"none\" stroke=\"black\" d=\"M207.32,-72.94C183.41,-62.42 152.09,-48.63 127.09,-37.62\"/>\n",
       "<polygon fill=\"black\" stroke=\"black\" points=\"128.42,-34.38 117.85,-33.56 125.6,-40.79 128.42,-34.38\"/>\n",
       "</g>\n",
       "<!-- pr_match_if_swedish&#45;&gt;match -->\n",
       "<g id=\"edge5\" class=\"edge\">\n",
       "<title>pr_match_if_swedish&#45;&gt;match</title>\n",
       "<path fill=\"none\" stroke=\"black\" d=\"M240.83,-71.7C239.5,-63.98 237.92,-54.71 236.44,-46.11\"/>\n",
       "<polygon fill=\"black\" stroke=\"black\" points=\"239.87,-45.37 234.73,-36.1 232.97,-46.55 239.87,-45.37\"/>\n",
       "</g>\n",
       "</g>\n",
       "</svg>\n"
      ],
      "text/plain": [
       "<graphviz.graphs.Digraph at 0x7f96a1f956c0>"
      ]
     },
     "execution_count": 6,
     "metadata": {},
     "output_type": "execute_result"
    }
   ],
   "source": [
    "pyro.render_model(fingers_model_just_sweden)\n",
    "\n",
    "# this is a graph that ought to show the relation between the defined variables\n",
    "# (not sure why fingers_prob looks like that)"
   ]
  },
  {
   "cell_type": "markdown",
   "metadata": {},
   "source": [
    "This model will show us the probability of being guilty for a person with missing fingers (when fingers = 1) when the probability of missing fingers is represented as a uniform distribution between `pr_fingers_if_swedish` and `n * pr_fingers_if_swedish` resembling higher probability of missing fingers among ISIS members."
   ]
  },
  {
   "cell_type": "code",
   "execution_count": null,
   "metadata": {},
   "outputs": [
    {
     "data": {
      "image/png": "[encoded data removed]",
      "text/plain": [
       "<Figure size 640x480 with 1 Axes>"
      ]
     },
     "metadata": {},
     "output_type": "display_data"
    },
    {
     "name": "stdout",
     "output_type": "stream",
     "text": [
      "Weight of evidence for guilt: 0.9358515111043194\n"
     ]
    }
   ],
   "source": [
    "def fingers_model():\n",
    "\n",
    "    prob_guilty = pyro.sample(\"prob_guilty\", dist.Beta(1,1))  # this is unrealistically and extremely charitable if set to 1,1\n",
    "    # as it means we have no prior belief about isis fighters torturing and killing people, while it was part of their modus operandi\n",
    "    \n",
    "    # guilty is a binary variable, 1 if guilty, 0 if not guilty, sampled from a Bernoulli distribution with the probability prob_guilty\n",
    "    guilty = pyro.sample(\"guilty\", dist.Bernoulli(prob_guilty))\n",
    "\n",
    "    \n",
    "    pr_fingers_if_swedish = pyro.sample(\"pr_fingers_if_swedish\", dist.Beta(3, 20001))\n",
    "\n",
    "\n",
    "    pr_fingers_if_isis = pyro.sample(\"pr_fingers_if_isis\", dist.Uniform(pr_fingers_if_swedish, (100 * pr_fingers_if_swedish).clamp(0, 1)))  # charitably, chance of fingers if in isis \n",
    "    # it's assumed that the probability of having fingers missing if in ISIS is 100 times higher than if Swedish\n",
    "    # pr_fingers_if_isis samples from uniform dist closed under pr_fingers_if_swedish and 100 * pr_fingers_if_swedish\n",
    "    # clamp just ensures that the value is between 0 and 1 \n",
    "     \n",
    "     \n",
    "     \n",
    "    #pr_fingers_if_isis =  0.01  \n",
    "                                                                              \n",
    "                                                                                                                                  \n",
    "    pr_fingers = pyro.deterministic(\"fingers_prob\", guilty * 1 + \n",
    "                                        (1 - guilty) * pr_fingers_if_isis)\n",
    "    # when guilty is 0, then the probability of having fingers missing is equall to pr_fingers_if_isis,\n",
    "    # when guilty is 1, then the probability of having fingers missing is 1\n",
    "    \n",
    "    fingers = pyro.sample(\"fingers\", dist.Bernoulli(pr_fingers))\n",
    "\n",
    "\n",
    " \n",
    "pyro.render_model(fingers_model)\n",
    "\n",
    "with pyro.poutine.trace() as tr:\n",
    "    with pyro.plate(\"data\", 100000):\n",
    "        fingers_model()\n",
    "\n",
    "nodes = tr.trace.nodes\n",
    "\n",
    "\n",
    "df = plot_from_nodes(nodes, filters = {'fingers': 1.0}, nodes_to_plot=[\"guilty\"])# plotting guilt distribution, when fingers are missing\n",
    "# saving the data frame as df, to use it later\n",
    "\n",
    "\n",
    "posterior_guilt =  [df['guilty'].mean(), 1 - df['guilty'].mean()]\n",
    "# taking the mean of the guilty column, to get the probability of guilt, and then the probability of innocence, \n",
    "# df['guilty'] is just a column containing the sample\n",
    "\n",
    "# posterior_guilt contains 2 values calculated above, the probability of guilt and the probability of innocence\n",
    "print(f\"Weight of evidence for guilt: {weight(posterior_guilt)}\")# calculating the weight of evidence for guilt,\n",
    "# visible at the bottom of the graph\n"
   ]
  },
  {
   "cell_type": "code",
   "execution_count": null,
   "metadata": {},
   "outputs": [
    {
     "data": {
      "text/plain": [
       "[0.9924393, 0.007560670375823975]"
      ]
     },
     "execution_count": 70,
     "metadata": {},
     "output_type": "execute_result"
    }
   ],
   "source": [
    "# just a quick look how this variable looks like\n",
    "posterior_guilt"
   ]
  },
  {
   "cell_type": "markdown",
   "metadata": {},
   "source": [
    "This model will show us the probability of being guilty for a person with missing fingers (when fingers = 1) when the probability of missing fingers for isis members is represented as a **Beta** distribution, with parameters $(8, 1001)$, to exemplify 7 people with missing fingers in a group of 1000 ISIS members."
   ]
  },
  {
   "cell_type": "code",
   "execution_count": null,
   "metadata": {},
   "outputs": [
    {
     "data": {
      "image/png": "[encoded data removed]",
      "text/plain": [
       "<Figure size 640x480 with 1 Axes>"
      ]
     },
     "metadata": {},
     "output_type": "display_data"
    },
    {
     "name": "stdout",
     "output_type": "stream",
     "text": [
      "Weight of evidence for guilt: 0.9351420276834422\n"
     ]
    }
   ],
   "source": [
    "def fingers_model():\n",
    "\n",
    "    prob_guilty = pyro.sample(\"prob_guilty\", dist.Beta(1, 1))  # this is unrealistically and extremely charitable if set to 1,1\n",
    "    # as it means we have no prior belief about isis fighters torturing and killing people, while it was part of their modus operandi\n",
    "\n",
    "    guilty = pyro.sample(\"guilty\", dist.Bernoulli(prob_guilty))\n",
    "\n",
    "    # the only difference is that the probability of having fingers missing if in ISIS is now sampled from a Beta distribution\n",
    "    pr_fingers_if_isis = pyro.sample(\"pr_fingers_if_isis\",  dist.Beta(8, 1001))  # charitably, chance of fingers if in isis\n",
    "\n",
    "\n",
    "    pr_fingers = pyro.deterministic(\"fingers_prob\", guilty * 1 + \n",
    "                                        (1 - guilty) * pr_fingers_if_isis)\n",
    "    \n",
    "    fingers = pyro.sample(\"fingers\", dist.Bernoulli(pr_fingers))\n",
    "\n",
    "pyro.render_model(fingers_model)\n",
    "\n",
    "with pyro.poutine.trace() as tr:\n",
    "    with pyro.plate(\"data\", 100000):\n",
    "        fingers_model()\n",
    "\n",
    "nodes = tr.trace.nodes\n",
    "df = plot_from_nodes(nodes, filters = {'fingers': 1.0}, nodes_to_plot=[\"guilty\"])\n",
    "\n",
    "posterior_guilt =  [df['guilty'].mean(), 1 - df['guilty'].mean()]\n",
    "print(f\"Weight of evidence for guilt: {weight(posterior_guilt)}\")"
   ]
  },
  {
   "cell_type": "code",
   "execution_count": null,
   "metadata": {},
   "outputs": [],
   "source": [
    "def fingers_pointwise_with_isis(prob_identity, pr_random_match):\n",
    "    \n",
    "    identity = pyro.sample(\"identity\", dist.Bernoulli(prob_identity))\n",
    "    \n",
    "    pr_match = pyro.deterministic(\"fingers_prob\", identity * 1 + \n",
    "                                        (1 - identity) * pr_random_match)\n",
    "    \n",
    "    # Sample the binary outcome of having fingers missing from a Bernoulli distribution with the probability pr_fingers\n",
    "    match = pyro.sample(\"match\", dist.Bernoulli(pr_match))\n",
    "\n",
    "    return match\n",
    "\n"
   ]
  },
  {
   "cell_type": "code",
   "execution_count": null,
   "metadata": {},
   "outputs": [
    {
     "data": {
      "text/plain": [
       "0.5592901"
      ]
     },
     "execution_count": 47,
     "metadata": {},
     "output_type": "execute_result"
    }
   ],
   "source": [
    "def estimate_identity_posterior(prob_identity, pr_random_match, n_samples = 1e3):\n",
    "    \n",
    "    with pyro.poutine.trace() as estimation_tr:\n",
    "        with pyro.plate(\"interior_estimation\", n_samples):\n",
    "            fingers_pointwise_with_isis(prob_identity, pr_random_match)\n",
    "\n",
    "    mask = (estimation_tr.trace.nodes['match']['value'] == 1.0)\n",
    "    posterior_sample = estimation_tr.trace.nodes['identity']['value'][mask].float().detach().cpu().numpy()\n",
    "    posterior_estimate = posterior_sample.mean()\n",
    "    \n",
    "    return posterior_estimate\n",
    "\n",
    "estimate_identity_posterior(0.2,.2)\n"
   ]
  },
  {
   "cell_type": "code",
   "execution_count": null,
   "metadata": {},
   "outputs": [],
   "source": [
    "def fingers_with_isis_and_uncertainty():\n",
    "\n",
    "    with pyro.plate(\"outer_estimation\", size = 100):\n",
    "        prob_identity = pyro.sample(\"prob_identity\", dist.Beta(2,301))  \n",
    "        \n",
    "        identity = pyro.sample(\"identity_outside\", dist.Bernoulli(prob_identity))\n",
    "        \n",
    "        pr_random_match_if_swedish = pyro.sample(\"pr_random_match_if_swedish\", dist.Beta(3, 20001))\n",
    "        \n",
    "        pr_random_match_if_isis = pyro.sample(\"pr_random_match_if_isis\", dist.Uniform(pr_random_match_if_swedish, (100 * pr_random_match_if_swedish).clamp(0, 1)))  # charitably, chance of fingers if in isis \n",
    "\n",
    "        pr_match = pyro.deterministic(\"pr_match\",  identity * 1 + \n",
    "                                            (1 - identity) * pr_random_match_if_isis, event_dim=0)\n",
    "        \n",
    "        posterior_estimate = torch.tensor(estimate_identity_posterior(prob_identity, pr_random_match_if_isis))\n",
    "\n",
    "    #_pe = pyro.deterministic(\"posterior_estimate\", posterior_estimate, event_dim=0)\n",
    "    return posterior_estimate\n",
    "\n",
    "\n",
    "posterior_estimate = fingers_with_isis_and_uncertainty()\n",
    "     \n",
    "\n",
    "#posterior_sample = tr.trace.nodes['posterior_estimate']['value'].float().detach().cpu().numpy()\n",
    "\n",
    "\n",
    "posterior_estimate"
   ]
  },
  {
   "cell_type": "code",
   "execution_count": null,
   "metadata": {},
   "outputs": [],
   "source": [
    "def fingers_model_just_sweden():\n",
    "    \"\"\"\n",
    "    fingers_model_just_sweden is a model defined as a function in Pyro. \n",
    "    Each line defines a variable used in the probabilistic model. The function is run n amount of times, to sample from the model, as\n",
    "    the objects itroduced here are tensors of floats.\n",
    "    \"\"\"\n",
    "    \n",
    "    # Sample the probability of being the person responsible (a single value) from a Beta distribution\n",
    "    prob_identity = pyro.sample(\"prob_identity\", dist.Beta(2, 301))  # suppose 1 of 300 fighters in Sweden is responsible \n",
    "\n",
    "    # Sample the binary outcome of being identical (0 or 1) from a Bernoulli distribution with the probability: prob_identity\n",
    "    identity = pyro.sample(\"identity\", dist.Bernoulli(prob_identity))\n",
    "\n",
    "    \n",
    "    # Sample the probability of having fingers misssing if Swedish from a Beta distribution with parameters 3 and 20001\n",
    "    pr_match_if_swedish = pyro.sample(\"pr_match_if_swedish\", dist.Beta(3, 20001)) # 2 fingers in 20,000 Swedes\n",
    "    \n",
    "    # Define the deterministic probability of having fingers missing, which is 1 if identity and pr_match_if_swedish if not identity\n",
    "    prob_match = pyro.deterministic(\"prob_match\", identity * 1 + (1 - identity) * pr_match_if_swedish)\n",
    "    \n",
    "    # when identity is 0, then the probability of having fingers missing is equall to pr_match_if_swedish,\n",
    "    # when identity is 1, then the probability of having fingers missing is 1\n",
    "    \n",
    "    # Sample the binary outcome of having fingers missing from a Bernoulli distribution with the probability pr_fingers\n",
    "    match = pyro.sample(\"match\", dist.Bernoulli(prob_match))\n",
    "\n",
    "\n",
    "\n",
    "# Render the model to visualize its structure\n",
    "pyro.render_model(fingers_model_just_sweden)\n",
    "\n",
    "# Trace the execution of the model with 100,000 data points\n",
    "with pyro.poutine.trace() as tr:\n",
    "    with pyro.plate(\"data\", 1e7):\n",
    "        fingers_model_just_sweden()\n"
   ]
  },
  {
   "cell_type": "code",
   "execution_count": null,
   "metadata": {},
   "outputs": [],
   "source": [
    "def fingers_model():\n",
    "\n",
    "    prob_guilty = pyro.sample(\"prob_guilty\", dist.Beta(1,1))  # this is unrealistically and extremely charitable if set to 1,1\n",
    "    # as it means we have no prior belief about isis fighters torturing and killing people, while it was part of their modus operandi\n",
    "    \n",
    "    # guilty is a binary variable, 1 if guilty, 0 if not guilty, sampled from a Bernoulli distribution with the probability prob_guilty\n",
    "    guilty = pyro.sample(\"guilty\", dist.Bernoulli(prob_guilty))\n",
    "\n",
    "    \n",
    "    pr_fingers_if_swedish = pyro.sample(\"pr_fingers_if_swedish\", dist.Beta(3, 20001))\n",
    "\n",
    "\n",
    "    pr_fingers_if_isis = pyro.sample(\"pr_fingers_if_isis\", dist.Uniform(pr_fingers_if_swedish, (100 * pr_fingers_if_swedish).clamp(0, 1)))  # charitably, chance of fingers if in isis \n",
    "    # it's assumed that the probability of having fingers missing if in ISIS is 100 times higher than if Swedish\n",
    "    # pr_fingers_if_isis samples from uniform dist closed under pr_fingers_if_swedish and 100 * pr_fingers_if_swedish\n",
    "    # clamp just ensures that the value is between 0 and 1 \n",
    "     \n",
    "     \n",
    "     \n",
    "    #pr_fingers_if_isis =  0.01  \n",
    "                                                                              \n",
    "                                                                                                                                  \n",
    "    pr_fingers = pyro.deterministic(\"fingers_prob\", guilty * 1 + \n",
    "                                        (1 - guilty) * pr_fingers_if_isis)\n",
    "    # when guilty is 0, then the probability of having fingers missing is equall to pr_fingers_if_isis,\n",
    "    # when guilty is 1, then the probability of having fingers missing is 1\n",
    "    \n",
    "    fingers = pyro.sample(\"fingers\", dist.Bernoulli(pr_fingers))\n",
    "\n",
    "\n",
    " \n",
    "pyro.render_model(fingers_model)\n",
    "\n",
    "with pyro.poutine.trace() as tr:\n",
    "    with pyro.plate(\"data\", 100000):\n",
    "        fingers_model()\n",
    "\n",
    "nodes = tr.trace.nodes\n",
    "\n",
    "\n",
    "df = plot_from_nodes(nodes, filters = {'fingers': 1.0}, nodes_to_plot=[\"guilty\"])# plotting guilt distribution, when fingers are missing\n",
    "# saving the data frame as df, to use it later\n",
    "\n",
    "\n",
    "posterior_guilt =  [df['guilty'].mean(), 1 - df['guilty'].mean()]\n",
    "# taking the mean of the guilty column, to get the probability of guilt, and then the probability of innocence, \n",
    "# df['guilty'] is just a column containing the sample\n",
    "\n",
    "# posterior_guilt contains 2 values calculated above, the probability of guilt and the probability of innocence\n",
    "print(f\"Weight of evidence for guilt: {weight(posterior_guilt)}\")# calculating the weight of evidence for guilt,\n",
    "# visible at the bottom of the graph\n"
   ]
  }
 ],
 "metadata": {
  "kernelspec": {
   "display_name": "pyro1.9",
   "language": "python",
   "name": "python3"
  },
  "language_info": {
   "codemirror_mode": {
    "name": "ipython",
    "version": 3
   },
   "file_extension": ".py",
   "mimetype": "text/x-python",
   "name": "python",
   "nbconvert_exporter": "python",
   "pygments_lexer": "ipython3",
   "version": "3.10.14"
  }
 },
 "nbformat": 4,
 "nbformat_minor": 2
}
