{
 "cells": [
  {
   "cell_type": "code",
   "execution_count": 1,
   "metadata": {},
   "outputs": [],
   "source": [
    "import torch\n",
    "import pyro\n",
    "\n",
    "from typing import Dict, List\n",
    "from scipy.stats import entropy\n",
    "from scipy.stats import beta\n",
    "import pyro.distributions as dist\n",
    "\n",
    "import pandas as pd\n",
    "import numpy as np\n",
    "\n",
    "import matplotlib.pyplot as plt\n",
    "import seaborn as sns"
   ]
  },
  {
   "cell_type": "markdown",
   "metadata": {},
   "source": [
    "\n",
    "\n",
    "A video shows a men part of ISIS beheading another person. The question is identity. The man in the video has a pair of missing fingers. A suspect is identified, has missing fingers and matches other characteristics (travelled to Syria, participated in ISIS etc.). Suspect denies beheading the person in the video.\n",
    "\n",
    "Key identification evidence:\n",
    "\n",
    "    suspect's missing fingers are missing in the same places as the missing fingers of the person in the video.\n",
    "    probability of random match in Swedish population based on police database is assessed to be 2/20,000\n",
    "    only 2 matches in 20,000 entry database\n",
    "    matching fingers of people in database are of people who died at the time of the crime\n",
    "\n",
    "Missing evidence:\n",
    "\n",
    "    database is based on Swedish population, not ISIS members, random match probability could have been different\n",
    "\n",
    "Suspect is acquitted or charges because evidence was not robust\n",
    "\n",
    "Interesting quotation:\n",
    "\"The court explains that a random match probability of 1 in 10 000 would have been sufficient for proof beyond\n",
    "reasonable doubt, given the other circumstances of the case, if this probability had\n",
    "been robust, but in the absence of more reference data on people affiliated with ISIS it\n",
    "is not sufficiently robust for the standard of proof in criminal cases.\" (p. 142)\n",
    "\n",
    "Weight question in this case:\n",
    "\n",
    "    Had an ISIS database been available at trial, how would the overall evidence have changed?\n"
   ]
  },
  {
   "cell_type": "code",
   "execution_count": 8,
   "metadata": {},
   "outputs": [],
   "source": [
    "def plot_from_nodes(nodes, filters: Dict[str, float] = None, nodes_to_plot: List[str] = None, bins = 20):\n",
    "\n",
    "    \"\"\"\n",
    "   The plot_from_nodes function takes a dictionary of nodes, processes their values, optionally filters the data,\n",
    "    and plots histograms for specified nodes. The function then returns the processed DataFrame.\n",
    "    Parameters:\n",
    "    - nodes: Dictionary of nodes containing data.\n",
    "    - filters: Optional dictionary to filter the data based on specified conditions.\n",
    "    - nodes_to_plot: Optional list of specific nodes to plot. If not provided, plots all nodes.\n",
    "    - bins: Number of bins for the histograms (default is 20).\n",
    "\n",
    "    Returns:\n",
    "    - DataFrame of the processed values.\n",
    "    \"\"\"\n",
    "\n",
    "    values = {key: nodes[key]['value'].float().detach().cpu().numpy() for key in nodes.keys() if nodes[key]['name'] != 'samples'}\n",
    "\n",
    "    valuesDF = pd.DataFrame(values)\n",
    "\n",
    "    if filters is not None:\n",
    "        for key in filters.keys():\n",
    "            valuesDF = valuesDF[valuesDF[key] == filters[key]]\n",
    "\n",
    "    if nodes_to_plot is None:\n",
    "        nodes_to_plot = values.keys()\n",
    "\n",
    "    for key in nodes_to_plot:\n",
    "        plt.figure()\n",
    "        plt.hist(valuesDF[key], bins=bins, alpha=0.7, color='blue', density=True)\n",
    "        plt.title(f\"{key}, mean: {valuesDF[key].mean()}\")\n",
    "        plt.xlabel('value')\n",
    "        plt.ylabel('frequency')\n",
    "        sns.despine()\n",
    "        plt.show()  \n",
    "\n",
    "    return valuesDF"
   ]
  },
  {
   "cell_type": "code",
   "execution_count": 3,
   "metadata": {},
   "outputs": [],
   "source": [
    "def weight(posterior: List[float], base = 2) -> float:\n",
    "\n",
    "    grid_length = len(posterior)\n",
    "    x = np.linspace(0, 1, grid_length)\n",
    "    uniform = beta.pdf(x, 1, 1)\n",
    "    entropy_uniform = entropy(uniform, base=base)\n",
    "    entropy_posterior = entropy(posterior, base=base)\n",
    "    return 1 - entropy_posterior/entropy_uniform\n"
   ]
  },
  {
   "cell_type": "markdown",
   "metadata": {},
   "source": [
    "The function above calculates weight of evidence of a posterior $p$ in a following manner, where H is $H = -\\sum p \\log(p)$:$$ W(p) = 1 - \\frac{H(p)}{H(\\text{uniform})} $$"
   ]
  },
  {
   "cell_type": "code",
   "execution_count": null,
   "metadata": {},
   "outputs": [],
   "source": [
    "def fingers_model_just_sweden():\n",
    "    \"\"\"\n",
    "\n",
    "    fingers_model_just_sweden is a model defined as a function in Pyro. \n",
    "    Each line defines a variable\n",
    "\n",
    "\n",
    "    \"\"\"\n",
    "\n",
    "    prob_guilty = pyro.sample(\"prob_guilty\", dist.Beta(1, 1))\n",
    "    # a value sampled from a beta distribution \n",
    "\n",
    "    guilty = pyro.sample(\"guilty\", dist.Bernoulli(prob_guilty))\n",
    "    \n",
    "    pr_fingers_if_swedish = pyro.sample(\"pr_fingers_if_swedish\", dist.Beta(3, 20001))\n",
    "\n",
    "    pr_fingers = pyro.deterministic(\"fingers_prob\", guilty * 1 + (1 - guilty) * pr_fingers_if_swedish)\n",
    "    \n",
    "    fingers = pyro.sample(\"fingers\", dist.Bernoulli(pr_fingers))\n",
    "\n",
    "\n",
    "\n",
    "\n",
    "\n",
    "\n",
    "\n",
    "pyro.render_model(fingers_model_just_sweden)\n",
    "\n",
    "with pyro.poutine.trace() as tr:\n",
    "    with pyro.plate(\"data\", 100000):\n",
    "        fingers_model_just_sweden()\n",
    "\n",
    "nodes = tr.trace.nodes\n",
    "\n",
    "\n",
    "\n",
    "plot_from_nodes(nodes, filters = {'fingers': 1.0}, nodes_to_plot=[\"pr_fingers_if_swedish\", \"guilty\"])\n"
   ]
  },
  {
   "cell_type": "code",
   "execution_count": 24,
   "metadata": {},
   "outputs": [
    {
     "data": {
      "text/plain": [
       "tensor(0.5841)"
      ]
     },
     "execution_count": 24,
     "metadata": {},
     "output_type": "execute_result"
    }
   ],
   "source": [
    "prob_guilty = pyro.sample(\"prob_guilty\", dist.Beta(1, 1))\n",
    "prob_guilty"
   ]
  },
  {
   "cell_type": "code",
   "execution_count": 5,
   "metadata": {},
   "outputs": [
    {
     "data": {
      "text/plain": [
       "0.01"
      ]
     },
     "execution_count": 5,
     "metadata": {},
     "output_type": "execute_result"
    }
   ],
   "source": [
    "2/20000 * 100"
   ]
  },
  {
   "cell_type": "code",
   "execution_count": 6,
   "metadata": {},
   "outputs": [
    {
     "data": {
      "image/png": "[encoded data removed]",
      "text/plain": [
       "<Figure size 640x480 with 1 Axes>"
      ]
     },
     "metadata": {},
     "output_type": "display_data"
    },
    {
     "name": "stdout",
     "output_type": "stream",
     "text": [
      "Weight of evidence for guilt: 0.9379140200085901\n"
     ]
    }
   ],
   "source": [
    "def fingers_model():\n",
    "\n",
    "    prob_guilty = pyro.sample(\"prob_guilty\", dist.Beta(1,1))  # this is unrealistically and extremely charitable if set to 1,1 as it means we have no prior belief about isis fighters torturing and killing people, while it was part of their modus operandi\n",
    "\n",
    "    guilty = pyro.sample(\"guilty\", dist.Bernoulli(prob_guilty))\n",
    "\n",
    "    pr_fingers_if_swedish = pyro.sample(\"pr_fingers_if_swedish\", dist.Beta(3, 20001))\n",
    "\n",
    "    pr_fingers_if_isis = pyro.sample(\"pr_fingers_if_isis\", dist.Uniform(pr_fingers_if_swedish, (100 * pr_fingers_if_swedish).clamp(0, 1)))  # charitably, chance of fingers if in isis \n",
    "     \n",
    "    #pr_fingers_if_isis =  0.01                                                                                                                                      # 50 times higher than if merely swedish  \n",
    "\n",
    "    pr_fingers = pyro.deterministic(\"fingers_prob\", guilty * 1 + \n",
    "                                        (1 - guilty) * pr_fingers_if_isis)\n",
    "    \n",
    "    fingers = pyro.sample(\"fingers\", dist.Bernoulli(pr_fingers))\n",
    "\n",
    "pyro.render_model(fingers_model)\n",
    "\n",
    "with pyro.poutine.trace() as tr:\n",
    "    with pyro.plate(\"data\", 100000):\n",
    "        fingers_model()\n",
    "\n",
    "nodes = tr.trace.nodes\n",
    "df = plot_from_nodes(nodes, filters = {'fingers': 1.0}, nodes_to_plot=[\"guilty\"])\n",
    "\n",
    "posterior_guilt =  [df['guilty'].mean(), 1 - df['guilty'].mean()]\n",
    "print(f\"Weight of evidence for guilt: {weight(posterior_guilt)}\")\n"
   ]
  },
  {
   "cell_type": "code",
   "execution_count": 7,
   "metadata": {},
   "outputs": [
    {
     "data": {
      "image/png": "[encoded data removed]",
      "text/plain": [
       "<Figure size 640x480 with 1 Axes>"
      ]
     },
     "metadata": {},
     "output_type": "display_data"
    },
    {
     "name": "stdout",
     "output_type": "stream",
     "text": [
      "Weight of evidence for guilt: 0.9310307168773658\n"
     ]
    }
   ],
   "source": [
    "def fingers_model():\n",
    "\n",
    "    prob_guilty = pyro.sample(\"prob_guilty\", dist.Beta(1, 1))  # this is unrealistically and extremely charitable if set to 1,1 as it means we have no prior belief about isis fighters torturing and killing people, while it was part of their modus operandi\n",
    "\n",
    "    guilty = pyro.sample(\"guilty\", dist.Bernoulli(prob_guilty))\n",
    "\n",
    "    pr_fingers_if_swedish = pyro.sample(\"pr_fingers_if_swedish\", dist.Beta(3, 20001))\n",
    "\n",
    "    pr_fingers_if_isis = pyro.sample(\"pr_fingers_if_isis\",  dist.Beta(8, 1001))  # charitably, chance of fingers if in isis\n",
    "\n",
    "    pr_fingers = pyro.deterministic(\"fingers_prob\", guilty * 1 + \n",
    "                                        (1 - guilty) * pr_fingers_if_isis)\n",
    "    \n",
    "    fingers = pyro.sample(\"fingers\", dist.Bernoulli(pr_fingers))\n",
    "\n",
    "pyro.render_model(fingers_model)\n",
    "\n",
    "with pyro.poutine.trace() as tr:\n",
    "    with pyro.plate(\"data\", 100000):\n",
    "        fingers_model()\n",
    "\n",
    "nodes = tr.trace.nodes\n",
    "df = plot_from_nodes(nodes, filters = {'fingers': 1.0}, nodes_to_plot=[\"guilty\"])\n",
    "\n",
    "posterior_guilt =  [df['guilty'].mean(), 1 - df['guilty'].mean()]\n",
    "print(f\"Weight of evidence for guilt: {weight(posterior_guilt)}\")"
   ]
  }
 ],
 "metadata": {
  "kernelspec": {
   "display_name": "pyro1.9",
   "language": "python",
   "name": "python3"
  },
  "language_info": {
   "codemirror_mode": {
    "name": "ipython",
    "version": 3
   },
   "file_extension": ".py",
   "mimetype": "text/x-python",
   "name": "python",
   "nbconvert_exporter": "python",
   "pygments_lexer": "ipython3",
   "version": "3.11.4"
  }
 },
 "nbformat": 4,
 "nbformat_minor": 2
}
