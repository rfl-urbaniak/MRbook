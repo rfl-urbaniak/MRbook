{
 "cells": [
  {
   "cell_type": "markdown",
   "metadata": {},
   "source": [
    "## *Hmong Opium Package*"
   ]
  },
  {
   "cell_type": "markdown",
   "metadata": {},
   "source": [
    "![](PXL_20240613_105950267.jpg){ fig-align=\"center\" width=\"60%\"}"
   ]
  },
  {
   "cell_type": "code",
   "execution_count": 1,
   "metadata": {},
   "outputs": [],
   "source": [
    "import torch\n",
    "import pyro\n",
    "\n",
    "from typing import Dict, List\n",
    "from scipy.stats import entropy\n",
    "from scipy.stats import beta\n",
    "import pyro.distributions as dist\n",
    "\n",
    "import pandas as pd\n",
    "import numpy as np\n",
    "\n",
    "import matplotlib.pyplot as plt\n",
    "import seaborn as sns"
   ]
  },
  {
   "cell_type": "code",
   "execution_count": 2,
   "metadata": {},
   "outputs": [],
   "source": [
    "# this is just a definition of a function that we will be using for sampling from the model and \n",
    "# creating plots of the samples\n",
    "\n",
    "def plot_from_nodes(nodes, filters: Dict[str, float] = None, nodes_to_plot: List[str] = None, bins = 20):\n",
    "\n",
    "    \"\"\"\n",
    "   The plot_from_nodes function takes a dictionary of nodes, processes their values, optionally filters the data,\n",
    "    and plots histograms for specified nodes. The function then returns the processed DataFrame.\n",
    "    Parameters:\n",
    "    - nodes: Dictionary of nodes containing data.\n",
    "    - filters: Optional dictionary to filter the data based on specified conditions.\n",
    "    - nodes_to_plot: Optional list of specific nodes to plot. If not provided, plots all nodes.\n",
    "    - bins: Number of bins for the histograms (default is 20).\n",
    "\n",
    "    Returns:\n",
    "    - DataFrame of the processed values.\n",
    "    \"\"\"\n",
    "\n",
    "    values = {key: nodes[key]['value'].float().detach().cpu().numpy() for key in nodes.keys() if nodes[key]['name'] != 'samples'}\n",
    "\n",
    "    valuesDF = pd.DataFrame(values)\n",
    "\n",
    "    if filters is not None:\n",
    "        for key in filters.keys():\n",
    "            valuesDF = valuesDF[valuesDF[key] == filters[key]]\n",
    "\n",
    "    if nodes_to_plot is None:\n",
    "        nodes_to_plot = values.keys()\n",
    "\n",
    "    for key in nodes_to_plot:\n",
    "        plt.figure()\n",
    "        plt.hist(valuesDF[key], bins=bins, alpha=0.7, color='blue', density=True)\n",
    "        plt.title(f\"{key}, mean: {valuesDF[key].mean()}\")\n",
    "        plt.xlabel('value')\n",
    "        plt.ylabel('frequency')\n",
    "        sns.despine()\n",
    "        plt.show()  \n",
    "\n",
    "    return valuesDF"
   ]
  },
  {
   "cell_type": "code",
   "execution_count": 3,
   "metadata": {},
   "outputs": [],
   "source": [
    "def weight(posterior: List[float], base = 2) -> float:\n",
    "\n",
    "    grid_length = len(posterior)\n",
    "    x = np.linspace(0, 1, grid_length)\n",
    "    uniform = beta.pdf(x, 1, 1) # def. of a uniform distribution given the size of the posterior\n",
    "    \n",
    "    entropy_uniform = entropy(uniform, base=base) # entropy H(uniform)\n",
    "    entropy_posterior = entropy(posterior, base=base) # entropy H(p)\n",
    "    return 1 - entropy_posterior/entropy_uniform # weight = 1 - H(p)/H(uniform)\n"
   ]
  },
  {
   "cell_type": "markdown",
   "metadata": {},
   "source": [
    "The first model represents the RMP that a random person from population of Minneapolis (1992) is a smuggler given that they received a package, with the division on Hmong and not Hmong."
   ]
  },
  {
   "cell_type": "code",
   "execution_count": null,
   "metadata": {},
   "outputs": [],
   "source": [
    "def opium_package_general():\n",
    "\n",
    "    # prob_guilty = pyro.sample(\"prob_guilty\", dist.Beta(1, 1)) \n",
    "    # guilty = pyro.sample(\"guilty\", dist.Bernoulli(prob_guilty))\n",
    "    # pr_fingers_if_swedish = pyro.sample(\"pr_fingers_if_swedish\", dist.Beta(3, 20001)) # 2 fingers in 20,000 Swedes\n",
    "    # prob_fingers = pyro.deterministic(\"fingers_prob\", guilty * 1 + (1 - guilty) * pr_fingers_if_swedish)\n",
    "    # fingers = pyro.sample(\"fingers\", dist.Bernoulli(prob_fingers))\n",
    "    \n",
    "    \n",
    "    Hmong = 0.06\n",
    "    Hmong_if_smuggler = 0.95\n",
    "    prob_package = 0.006\n",
    "    prob_smuggler = 0.005\n",
    "    \n",
    "    package = pyro.sample(\"package\", dist.Bernoulli(prob_package))\n",
    "    smuggler = pyro.sample(\"smuggler\", dist.Bernoulli(prob_smuggler))\n",
    "    \n",
    "    \n",
    "    \n",
    "    smuggler_if_package = pyro.sample(\"smuggler_if_package\", dist.Beta(1 + smuggler, 1 + 1 - smuggler))\n",
    "    smuggler_if_package_if_hmong = pyro.sample(\"smuggler_if_package_if_hmong\", dist.Beta(1 + smuggler_if_package * Hmong, 1 + 1 - smuggler_if_package * Hmong))\n",
    "\n",
    "\n",
    "\n",
    "\n",
    "\n",
    "# Render the model to visualize its structure\n",
    "pyro.render_model(opium_package_general)\n",
    "\n",
    "# Trace the execution of the model with 100,000 data points\n",
    "with pyro.poutine.trace() as tr:\n",
    "    with pyro.plate(\"data\", 100000):\n",
    "        opium_package_general()\n",
    "\n",
    "# Extract the nodes from the trace\n",
    "nodes = tr.trace.nodes\n",
    "\n",
    "# Plot the specified nodes, filtering for cases where fingers == 1.0, for that records we look at the probability of missing fingers if Swedish\n",
    "# and the probability of being guilty\n",
    "plot_from_nodes(nodes, filters={'fingers': 1.0}, nodes_to_plot=[\"pr_fingers_if_swedish\", \"guilty\"])\n",
    "\n",
    "# This function also returns a DataFrame of the processed values\n"
   ]
  },
  {
   "cell_type": "code",
   "execution_count": null,
   "metadata": {},
   "outputs": [],
   "source": []
  },
  {
   "cell_type": "code",
   "execution_count": null,
   "metadata": {},
   "outputs": [],
   "source": []
  },
  {
   "cell_type": "code",
   "execution_count": null,
   "metadata": {},
   "outputs": [],
   "source": []
  }
 ],
 "metadata": {
  "kernelspec": {
   "display_name": "Python 3",
   "language": "python",
   "name": "python3"
  },
  "language_info": {
   "codemirror_mode": {
    "name": "ipython",
    "version": 3
   },
   "file_extension": ".py",
   "mimetype": "text/x-python",
   "name": "python",
   "nbconvert_exporter": "python",
   "pygments_lexer": "ipython3",
   "version": "3.11.9"
  }
 },
 "nbformat": 4,
 "nbformat_minor": 2
}
