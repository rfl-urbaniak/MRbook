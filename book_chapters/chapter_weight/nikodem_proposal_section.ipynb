{
  "cells": [
    {
      "cell_type": "raw",
      "metadata": {},
      "source": [
        "---\n",
        "title: \"Nikodem: Proposal Section - weight of evidence chapter\"\n",
        "execute:\n",
        "  enabled: true\n",
        "format:\n",
        "  pdf:\n",
        "    toc: false\n",
        "    number-sections: true\n",
        "    colorlinks: true\n",
        "---"
      ],
      "id": "8e3ce99d"
    },
    {
      "cell_type": "markdown",
      "metadata": {},
      "source": [
        "# Our Proposal\n",
        "\n",
        "\n",
        "To model higher-order uncertainty, we propose using a probability density function $f$ on a probability function $p(x)$ that captures the probability of hypotheses. This can be mathematically represented as $f(p(x))$. This construct effectively maps weights to their respective hypotheses by adding another layer of probabilities in the form of a probability density function, rather than using less modest approaches like extending the set of hypotheses with a variable representing the weight of the hypotheses.\n",
        "\n",
        "A higher-order model for obtaining new evidence, which represents the weight of that evidence, can be described as follows:\n",
        "\n",
        "- The set of possible hypotheses $\\theta_{n}$\n",
        "- Prior probability distribution over the hypotheses $p(\\theta_{n})$\n",
        "- A piece of evidence $E$\n",
        "- Posterior probability distribution over the hypotheses $q(\\theta_{n})$\n",
        "\n",
        "The update process follows Bayes' theorem:\n",
        "\n",
        "$$\n",
        "q(\\theta_{n}) = \\frac{p(E \\mid \\theta_{n}) \\times p(\\theta_{n})}{p(E)}\n",
        "$$\n"
      ],
      "id": "49eb6954"
    },
    {
      "cell_type": "code",
      "metadata": {},
      "source": [
        "#| echo: false\n",
        "\n",
        "import numpy as np\n",
        "from scipy.stats import beta\n",
        "from scipy.stats import entropy\n",
        "from typing import List\n",
        "\n",
        "x = np.linspace(0, 1, 1000)\n",
        "prior = beta.pdf(x, 1, 1)\n",
        "posterior_1 = beta.pdf(x, 2, 201)\n",
        "posterior_2 = beta.pdf(x, 2, 2001)\n",
        "posterior_3 = beta.pdf(x, 2, 20001)\n",
        "\n",
        "def weight(posterior: List[float], base=2) -> float:\n",
        "\n",
        "    grid_length = len(posterior)\n",
        "    x = np.linspace(0, 1, grid_length)\n",
        "    uniform = beta.pdf(x, 1, 1)\n",
        "    entropy_uniform = entropy(uniform, base=base)\n",
        "    entropy_posterior = entropy(posterior, base=base)\n",
        "    return 1 - entropy_posterior / entropy_uniform\n",
        "\n",
        "\n",
        "# print(round(weight(posterior_1), 4), round(weight(posterior_2), 4), round(weight(posterior_3), 4))"
      ],
      "id": "5a12b737",
      "execution_count": null,
      "outputs": []
    },
    {
      "cell_type": "markdown",
      "metadata": {},
      "source": [
        "Consider a case where a DNA test plays a crucial role, and we are assessing the strength of the evidence given the random match probability (RMP). The RMP was calculated three times, as there were some doubts about the first test on a random sample. These pieces of evidence are represented as follows:\n",
        "\n",
        "- 1 match in 200: $E_{1} = \\text{Beta}(201, 2)$\n",
        "- 1 match in 2000: $E_{2} = \\text{Beta}(2001, 2)$\n",
        "- 1 match in 20000: $E_{3} = \\text{Beta}(20001, 2)$\n",
        "\n",
        "The sample sizes differ significantly, and intuitively, the weight of the evidence for $E_{3}$ is the highest.\n",
        "\n",
        "Assuming a grid approximation and defining our set of hypotheses as $\\theta_{1}, \\dots, \\theta_{1000}$, we use a uniform prior defined with a beta distribution $p(\\theta_{n}) = \\text{Beta}(1, 1)$.\n",
        "\n",
        "To compare the weights of these pieces of evidence, we can use information entropy $H = - \\sum(p \\log(p))$:\n",
        "\n",
        "$$\n",
        "\\text{Weight}(q) = 1 - \\frac{H(q)}{H(p)}\n",
        "$$\n",
        "\n",
        "The weights of the three posteriors achieved from learning from these three pieces of evidence are as follows:\n",
        "\n",
        "- Weight($q_{1}$) ~ 0.5428\n",
        "- Weight($q_{2}$) ~ 0.8964\n",
        "- Weight($q_{3}$) ~ 1.0\n",
        "\n",
        "This clearly demonstrates the significance of the number of observations that the evidence introduces.\n"
      ],
      "id": "6985ee94"
    }
  ],
  "metadata": {
    "kernelspec": {
      "name": "python3",
      "language": "python",
      "display_name": "Python 3 (ipykernel)"
    }
  },
  "nbformat": 4,
  "nbformat_minor": 5
}