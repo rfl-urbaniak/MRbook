{
 "cells": [
  {
   "cell_type": "markdown",
   "metadata": {},
   "source": [
    "## Missing Fingers"
   ]
  },
  {
   "cell_type": "code",
   "execution_count": 1,
   "metadata": {},
   "outputs": [],
   "source": [
    "import warnings\n",
    "from typing import List\n",
    "\n",
    "import pyro\n",
    "import pyro.distributions as dist\n",
    "import torch\n",
    "\n",
    "import probability_on_trial as pot"
   ]
  },
  {
   "cell_type": "markdown",
   "metadata": {},
   "source": [
    "Building Core model:"
   ]
  },
  {
   "cell_type": "code",
   "execution_count": 2,
   "metadata": {},
   "outputs": [
    {
     "data": {
      "text/plain": [
       "{'guilty': tensor([0., 0., 0.,  ..., 0., 0., 0.]),\n",
       " 'isis': tensor([0., 0., 0.,  ..., 0., 0., 0.]),\n",
       " 'fingers_match_sweden': tensor([0., 0., 0.,  ..., 0., 0., 0.]),\n",
       " 'fingers_match_isis': tensor([0., 0., 0.,  ..., 0., 0., 0.]),\n",
       " 'posterior_guilty_fingers_sweden': tensor(0.9895),\n",
       " 'posterior_guilty_fingers_isis': tensor(1.)}"
      ]
     },
     "execution_count": 2,
     "metadata": {},
     "output_type": "execute_result"
    }
   ],
   "source": [
    "pyro.set_rng_seed(42)\n",
    "\n",
    "\n",
    "\n",
    "pr_identity = 0.01\n",
    "rmp_fingers_sweden = 2 / 20000\n",
    "pr_isis_if_not_guilty = 300 / 10.6e6\n",
    "pr_fingers_match_if_isis=2 / 5000\n",
    "\n",
    "\n",
    "def swedish_fingers_guilt_model(\n",
    "    pr_identity: float = pr_identity,  # Prior probability that the suspect is guilty\n",
    "    rmp_fingers_sweden=rmp_fingers_sweden,  # RMP for Sweden\n",
    "    pr_isis_if_not_guilty= pr_isis_if_not_guilty, # around 300 ISI fighters from Sweden\n",
    "    pr_fingers_match_if_isis= pr_fingers_match_if_isis,  # RMP for ISIS memebers; for now a precise number\n",
    "    num_particles=3e6,\n",
    "):\n",
    "\n",
    "    with pyro.plate(\"particles\", size=num_particles):\n",
    "\n",
    "        guilty = pyro.sample(\"guilty\", dist.Bernoulli(pr_identity))\n",
    "\n",
    "        isis = pyro.sample(\n",
    "            \"isis\", dist.Bernoulli(guilty * 1 + (1 - guilty) * pr_isis_if_not_guilty)\n",
    "        )\n",
    "\n",
    "        fingers_match_sweden = pyro.sample(\n",
    "            \"fingers_match_not_isis\",\n",
    "            # if guilty then 1\n",
    "            # if not guilty then sample with probability rmp\n",
    "            dist.Bernoulli(guilty * 1 + (1 - guilty) * (rmp_fingers_sweden)),\n",
    "        )\n",
    "\n",
    "\n",
    "        # this is with isis as an informative node, but without conditionin on it\n",
    "        # conditioning will be achieved by masking\n",
    "        fingers_match_isis = pyro.sample(\n",
    "            \"fingers_match_isis\",\n",
    "            # if guilty then 1\n",
    "            # if not guilty then sample with probability pr_fingers_match_if_isis\n",
    "            dist.Bernoulli(\n",
    "                guilty * 1\n",
    "                + (1 - guilty)\n",
    "                * (\n",
    "                    (pr_fingers_match_if_isis) * isis\n",
    "                    + (1 - isis) * (rmp_fingers_sweden)\n",
    "                )\n",
    "            ),\n",
    "        )\n",
    "\n",
    "    # Mask 1: fingers match\n",
    "    evidence_mask_fingers_sweden = (fingers_match_sweden).bool()\n",
    "    guilty_masked_fingers_sweden = pyro.deterministic(\n",
    "        \"guilty_masked_fingers_sweden\",\n",
    "        torch.where(evidence_mask_fingers_sweden, guilty, torch.tensor(float(\"nan\"))),\n",
    "    )\n",
    "\n",
    "    posterior_guilty_fingers_sweden = pyro.deterministic(\n",
    "        \"posterior_guilty_fingers_sweden\", torch.nanmean(guilty_masked_fingers_sweden, axis=0)\n",
    "    )\n",
    "\n",
    "    # Mask 2: fingers match, isis\n",
    "    evidence_mask_fingers_isis = (fingers_match_isis * isis).bool()\n",
    "    guilty_masked_fingers_isis = pyro.deterministic(\n",
    "        \"guilty_masked_fingers_isis\",\n",
    "        torch.where(evidence_mask_fingers_isis, guilty, torch.tensor(float(\"nan\"))),\n",
    "    )\n",
    "\n",
    "    posterior_guilty_fingers_isis = pyro.deterministic(\n",
    "        \"posterior_guilty_fingers_isis\"        ,\n",
    "        torch.nanmean(guilty_masked_fingers_isis, axis=0),\n",
    "    )\n",
    "\n",
    "    return {\n",
    "        \"guilty\": guilty,\n",
    "        \"isis\": isis,\n",
    "        \"fingers_match_sweden\": fingers_match_sweden,\n",
    "        \"fingers_match_isis\": fingers_match_isis,\n",
    "        \"posterior_guilty_fingers_sweden\": posterior_guilty_fingers_sweden,\n",
    "        \"posterior_guilty_fingers_isis\": posterior_guilty_fingers_isis,\n",
    "    }\n",
    "\n",
    "\n",
    "# set pyro random seed\n",
    "pyro.set_rng_seed(422323)\n",
    "\n",
    "swedish_fingers_guilt_model()"
   ]
  },
  {
   "cell_type": "code",
   "execution_count": 5,
   "metadata": {},
   "outputs": [],
   "source": [
    "# requires pyro 1.9.1\n",
    "#pyro.render_model(swedish_fingers_guilt_model, render_deterministic=True)"
   ]
  },
  {
   "cell_type": "code",
   "execution_count": 6,
   "metadata": {},
   "outputs": [
    {
     "name": "stdout",
     "output_type": "stream",
     "text": [
      "posterior_guilty_fingers_sweden tensor(0.9897)\n",
      "posterior_guilty_fingers_isis tensor(1.)\n"
     ]
    }
   ],
   "source": [
    "# extracting the posterior probabilities\n",
    "\n",
    "with pyro.poutine.trace() as tr:\n",
    "    pyro.set_rng_seed(42)\n",
    "    swedish_fingers_guilt_model(num_particles=1e6)\n",
    "\n",
    "for key in tr.trace.nodes.keys():\n",
    "    if key.startswith(\"posterior\"):\n",
    "        print(key, tr.trace.nodes[key][\"value\"])"
   ]
  },
  {
   "cell_type": "code",
   "execution_count": 5,
   "metadata": {},
   "outputs": [
    {
     "ename": "KeyError",
     "evalue": "'posterior_guilt_not_isis_mean'",
     "output_type": "error",
     "traceback": [
      "\u001b[0;31m---------------------------------------------------------------------------\u001b[0m",
      "\u001b[0;31mKeyError\u001b[0m                                  Traceback (most recent call last)",
      "Cell \u001b[0;32mIn[5], line 3\u001b[0m\n\u001b[1;32m      1\u001b[0m posterior_guilt_not_isis_mean \u001b[38;5;241m=\u001b[39m torch\u001b[38;5;241m.\u001b[39mtensor(\n\u001b[1;32m      2\u001b[0m     [\n\u001b[0;32m----> 3\u001b[0m         \u001b[38;5;241m1\u001b[39m \u001b[38;5;241m-\u001b[39m \u001b[43mtr\u001b[49m\u001b[38;5;241;43m.\u001b[39;49m\u001b[43mtrace\u001b[49m\u001b[38;5;241;43m.\u001b[39;49m\u001b[43mnodes\u001b[49m\u001b[43m[\u001b[49m\u001b[38;5;124;43m\"\u001b[39;49m\u001b[38;5;124;43mposterior_guilt_not_isis_mean\u001b[39;49m\u001b[38;5;124;43m\"\u001b[39;49m\u001b[43m]\u001b[49m[\u001b[38;5;124m\"\u001b[39m\u001b[38;5;124mvalue\u001b[39m\u001b[38;5;124m\"\u001b[39m],\n\u001b[1;32m      4\u001b[0m         tr\u001b[38;5;241m.\u001b[39mtrace\u001b[38;5;241m.\u001b[39mnodes[\u001b[38;5;124m\"\u001b[39m\u001b[38;5;124mposterior_guilt_not_isis_mean\u001b[39m\u001b[38;5;124m\"\u001b[39m][\u001b[38;5;124m\"\u001b[39m\u001b[38;5;124mvalue\u001b[39m\u001b[38;5;124m\"\u001b[39m],\n\u001b[1;32m      5\u001b[0m     ]\n\u001b[1;32m      6\u001b[0m )\n\u001b[1;32m      8\u001b[0m posterior_guilt_isis_mean \u001b[38;5;241m=\u001b[39m torch\u001b[38;5;241m.\u001b[39mtensor(\n\u001b[1;32m      9\u001b[0m     [\n\u001b[1;32m     10\u001b[0m         \u001b[38;5;241m1\u001b[39m \u001b[38;5;241m-\u001b[39m tr\u001b[38;5;241m.\u001b[39mtrace\u001b[38;5;241m.\u001b[39mnodes[\u001b[38;5;124m\"\u001b[39m\u001b[38;5;124mposterior_guilt_isis_mean\u001b[39m\u001b[38;5;124m\"\u001b[39m][\u001b[38;5;124m\"\u001b[39m\u001b[38;5;124mvalue\u001b[39m\u001b[38;5;124m\"\u001b[39m],\n\u001b[1;32m     11\u001b[0m         tr\u001b[38;5;241m.\u001b[39mtrace\u001b[38;5;241m.\u001b[39mnodes[\u001b[38;5;124m\"\u001b[39m\u001b[38;5;124mposterior_guilt_isis_mean\u001b[39m\u001b[38;5;124m\"\u001b[39m][\u001b[38;5;124m\"\u001b[39m\u001b[38;5;124mvalue\u001b[39m\u001b[38;5;124m\"\u001b[39m],\n\u001b[1;32m     12\u001b[0m     ]\n\u001b[1;32m     13\u001b[0m )\n\u001b[1;32m     15\u001b[0m \u001b[38;5;28mprint\u001b[39m(\u001b[38;5;124m\"\u001b[39m\u001b[38;5;124mposterior_guilt_not_isis_mean\u001b[39m\u001b[38;5;124m\"\u001b[39m, posterior_guilt_not_isis_mean)\n",
      "\u001b[0;31mKeyError\u001b[0m: 'posterior_guilt_not_isis_mean'"
     ]
    }
   ],
   "source": [
    "posterior_guilt_sweden = torch.tensor(\n",
    "    [\n",
    "        1 - tr.trace.nodes[\"posterior_guilty_fingers_sweden\"][\"value\"],\n",
    "        tr.trace.nodes[\"posterior_guilty_fingers_sweden\"][\"value\"],\n",
    "    ]\n",
    ")\n",
    "\n",
    "posterior_guilt_isis = torch.tensor(\n",
    "    [\n",
    "        1 - tr.trace.nodes[\"posterior_guilty_fingers_isis\"][\"value\"],\n",
    "        tr.trace.nodes[\"posterior_guilty_fingers_isis\"][\"value\"],\n",
    "    ]\n",
    ")\n",
    "\n",
    "print(\"posterior_guilt_not_isis_mean\", posterior_guilt_sweden)\n",
    "print(\"posterior_guilt_isis_mean\", posterior_guilt_isis)\n",
    "\n",
    "\n",
    "\n",
    "prior_guilt = torch.tensor([1 - pr_identity, pr_identity])\n",
    "\n",
    "\n",
    "probs_of_evidence = torch.tensor(\n",
    "    [pr_fingers_match_if_not_isis, pr_fingers_match_if_isis]\n",
    ")\n",
    "print(probs_of_evidence)"
   ]
  },
  {
   "cell_type": "code",
   "execution_count": 54,
   "metadata": {},
   "outputs": [
    {
     "name": "stdout",
     "output_type": "stream",
     "text": [
      "tensor([0.9179, 0.9160])\n",
      "Expected Weights: {'expected_weight': tensor(-1.4350e-06), 'weight_prior': 0.9192068800330162, 'posterior_weights': tensor([0.9179, 0.9160]), 'weight_changes': tensor([-0.0013, -0.0033]), 'weighted_weight_changes': tensor([-1.3228e-07, -1.3027e-06])}\n"
     ]
    }
   ],
   "source": [
    "expected_weights = expected_weight(\n",
    "    probs_of_evidence,\n",
    "    prior_guilt,\n",
    "    [posterior_guilt_not_isis_mean, posterior_guilt_isis_mean],\n",
    ")\n",
    "\n",
    "print(\"Expected Weights:\", expected_weights)"
   ]
  }
 ],
 "metadata": {
  "kernelspec": {
   "display_name": "mrbook",
   "language": "python",
   "name": "python3"
  },
  "language_info": {
   "codemirror_mode": {
    "name": "ipython",
    "version": 3
   },
   "file_extension": ".py",
   "mimetype": "text/x-python",
   "name": "python",
   "nbconvert_exporter": "python",
   "pygments_lexer": "ipython3",
   "version": "3.10.0"
  }
 },
 "nbformat": 4,
 "nbformat_minor": 2
}
