{
 "cells": [
  {
   "cell_type": "markdown",
   "metadata": {},
   "source": [
    "## Missing Fingers"
   ]
  },
  {
   "cell_type": "code",
   "execution_count": 1,
   "metadata": {},
   "outputs": [],
   "source": [
    "import warnings\n",
    "from typing import List\n",
    "\n",
    "import pyro\n",
    "import pyro.distributions as dist\n",
    "import torch\n",
    "\n",
    "import probability_on_trial as pot"
   ]
  },
  {
   "cell_type": "markdown",
   "metadata": {},
   "source": [
    "Building Core model:"
   ]
  },
  {
   "cell_type": "code",
   "execution_count": 40,
   "metadata": {},
   "outputs": [
    {
     "name": "stdout",
     "output_type": "stream",
     "text": [
      "tensor([0.0033])\n",
      "fingers_match_sweden tensor([1.0000e-04, 1.0000e+00])\n",
      "fingers_match_isis tensor([4.0000e-04, 1.0000e+00])\n",
      "tensor([1.0000e-07, 3.3333e-03])\n",
      "fingers_match_sweden tensor([1.0000e-04, 1.0000e+00])\n",
      "fingers_match_isis tensor([4.0000e-04, 1.0000e+00])\n",
      "tensor([0.0033])\n",
      "fingers_match_sweden tensor([1.0000e-04, 1.0000e+00])\n",
      "fingers_match_isis tensor([4.0000e-04, 1.0000e+00])\n",
      "tensor(0.0007) tensor(0.8952)\n"
     ]
    }
   ],
   "source": [
    "pyro.set_rng_seed(42)\n",
    "\n",
    "import matplotlib.pyplot as plt \n",
    "\n",
    "\n",
    "pr_identity = 1/10e6 # Prior probability that the suspect is guilty if they are say from Sweden  \n",
    "pr_identity_if_isis = 1/ 300 # say we estimate total ISIS force at that time to be 100k\n",
    "rmp_fingers_sweden = 2 / 20000 # RMP for Sweden\n",
    "pr_fingers_match_if_isis=2 / 5000 # RMP for ISIS memebers; for now a precise number4\n",
    "pr_isis = 300/10e6 # Prior probability that the suspect is from ISIS\n",
    "\n",
    "\n",
    "def swedish_fingers_guilt_precise_core(\n",
    "    pr_identity: float = pr_identity, \n",
    "    pr_identity_if_isis: float =pr_identity_if_isis,     \n",
    "    rmp_fingers_sweden: float =rmp_fingers_sweden,  \n",
    "    pr_fingers_match_if_isis: float = pr_fingers_match_if_isis,  \n",
    "    pr_isis = pr_isis,\n",
    "    num_particles=3e7,  \n",
    "):\n",
    "\n",
    "    with pyro.plate(\"particles\", size=num_particles):\n",
    "\n",
    "        # not important, here, important for the probability of evidential scenarios\n",
    "        isis = pyro.sample(\n",
    "            \"isis\", dist.Bernoulli(pr_isis)\n",
    "        )\n",
    "\n",
    "        guilty_sweden = pyro.sample(\"guilty_sweden\", dist.Bernoulli(pr_identity))\n",
    "\n",
    "        guilty_isis = pyro.sample(\"guilty\", dist.Bernoulli(\n",
    "            (1-isis) * pr_identity + isis * pr_identity_if_isis))\n",
    "    \n",
    "\n",
    "        fingers_match_sweden = pyro.sample(\n",
    "            \"fingers_match_not_isis\",\n",
    "            # if guilty then 1\n",
    "            # if not guilty then sample with probability rmp\n",
    "            dist.Bernoulli(guilty_sweden * 1 + (1 - guilty_sweden) * (rmp_fingers_sweden)),\n",
    "        )\n",
    "\n",
    "\n",
    "        # this is with isis as an informative node, \n",
    "        # but will only give the right result if the model is conditoned on isis\n",
    "        # which we meed to do anyway\n",
    "        # for MC estimation, as being in isis is rare\n",
    "        fingers_match_isis =   pyro.sample(\"fingers_match_isis\",\n",
    "            dist.Bernoulli(\n",
    "                guilty_isis * 1\n",
    "                + (1 - guilty_isis) * pr_fingers_match_if_isis\n",
    "                                ),\n",
    "        )\n",
    "        \n",
    "\n",
    "    # Evidence mask 1: fingers match\n",
    "    evidence_mask_fingers_sweden = (fingers_match_sweden).bool()\n",
    "    guilty_masked_fingers_sweden = pyro.deterministic(\n",
    "        \"guilty_masked_fingers_sweden\",\n",
    "        torch.where(evidence_mask_fingers_sweden, guilty_sweden, torch.tensor(float(\"nan\"))),\n",
    "    )\n",
    "\n",
    "    posterior_guilty_fingers_sweden = pyro.deterministic(\n",
    "        \"posterior_guilty_fingers_sweden\", torch.nanmean(guilty_masked_fingers_sweden, axis=0)\n",
    "    )\n",
    "\n",
    "    # Mask 2: fingers match, isis\n",
    "    evidence_mask_fingers_isis = (fingers_match_isis).bool()\n",
    "    \n",
    "\n",
    "    guilty_masked_fingers_isis = pyro.deterministic(\n",
    "        \"guilty_masked_fingers_isis\",\n",
    "        torch.where(evidence_mask_fingers_isis, guilty_isis, torch.tensor(float(\"nan\"))),\n",
    "    )\n",
    "\n",
    "    posterior_guilty_fingers_isis = pyro.deterministic(\n",
    "        \"posterior_guilty_fingers_isis\"        ,\n",
    "        torch.nanmean(guilty_masked_fingers_isis, axis=0),\n",
    "    )\n",
    "\n",
    "    return {\n",
    "        \"posterior_guilty_fingers_sweden\": posterior_guilty_fingers_sweden,\n",
    "        \"posterior_guilty_fingers_isis\": posterior_guilty_fingers_isis,\n",
    "    }\n",
    "\n",
    "\n",
    "\n",
    "with pyro.condition(data={\"isis\": torch.tensor(1.0)}):\n",
    "    posterior_isis = swedish_fingers_guilt_precise_core()['posterior_guilty_fingers_isis']\n",
    "\n",
    "\n",
    "def swedish_fingers_guilt_precise_estimator(**kwargs):\n",
    "\n",
    "    posterior_sweden = swedish_fingers_guilt_precise_core(**kwargs)['posterior_guilty_fingers_sweden']\n",
    "\n",
    "    with pyro.condition(data={\"isis\": torch.tensor(1.0)}):\n",
    "        posterior_isis = swedish_fingers_guilt_precise_core(**kwargs)['posterior_guilty_fingers_isis']\n",
    "\n",
    "    return posterior_sweden, posterior_isis\n",
    "\n",
    "\n",
    "\n",
    "pyro.set_rng_seed(422323)\n",
    "\n",
    "posterior_sweden, posterior_isis = swedish_fingers_guilt_precise_estimator()\n",
    "\n",
    "print(posterior_sweden, posterior_isis)"
   ]
  },
  {
   "cell_type": "code",
   "execution_count": 5,
   "metadata": {},
   "outputs": [],
   "source": [
    "# requires pyro 1.9.1\n",
    "#pyro.render_model(swedish_fingers_guilt_model, render_deterministic=True)"
   ]
  },
  {
   "cell_type": "code",
   "execution_count": 43,
   "metadata": {},
   "outputs": [
    {
     "name": "stdout",
     "output_type": "stream",
     "text": [
      "posterior_guilt_no_isis_info tensor([9.9932e-01, 6.8213e-04])\n",
      "posterior_guilt_isis tensor([0.1048, 0.8952])\n"
     ]
    }
   ],
   "source": [
    "posterior_guilt_sweden = torch.tensor(\n",
    "    [\n",
    "        1 - posterior_sweden,\n",
    "        posterior_sweden,]\n",
    ")\n",
    "\n",
    "posterior_guilt_isis = torch.tensor(\n",
    "    [\n",
    "    1 - posterior_isis,\n",
    "        posterior_isis\n",
    "    ]\n",
    ")\n",
    "\n",
    "prior_guilt = torch.tensor([1 - pr_identity, pr_identity])\n",
    "prior_guilt_isis = torch.tensor([1 - pr_identity_if_isis, pr_identity_if_isis])\n",
    "\n",
    "print(\"posterior_guilt_no_isis_info\", posterior_guilt_sweden)\n",
    "print(\"posterior_guilt_isis\", posterior_guilt_isis)\n",
    "\n",
    "# need to rethink this\n",
    "probs_of_evidece =  torch.tensor(\n",
    "        [\n",
    "        1- (pr_isis * pr_fingers_match_if_isis), pr_isis * pr_fingers_match_if_isis\n",
    "        ]\n",
    "    )\n",
    "# probs_of_evidence = torch.tensor(\n",
    "#     [pr_fingers_match_if_not_isis, pr_fingers_match_if_isis]\n",
    "# )\n",
    "# print(probs_of_evidence)"
   ]
  },
  {
   "cell_type": "code",
   "execution_count": 54,
   "metadata": {},
   "outputs": [
    {
     "name": "stdout",
     "output_type": "stream",
     "text": [
      "tensor([0.9179, 0.9160])\n",
      "Expected Weights: {'expected_weight': tensor(-1.4350e-06), 'weight_prior': 0.9192068800330162, 'posterior_weights': tensor([0.9179, 0.9160]), 'weight_changes': tensor([-0.0013, -0.0033]), 'weighted_weight_changes': tensor([-1.3228e-07, -1.3027e-06])}\n"
     ]
    }
   ],
   "source": [
    "expected_weights = expected_weight(\n",
    "    probs_of_evidence,\n",
    "    prior_guilt,\n",
    "    [posterior_guilt_not_isis_mean, posterior_guilt_isis_mean],\n",
    ")\n",
    "\n",
    "print(\"Expected Weights:\", expected_weights)"
   ]
  }
 ],
 "metadata": {
  "kernelspec": {
   "display_name": "mrbook",
   "language": "python",
   "name": "python3"
  },
  "language_info": {
   "codemirror_mode": {
    "name": "ipython",
    "version": 3
   },
   "file_extension": ".py",
   "mimetype": "text/x-python",
   "name": "python",
   "nbconvert_exporter": "python",
   "pygments_lexer": "ipython3",
   "version": "3.10.0"
  }
 },
 "nbformat": 4,
 "nbformat_minor": 2
}
