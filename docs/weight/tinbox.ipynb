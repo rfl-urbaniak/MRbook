{
 "cells": [
  {
   "cell_type": "markdown",
   "metadata": {},
   "source": [
    "# The Tinbox Case"
   ]
  },
  {
   "cell_type": "markdown",
   "metadata": {},
   "source": [
    "case description here"
   ]
  },
  {
   "cell_type": "code",
   "execution_count": 1,
   "metadata": {},
   "outputs": [],
   "source": [
    "import inspect\n",
    "\n",
    "import matplotlib.pyplot as plt\n",
    "import pyro\n",
    "import pyro.distributions as dist\n",
    "import seaborn as sns\n",
    "import torch\n",
    "from rich import print\n",
    "\n",
    "import probability_on_trial as pot"
   ]
  },
  {
   "cell_type": "markdown",
   "metadata": {},
   "source": [
    "## Weight and Expected Weight of the evidence"
   ]
  },
  {
   "cell_type": "markdown",
   "metadata": {},
   "source": [
    "<span style=\"color:red\">Problem: probs. of evidence, are they dervied from prior probs. and the reliability of the evidence?</span>\n",
    "\n",
    "Answer: these are computed using the current probabilites and likelihoods, P(E) = P(E|H)P(H) + P(E|~H)(1-P(H))"
   ]
  },
  {
   "cell_type": "markdown",
   "metadata": {},
   "source": [
    "In the chunk below, we are testing the `expected_weight` function with dummy values. The `outcome_prior` is indifferent to the $3$ posteriors defined as tensors withing the list. `probs_of_evidence` is a tensor of probabilities of those pieces of evidence."
   ]
  },
  {
   "cell_type": "code",
   "execution_count": 2,
   "metadata": {},
   "outputs": [
    {
     "data": {
      "text/html": [
       "<pre style=\"white-space:pre;overflow-x:auto;line-height:normal;font-family:Menlo,'DejaVu Sans Mono',consolas,'Courier New',monospace\"><span style=\"color: #800080; text-decoration-color: #800080; font-weight: bold\">torch.Size</span><span style=\"font-weight: bold\">([</span><span style=\"color: #008080; text-decoration-color: #008080; font-weight: bold\">3</span>, <span style=\"color: #008080; text-decoration-color: #008080; font-weight: bold\">4</span><span style=\"font-weight: bold\">])</span>\n",
       "</pre>\n"
      ],
      "text/plain": [
       "\u001b[1;35mtorch.Size\u001b[0m\u001b[1m(\u001b[0m\u001b[1m[\u001b[0m\u001b[1;36m3\u001b[0m, \u001b[1;36m4\u001b[0m\u001b[1m]\u001b[0m\u001b[1m)\u001b[0m\n"
      ]
     },
     "metadata": {},
     "output_type": "display_data"
    },
    {
     "data": {
      "text/html": [
       "<pre style=\"white-space:pre;overflow-x:auto;line-height:normal;font-family:Menlo,'DejaVu Sans Mono',consolas,'Courier New',monospace\">Calculates the weight of the posterior distribution.\n",
       "The weight is defined as <span style=\"color: #008080; text-decoration-color: #008080; font-weight: bold\">1</span> - <span style=\"color: #800080; text-decoration-color: #800080; font-weight: bold\">H</span><span style=\"font-weight: bold\">(</span>posterior<span style=\"font-weight: bold\">)</span> <span style=\"color: #800080; text-decoration-color: #800080\">/</span> <span style=\"color: #800080; text-decoration-color: #800080; font-weight: bold\">H</span><span style=\"font-weight: bold\">(</span>prior<span style=\"font-weight: bold\">)</span>\n",
       "where H is the entropy of the distribution.\n",
       "    param: posterior: torch.Tensor - tensor of probabilities <span style=\"font-weight: bold\">(</span>not samples<span style=\"font-weight: bold\">)</span>.\n",
       "    Probabilities need to sum to <span style=\"color: #008080; text-decoration-color: #008080; font-weight: bold\">1</span> in dimension <span style=\"color: #008080; text-decoration-color: #008080; font-weight: bold\">-1</span>, can be batched in dimension <span style=\"color: #008080; text-decoration-color: #008080; font-weight: bold\">-2</span>.\n",
       "    See test_weight.py for examples.\n",
       "</pre>\n"
      ],
      "text/plain": [
       "Calculates the weight of the posterior distribution.\n",
       "The weight is defined as \u001b[1;36m1\u001b[0m - \u001b[1;35mH\u001b[0m\u001b[1m(\u001b[0mposterior\u001b[1m)\u001b[0m \u001b[35m/\u001b[0m \u001b[1;35mH\u001b[0m\u001b[1m(\u001b[0mprior\u001b[1m)\u001b[0m\n",
       "where H is the entropy of the distribution.\n",
       "    param: posterior: torch.Tensor - tensor of probabilities \u001b[1m(\u001b[0mnot samples\u001b[1m)\u001b[0m.\n",
       "    Probabilities need to sum to \u001b[1;36m1\u001b[0m in dimension \u001b[1;36m-1\u001b[0m, can be batched in dimension \u001b[1;36m-2\u001b[0m.\n",
       "    See test_weight.py for examples.\n"
      ]
     },
     "metadata": {},
     "output_type": "display_data"
    },
    {
     "data": {
      "text/html": [
       "<pre style=\"white-space:pre;overflow-x:auto;line-height:normal;font-family:Menlo,'DejaVu Sans Mono',consolas,'Courier New',monospace\"><span style=\"color: #800080; text-decoration-color: #800080; font-weight: bold\">tensor</span><span style=\"font-weight: bold\">(</span><span style=\"color: #008080; text-decoration-color: #008080; font-weight: bold\">0.2145</span><span style=\"font-weight: bold\">)</span>\n",
       "</pre>\n"
      ],
      "text/plain": [
       "\u001b[1;35mtensor\u001b[0m\u001b[1m(\u001b[0m\u001b[1;36m0.2145\u001b[0m\u001b[1m)\u001b[0m\n"
      ]
     },
     "metadata": {},
     "output_type": "display_data"
    },
    {
     "data": {
      "text/html": [
       "<pre style=\"white-space:pre;overflow-x:auto;line-height:normal;font-family:Menlo,'DejaVu Sans Mono',consolas,'Courier New',monospace\"><span style=\"color: #800080; text-decoration-color: #800080; font-weight: bold\">tensor</span><span style=\"font-weight: bold\">([</span><span style=\"color: #008080; text-decoration-color: #008080; font-weight: bold\">0.2145</span>, <span style=\"color: #008080; text-decoration-color: #008080; font-weight: bold\">0.0768</span>, <span style=\"color: #008080; text-decoration-color: #008080; font-weight: bold\">0.0206</span><span style=\"font-weight: bold\">])</span>\n",
       "</pre>\n"
      ],
      "text/plain": [
       "\u001b[1;35mtensor\u001b[0m\u001b[1m(\u001b[0m\u001b[1m[\u001b[0m\u001b[1;36m0.2145\u001b[0m, \u001b[1;36m0.0768\u001b[0m, \u001b[1;36m0.0206\u001b[0m\u001b[1m]\u001b[0m\u001b[1m)\u001b[0m\n"
      ]
     },
     "metadata": {},
     "output_type": "display_data"
    }
   ],
   "source": [
    "# values used in the illustration are meaningless\n",
    "\n",
    "probs_of_evidence = torch.tensor([0.1, 0.5, 0.4])\n",
    "outcome_prior = torch.tensor([0.25, 0.25, 0.25, 0.25])\n",
    "posteriors = [\n",
    "    torch.tensor([0.6, 0.2, 0.1, 0.1]),\n",
    "    torch.tensor([0.3, 0.4, 0.1, 0.2]),\n",
    "    torch.tensor([0.25, 0.35, 0.2, 0.2]),\n",
    "]\n",
    "\n",
    "posteriors = torch.stack(posteriors, dim=-2)\n",
    "print(posteriors.shape)\n",
    "# there are three distributions with four states\n",
    "\n",
    "# first, let's see the docstring of weight\n",
    "print(inspect.getdoc(pot.weight))\n",
    "\n",
    "# calculate on a single distribtion:\n",
    "single_weight = pot.weight(posteriors[0])\n",
    "print(single_weight)\n",
    "assert torch.allclose(single_weight, torch.tensor(0.2145), atol=0.01)\n",
    "\n",
    "# calculate on a batch of distributions:\n",
    "batched_weights = pot.weight(posteriors)\n",
    "print(batched_weights)\n",
    "assert torch.allclose(\n",
    "    batched_weights, torch.tensor([0.2145, 0.0768, 0.0206]), atol=0.01\n",
    ")"
   ]
  },
  {
   "cell_type": "code",
   "execution_count": 3,
   "metadata": {},
   "outputs": [
    {
     "data": {
      "text/html": [
       "<pre style=\"white-space:pre;overflow-x:auto;line-height:normal;font-family:Menlo,'DejaVu Sans Mono',consolas,'Courier New',monospace\">Compute the expected weight change given a prior distribution, posterior distributions,\n",
       "and the probabilities of evidence.\n",
       "\n",
       "The function evaluates how much the weight of evidence changes based on different\n",
       "posterior distributions, adjusting for the probabilities of the evidence.\n",
       "\n",
       "Args:\n",
       "    probs_of_evidence <span style=\"font-weight: bold\">(</span>torch.Tensor<span style=\"font-weight: bold\">)</span>: A tensor representing the likelihood of each evidence scenario.\n",
       "    outcome_prior <span style=\"font-weight: bold\">(</span>torch.Tensor<span style=\"font-weight: bold\">)</span>: A tensor representing the prior distribution over outcomes.\n",
       "    posteriors <span style=\"font-weight: bold\">(</span>List<span style=\"font-weight: bold\">)</span>: A list of tensors, each representing a posterior distribution.\n",
       "    base <span style=\"font-weight: bold\">(</span>int, optional<span style=\"font-weight: bold\">)</span>: The logarithmic base used in weight calculations <span style=\"font-weight: bold\">(</span>default: <span style=\"color: #008080; text-decoration-color: #008080; font-weight: bold\">2</span><span style=\"font-weight: bold\">)</span>.\n",
       "\n",
       "Returns:\n",
       "    Dict: A dictionary containing the following elements:\n",
       "\n",
       "    - **expected_weight** <span style=\"font-weight: bold\">(</span>`torch.Tensor`<span style=\"font-weight: bold\">)</span>: The overall expected change in weight across possible\n",
       "      evidence values, incorporating both prior information and posterior adjustments.\n",
       "\n",
       "    - **weight_prior** <span style=\"font-weight: bold\">(</span>`torch.Tensor`<span style=\"font-weight: bold\">)</span>: The weight of the prior distribution before observing any evidence.\n",
       "\n",
       "    - **posterior_weights** <span style=\"font-weight: bold\">(</span>`torch.Tensor`<span style=\"font-weight: bold\">)</span>: The computed weights of the posterior distributions.\n",
       "      A posterior weight close to <span style=\"color: #008080; text-decoration-color: #008080; font-weight: bold\">1</span> indicates more certainty <span style=\"font-weight: bold\">(</span>lower entropy<span style=\"font-weight: bold\">)</span>, whereas a value close\n",
       "      to <span style=\"color: #008080; text-decoration-color: #008080; font-weight: bold\">0</span> suggests higher uncertainty.\n",
       "\n",
       "    - **weight_changes** <span style=\"font-weight: bold\">(</span>`torch.Tensor`<span style=\"font-weight: bold\">)</span>: The differences between posterior weights and the prior weight,\n",
       "      quantifying how much each posterior deviates from the prior.\n",
       "\n",
       "    - **weighted_weight_changes** <span style=\"font-weight: bold\">(</span>`torch.Tensor`<span style=\"font-weight: bold\">)</span>: The `weight_changes` values scaled by their respective\n",
       "      probabilities <span style=\"font-weight: bold\">(</span>`probs_of_evidence`<span style=\"font-weight: bold\">)</span>, representing each piece of evidence's contribution to the\n",
       "      overall expected weight change.\n",
       "\n",
       "Mathematical Formulation:\n",
       "</pre>\n"
      ],
      "text/plain": [
       "Compute the expected weight change given a prior distribution, posterior distributions,\n",
       "and the probabilities of evidence.\n",
       "\n",
       "The function evaluates how much the weight of evidence changes based on different\n",
       "posterior distributions, adjusting for the probabilities of the evidence.\n",
       "\n",
       "Args:\n",
       "    probs_of_evidence \u001b[1m(\u001b[0mtorch.Tensor\u001b[1m)\u001b[0m: A tensor representing the likelihood of each evidence scenario.\n",
       "    outcome_prior \u001b[1m(\u001b[0mtorch.Tensor\u001b[1m)\u001b[0m: A tensor representing the prior distribution over outcomes.\n",
       "    posteriors \u001b[1m(\u001b[0mList\u001b[1m)\u001b[0m: A list of tensors, each representing a posterior distribution.\n",
       "    base \u001b[1m(\u001b[0mint, optional\u001b[1m)\u001b[0m: The logarithmic base used in weight calculations \u001b[1m(\u001b[0mdefault: \u001b[1;36m2\u001b[0m\u001b[1m)\u001b[0m.\n",
       "\n",
       "Returns:\n",
       "    Dict: A dictionary containing the following elements:\n",
       "\n",
       "    - **expected_weight** \u001b[1m(\u001b[0m`torch.Tensor`\u001b[1m)\u001b[0m: The overall expected change in weight across possible\n",
       "      evidence values, incorporating both prior information and posterior adjustments.\n",
       "\n",
       "    - **weight_prior** \u001b[1m(\u001b[0m`torch.Tensor`\u001b[1m)\u001b[0m: The weight of the prior distribution before observing any evidence.\n",
       "\n",
       "    - **posterior_weights** \u001b[1m(\u001b[0m`torch.Tensor`\u001b[1m)\u001b[0m: The computed weights of the posterior distributions.\n",
       "      A posterior weight close to \u001b[1;36m1\u001b[0m indicates more certainty \u001b[1m(\u001b[0mlower entropy\u001b[1m)\u001b[0m, whereas a value close\n",
       "      to \u001b[1;36m0\u001b[0m suggests higher uncertainty.\n",
       "\n",
       "    - **weight_changes** \u001b[1m(\u001b[0m`torch.Tensor`\u001b[1m)\u001b[0m: The differences between posterior weights and the prior weight,\n",
       "      quantifying how much each posterior deviates from the prior.\n",
       "\n",
       "    - **weighted_weight_changes** \u001b[1m(\u001b[0m`torch.Tensor`\u001b[1m)\u001b[0m: The `weight_changes` values scaled by their respective\n",
       "      probabilities \u001b[1m(\u001b[0m`probs_of_evidence`\u001b[1m)\u001b[0m, representing each piece of evidence's contribution to the\n",
       "      overall expected weight change.\n",
       "\n",
       "Mathematical Formulation:\n"
      ]
     },
     "metadata": {},
     "output_type": "display_data"
    },
    {
     "data": {
      "text/html": [
       "<pre style=\"white-space:pre;overflow-x:auto;line-height:normal;font-family:Menlo,'DejaVu Sans Mono',consolas,'Courier New',monospace\"><span style=\"font-weight: bold\">{</span>\n",
       "    <span style=\"color: #008000; text-decoration-color: #008000\">'expected_weight'</span>: <span style=\"color: #800080; text-decoration-color: #800080; font-weight: bold\">tensor</span><span style=\"font-weight: bold\">(</span><span style=\"color: #008080; text-decoration-color: #008080; font-weight: bold\">0.0681</span><span style=\"font-weight: bold\">)</span>,\n",
       "    <span style=\"color: #008000; text-decoration-color: #008000\">'weight_prior'</span>: <span style=\"color: #800080; text-decoration-color: #800080; font-weight: bold\">tensor</span><span style=\"font-weight: bold\">(</span><span style=\"color: #008080; text-decoration-color: #008080; font-weight: bold\">0</span>.<span style=\"font-weight: bold\">)</span>,\n",
       "    <span style=\"color: #008000; text-decoration-color: #008000\">'posterior_weights'</span>: <span style=\"color: #800080; text-decoration-color: #800080; font-weight: bold\">tensor</span><span style=\"font-weight: bold\">([</span><span style=\"color: #008080; text-decoration-color: #008080; font-weight: bold\">0.2145</span>, <span style=\"color: #008080; text-decoration-color: #008080; font-weight: bold\">0.0768</span>, <span style=\"color: #008080; text-decoration-color: #008080; font-weight: bold\">0.0206</span><span style=\"font-weight: bold\">])</span>,\n",
       "    <span style=\"color: #008000; text-decoration-color: #008000\">'weight_changes'</span>: <span style=\"color: #800080; text-decoration-color: #800080; font-weight: bold\">tensor</span><span style=\"font-weight: bold\">([</span><span style=\"color: #008080; text-decoration-color: #008080; font-weight: bold\">0.2145</span>, <span style=\"color: #008080; text-decoration-color: #008080; font-weight: bold\">0.0768</span>, <span style=\"color: #008080; text-decoration-color: #008080; font-weight: bold\">0.0206</span><span style=\"font-weight: bold\">])</span>,\n",
       "    <span style=\"color: #008000; text-decoration-color: #008000\">'weighted_weight_changes'</span>: <span style=\"color: #800080; text-decoration-color: #800080; font-weight: bold\">tensor</span><span style=\"font-weight: bold\">([</span><span style=\"color: #008080; text-decoration-color: #008080; font-weight: bold\">0.0215</span>, <span style=\"color: #008080; text-decoration-color: #008080; font-weight: bold\">0.0384</span>, <span style=\"color: #008080; text-decoration-color: #008080; font-weight: bold\">0.0082</span><span style=\"font-weight: bold\">])</span>\n",
       "<span style=\"font-weight: bold\">}</span>\n",
       "</pre>\n"
      ],
      "text/plain": [
       "\u001b[1m{\u001b[0m\n",
       "    \u001b[32m'expected_weight'\u001b[0m: \u001b[1;35mtensor\u001b[0m\u001b[1m(\u001b[0m\u001b[1;36m0.0681\u001b[0m\u001b[1m)\u001b[0m,\n",
       "    \u001b[32m'weight_prior'\u001b[0m: \u001b[1;35mtensor\u001b[0m\u001b[1m(\u001b[0m\u001b[1;36m0\u001b[0m.\u001b[1m)\u001b[0m,\n",
       "    \u001b[32m'posterior_weights'\u001b[0m: \u001b[1;35mtensor\u001b[0m\u001b[1m(\u001b[0m\u001b[1m[\u001b[0m\u001b[1;36m0.2145\u001b[0m, \u001b[1;36m0.0768\u001b[0m, \u001b[1;36m0.0206\u001b[0m\u001b[1m]\u001b[0m\u001b[1m)\u001b[0m,\n",
       "    \u001b[32m'weight_changes'\u001b[0m: \u001b[1;35mtensor\u001b[0m\u001b[1m(\u001b[0m\u001b[1m[\u001b[0m\u001b[1;36m0.2145\u001b[0m, \u001b[1;36m0.0768\u001b[0m, \u001b[1;36m0.0206\u001b[0m\u001b[1m]\u001b[0m\u001b[1m)\u001b[0m,\n",
       "    \u001b[32m'weighted_weight_changes'\u001b[0m: \u001b[1;35mtensor\u001b[0m\u001b[1m(\u001b[0m\u001b[1m[\u001b[0m\u001b[1;36m0.0215\u001b[0m, \u001b[1;36m0.0384\u001b[0m, \u001b[1;36m0.0082\u001b[0m\u001b[1m]\u001b[0m\u001b[1m)\u001b[0m\n",
       "\u001b[1m}\u001b[0m\n"
      ]
     },
     "metadata": {},
     "output_type": "display_data"
    }
   ],
   "source": [
    "# Now expected weight\n",
    "# see the function documentation for an explanation\n",
    "print(inspect.getdoc(pot.expected_weight))\n",
    "\n",
    "result = pot.expected_weight(probs_of_evidence, outcome_prior, posteriors)\n",
    "print(result)"
   ]
  },
  {
   "cell_type": "markdown",
   "metadata": {},
   "source": [
    "## Tinbox case, son not considered"
   ]
  },
  {
   "cell_type": "markdown",
   "metadata": {},
   "source": [
    "The first model represents the case where we have 3 pieces of evidence: father's confession, angle of attack and fingerprints found on the tinbox. The only two possible hyphotesis about the perepetrator are: father did that, someone else did that, the son is not considered as a suspect.\n",
    "\n",
    "By masking done within the model, we are able to extract three posterioros representing 3 possible scenerios: father's fingerprints were found, someone else's fingerprints were found, no fingerprints were found."
   ]
  },
  {
   "cell_type": "code",
   "execution_count": 4,
   "metadata": {},
   "outputs": [],
   "source": [
    "# set pyro seed\n",
    "\n",
    "pr_father: float = 0.01  # the core defines point probabilities of some possible states\n",
    "pr_confession_if_father = 0.4\n",
    "pr_confession_if_not_father = 0.0001\n",
    "father_fingerprints_if_father = 0.4\n",
    "father_fingerprints_if_not_father = 0.1\n",
    "other_fingerprints_if_father = 0.2\n",
    "other_fingerprints_if_not_father = 0.4\n",
    "angle_if_father = 0.4\n",
    "angle_if_not_father = 0.5\n",
    "\n",
    "pyro.set_rng_seed(42)\n",
    "\n",
    "\n",
    "def tinbox_core_no_son(\n",
    "    pr_father: float = pr_father,\n",
    "    # the core defines point probabilities of some possible states\n",
    "    pr_confession_if_father=0.4,\n",
    "    pr_confession_if_not_father=0.0001,\n",
    "    father_fingerprints_if_father=0.4,\n",
    "    father_fingerprints_if_not_father=0.1,\n",
    "    other_fingerprints_if_father=0.2,\n",
    "    other_fingerprints_if_not_father=0.4,\n",
    "    angle_if_father=0.4,\n",
    "    angle_if_not_father=0.5,\n",
    "    num_particles=3e4,  # should be wide uniform really\n",
    "):\n",
    "\n",
    "    # Simulating the scenario `num_particles` times\n",
    "    with pyro.plate(\"inner_particles\", size=num_particles):\n",
    "\n",
    "        # Simulate whether the father is guilty (Bernoulli = binary outcome: guilty or not)\n",
    "        father = pyro.sample(\n",
    "            \"father\", dist.Bernoulli(pr_father)\n",
    "        )  # 1 means guilty, 0 means not guilty\n",
    "\n",
    "        # Calculate the probability of a confession based on whether the father is guilty or not\n",
    "        prob_confession = pyro.deterministic(\n",
    "            \"prob_confession\",\n",
    "            father * pr_confession_if_father\n",
    "            + (1 - father) * pr_confession_if_not_father,\n",
    "        )\n",
    "        # If the father is guilty, use pr_confession_if_father, otherwise use pr_confession_if_not_father\n",
    "\n",
    "        # Simulate whether there is a confession (again, a binary outcome: confession or not)\n",
    "        confession = pyro.sample(\"confession\", dist.Bernoulli(prob_confession))\n",
    "\n",
    "        # Calculate the probability of finding the father's fingerprints based on guilt\n",
    "        prob_father_fingerprints = pyro.deterministic(\n",
    "            \"prob_father_fingerprints\",\n",
    "            father * father_fingerprints_if_father\n",
    "            + (1 - father) * father_fingerprints_if_not_father,\n",
    "        )\n",
    "        # If guilty, use father_fingerprints_if_father, otherwise use father_fingerprints_if_not_father\n",
    "\n",
    "        # Simulate whether the father's fingerprints are found\n",
    "        father_fingerprints = pyro.sample(\n",
    "            \"father_fingerprints\", dist.Bernoulli(prob_father_fingerprints)\n",
    "        )\n",
    "\n",
    "        # Calculate the probability of finding other people's fingerprints based on guilt\n",
    "        prob_other_fingerprints = pyro.deterministic(\n",
    "            \"prob_other_fingerprints\",\n",
    "            father * other_fingerprints_if_father\n",
    "            + (1 - father) * other_fingerprints_if_not_father,\n",
    "        )\n",
    "        # If the father is guilty, it's less likely we find other people's fingerprints\n",
    "\n",
    "        # Simulate whether other fingerprints are found\n",
    "        other_fingerprints = pyro.sample(\n",
    "            \"other_fingerprints\", dist.Bernoulli(prob_other_fingerprints)\n",
    "        )\n",
    "\n",
    "        # Calculate the probability of the evidence angle based on guilt\n",
    "        angle_prob = pyro.deterministic(\n",
    "            \"angle_prob\", father * angle_if_father + (1 - father) * angle_if_not_father\n",
    "        )\n",
    "        # If guilty, we use angle_if_father, otherwise we use angle_if_not_father\n",
    "\n",
    "        # Simulate whether the evidence angle matches (binary outcome)\n",
    "        angle = pyro.sample(\"angle\", dist.Bernoulli(angle_prob))\n",
    "\n",
    "        # a bit hacky, but we want to run it inside other models, so we\n",
    "        # avoid running real inference here, using this poor man's\n",
    "        # rejection sampling\n",
    "\n",
    "        # The process below uses masking to generate different scenarios based on the evidence found\n",
    "\n",
    "        # Mask 1: Evidence shows a confession, correct angle, and only father's fingerprints\n",
    "        evidence_mask_father_fingerprint = (\n",
    "            confession * angle * father_fingerprints * (1 - other_fingerprints)\n",
    "        ).bool()\n",
    "        # We want the scenario where the father confesses, the angle matches, and we only find his fingerprints\n",
    "\n",
    "        # Mask 2: Evidence shows a confession and correct angle, but no fingerprints are found\n",
    "        evidence_mask_no_fingerprint = (confession * angle).bool()\n",
    "        # In this scenario, we care only about the confession and matching angle, not fingerprints\n",
    "\n",
    "        # Mask 3: Evidence shows a confession, matching angle, but only other people's fingerprints are found\n",
    "        evidence_mask_not_fathers_fingerprint = (\n",
    "            confession * (1 - father_fingerprints) * other_fingerprints * angle\n",
    "        ).bool()\n",
    "        # In this scenario, we find only other fingerprints, not the father's, even though the confession and angle match\n",
    "\n",
    "        #  Applying the masks:\n",
    "\n",
    "        # Mask father's guilt based on the \"father's fingerprint\" scenario\n",
    "        father_masked_fathers_fingerprint = pyro.deterministic(\n",
    "            \"father_masked_fingerprint\",\n",
    "            torch.where(\n",
    "                evidence_mask_father_fingerprint, father, torch.tensor(float(\"nan\"))\n",
    "            ),\n",
    "        )\n",
    "\n",
    "        # Mask father's guilt based on the \"no fingerprint\" scenario\n",
    "        father_masked_no_fingerpint = pyro.deterministic(\n",
    "            \"father_masked_no_fingerprint\",\n",
    "            torch.where(\n",
    "                evidence_mask_no_fingerprint, father, torch.tensor(float(\"nan\"))\n",
    "            ),\n",
    "        )\n",
    "\n",
    "        # Mask father's guilt based on the \"other people's fingerprints\" scenario\n",
    "        father_masked_not_fathers_fingerprint = pyro.deterministic(\n",
    "            \"father_masked_not_fathers_fingerprint\",\n",
    "            torch.where(\n",
    "                evidence_mask_not_fathers_fingerprint,\n",
    "                father,\n",
    "                torch.tensor(float(\"nan\")),\n",
    "            ),\n",
    "        )\n",
    "\n",
    "    #  Calculate the posterior probabilities (the average probability of father being guilty)\n",
    "    # based on the different scenarios\n",
    "\n",
    "    # Posterior probability that the father is guilty given the first scenario (only father's fingerprints)\n",
    "    posterior_father_fathers_fingerprint = pyro.deterministic(\n",
    "        \"posterior_father_fathers_fingerprint\",\n",
    "        torch.nanmean(father_masked_fathers_fingerprint, axis=0),\n",
    "    )\n",
    "\n",
    "    # Posterior probability that the father is guilty given the second scenario (no fingerprints)\n",
    "    posterior_father_no_fingerprint = pyro.deterministic(\n",
    "        \"posterior_father_no_fingerprint\",\n",
    "        torch.nanmean(father_masked_no_fingerpint, axis=0),\n",
    "    )\n",
    "\n",
    "    # Posterior probability that the father is guilty given the third scenario (other people's fingerprints)\n",
    "    posterior_father_not_fathers_fingerprint = pyro.deterministic(\n",
    "        \"posterior_father_not_fathers_fingerprint\",\n",
    "        torch.nanmean(father_masked_not_fathers_fingerprint, axis=0),\n",
    "    )\n",
    "\n",
    "    return {\n",
    "        \"posterior_father_fathers_fingerprint\": posterior_father_fathers_fingerprint,\n",
    "        \"posterior_father_no_fingerprint\": posterior_father_no_fingerprint,\n",
    "        \"posterior_father_not_fathers_fingerprint\": posterior_father_not_fathers_fingerprint,\n",
    "    }"
   ]
  },
  {
   "cell_type": "markdown",
   "metadata": {},
   "source": [
    "### The graph of the tinbox case"
   ]
  },
  {
   "cell_type": "markdown",
   "metadata": {},
   "source": [
    "The graph below represents the first model of the tinbox case.\n",
    "\n",
    "\n",
    "- **father**: A Bernoulli random variable indicating whether the father is guilty.    \n",
    "- **prob_confession, prob_father_fingerprints, prob_other_fingerprints, angle_prob**: These are deterministic nodes representing probabilities conditioned on the father's guilt.   \n",
    "- **confession, father_fingerprints, other_fingerprints, angle**: These are sampled variables based on the previously calculated probabilities.    \n",
    "- **father_masked_fingerprint, father_masked_not_fathers_fingerprint, father_masked_no_fingerprint**: Intermediate variables that represent the masked outcomes (based on certain evidence like fingerprints or confession).    \n",
    "- **posterior_father_fathers_fingerprint, posterior_father_not_fathers_fingerprint, posterior_father_no_fingerprint**: These are the final outputs, representing posterior probabilities.    "
   ]
  },
  {
   "cell_type": "code",
   "execution_count": 5,
   "metadata": {},
   "outputs": [
    {
     "name": "stderr",
     "output_type": "stream",
     "text": [
      "/home/rafal/miniconda3/envs/mrbook/lib/python3.10/site-packages/torch/cuda/__init__.py:734: UserWarning: Can't initialize NVML\n",
      "  warnings.warn(\"Can't initialize NVML\")\n"
     ]
    },
    {
     "data": {
      "image/svg+xml": [
       "<?xml version=\"1.0\" encoding=\"UTF-8\" standalone=\"no\"?>\n",
       "<!DOCTYPE svg PUBLIC \"-//W3C//DTD SVG 1.1//EN\"\n",
       " \"http://www.w3.org/Graphics/SVG/1.1/DTD/svg11.dtd\">\n",
       "<!-- Generated by graphviz version 2.43.0 (0)\n",
       " -->\n",
       "<!-- Title: %3 Pages: 1 -->\n",
       "<svg width=\"1108pt\" height=\"351pt\"\n",
       " viewBox=\"0.00 0.00 1108.07 351.00\" xmlns=\"http://www.w3.org/2000/svg\" xmlns:xlink=\"http://www.w3.org/1999/xlink\">\n",
       "<g id=\"graph0\" class=\"graph\" transform=\"scale(1 1) rotate(0) translate(4 347)\">\n",
       "<title>%3</title>\n",
       "<polygon fill=\"white\" stroke=\"transparent\" points=\"-4,4 -4,-347 1104.07,-347 1104.07,4 -4,4\"/>\n",
       "<g id=\"clust1\" class=\"cluster\">\n",
       "<title>cluster_inner_particles</title>\n",
       "<polygon fill=\"none\" stroke=\"black\" points=\"88.08,-44 88.08,-335 1087.08,-335 1087.08,-44 88.08,-44\"/>\n",
       "<text text-anchor=\"middle\" x=\"1025.58\" y=\"-51.8\" font-family=\"Times,serif\" font-size=\"14.00\">inner_particles</text>\n",
       "</g>\n",
       "<!-- posterior_father_fathers_fingerprint -->\n",
       "<g id=\"node1\" class=\"node\">\n",
       "<title>posterior_father_fathers_fingerprint</title>\n",
       "<ellipse fill=\"gray\" stroke=\"black\" stroke-dasharray=\"5,2\" cx=\"178.08\" cy=\"-18\" rx=\"178.17\" ry=\"18\"/>\n",
       "<text text-anchor=\"middle\" x=\"178.08\" y=\"-14.3\" font-family=\"Times,serif\" font-size=\"14.00\">posterior_father_fathers_fingerprint</text>\n",
       "</g>\n",
       "<!-- posterior_father_no_fingerprint -->\n",
       "<g id=\"node2\" class=\"node\">\n",
       "<title>posterior_father_no_fingerprint</title>\n",
       "<ellipse fill=\"gray\" stroke=\"black\" stroke-dasharray=\"5,2\" cx=\"944.08\" cy=\"-18\" rx=\"155.97\" ry=\"18\"/>\n",
       "<text text-anchor=\"middle\" x=\"944.08\" y=\"-14.3\" font-family=\"Times,serif\" font-size=\"14.00\">posterior_father_no_fingerprint</text>\n",
       "</g>\n",
       "<!-- posterior_father_not_fathers_fingerprint -->\n",
       "<g id=\"node3\" class=\"node\">\n",
       "<title>posterior_father_not_fathers_fingerprint</title>\n",
       "<ellipse fill=\"gray\" stroke=\"black\" stroke-dasharray=\"5,2\" cx=\"572.08\" cy=\"-18\" rx=\"197.66\" ry=\"18\"/>\n",
       "<text text-anchor=\"middle\" x=\"572.08\" y=\"-14.3\" font-family=\"Times,serif\" font-size=\"14.00\">posterior_father_not_fathers_fingerprint</text>\n",
       "</g>\n",
       "<!-- father -->\n",
       "<g id=\"node4\" class=\"node\">\n",
       "<title>father</title>\n",
       "<ellipse fill=\"white\" stroke=\"black\" cx=\"643.08\" cy=\"-309\" rx=\"38.99\" ry=\"18\"/>\n",
       "<text text-anchor=\"middle\" x=\"643.08\" y=\"-305.3\" font-family=\"Times,serif\" font-size=\"14.00\">father</text>\n",
       "</g>\n",
       "<!-- prob_confession -->\n",
       "<g id=\"node5\" class=\"node\">\n",
       "<title>prob_confession</title>\n",
       "<ellipse fill=\"gray\" stroke=\"black\" stroke-dasharray=\"5,2\" cx=\"747.08\" cy=\"-237\" rx=\"85.29\" ry=\"18\"/>\n",
       "<text text-anchor=\"middle\" x=\"747.08\" y=\"-233.3\" font-family=\"Times,serif\" font-size=\"14.00\">prob_confession</text>\n",
       "</g>\n",
       "<!-- father&#45;&gt;prob_confession -->\n",
       "<g id=\"edge1\" class=\"edge\">\n",
       "<title>father&#45;&gt;prob_confession</title>\n",
       "<path fill=\"none\" stroke=\"black\" d=\"M664.13,-293.83C678.45,-284.19 697.7,-271.24 714.05,-260.23\"/>\n",
       "<polygon fill=\"black\" stroke=\"black\" points=\"716.45,-262.84 722.79,-254.35 712.54,-257.03 716.45,-262.84\"/>\n",
       "</g>\n",
       "<!-- prob_father_fingerprints -->\n",
       "<g id=\"node7\" class=\"node\">\n",
       "<title>prob_father_fingerprints</title>\n",
       "<ellipse fill=\"gray\" stroke=\"black\" stroke-dasharray=\"5,2\" cx=\"240.08\" cy=\"-237\" rx=\"124.28\" ry=\"18\"/>\n",
       "<text text-anchor=\"middle\" x=\"240.08\" y=\"-233.3\" font-family=\"Times,serif\" font-size=\"14.00\">prob_father_fingerprints</text>\n",
       "</g>\n",
       "<!-- father&#45;&gt;prob_father_fingerprints -->\n",
       "<g id=\"edge3\" class=\"edge\">\n",
       "<title>father&#45;&gt;prob_father_fingerprints</title>\n",
       "<path fill=\"none\" stroke=\"black\" d=\"M607.32,-301.79C544.72,-290.91 413.64,-268.15 326.23,-252.96\"/>\n",
       "<polygon fill=\"black\" stroke=\"black\" points=\"326.78,-249.51 316.32,-251.24 325.58,-256.4 326.78,-249.51\"/>\n",
       "</g>\n",
       "<!-- prob_other_fingerprints -->\n",
       "<g id=\"node9\" class=\"node\">\n",
       "<title>prob_other_fingerprints</title>\n",
       "<ellipse fill=\"gray\" stroke=\"black\" stroke-dasharray=\"5,2\" cx=\"503.08\" cy=\"-237\" rx=\"120.78\" ry=\"18\"/>\n",
       "<text text-anchor=\"middle\" x=\"503.08\" y=\"-233.3\" font-family=\"Times,serif\" font-size=\"14.00\">prob_other_fingerprints</text>\n",
       "</g>\n",
       "<!-- father&#45;&gt;prob_other_fingerprints -->\n",
       "<g id=\"edge5\" class=\"edge\">\n",
       "<title>father&#45;&gt;prob_other_fingerprints</title>\n",
       "<path fill=\"none\" stroke=\"black\" d=\"M617.41,-295.16C597.13,-285.02 568.42,-270.67 544.84,-258.88\"/>\n",
       "<polygon fill=\"black\" stroke=\"black\" points=\"546.27,-255.68 535.76,-254.34 543.14,-261.94 546.27,-255.68\"/>\n",
       "</g>\n",
       "<!-- angle_prob -->\n",
       "<g id=\"node11\" class=\"node\">\n",
       "<title>angle_prob</title>\n",
       "<ellipse fill=\"gray\" stroke=\"black\" stroke-dasharray=\"5,2\" cx=\"912.08\" cy=\"-237\" rx=\"61.99\" ry=\"18\"/>\n",
       "<text text-anchor=\"middle\" x=\"912.08\" y=\"-233.3\" font-family=\"Times,serif\" font-size=\"14.00\">angle_prob</text>\n",
       "</g>\n",
       "<!-- father&#45;&gt;angle_prob -->\n",
       "<g id=\"edge7\" class=\"edge\">\n",
       "<title>father&#45;&gt;angle_prob</title>\n",
       "<path fill=\"none\" stroke=\"black\" d=\"M676.34,-299.35C721.73,-287.53 803.63,-266.22 857.94,-252.09\"/>\n",
       "<polygon fill=\"black\" stroke=\"black\" points=\"858.95,-255.44 867.74,-249.54 857.19,-248.67 858.95,-255.44\"/>\n",
       "</g>\n",
       "<!-- father_masked_fingerprint -->\n",
       "<g id=\"node13\" class=\"node\">\n",
       "<title>father_masked_fingerprint</title>\n",
       "<ellipse fill=\"gray\" stroke=\"black\" stroke-dasharray=\"5,2\" cx=\"230.08\" cy=\"-93\" rx=\"133.78\" ry=\"18\"/>\n",
       "<text text-anchor=\"middle\" x=\"230.08\" y=\"-89.3\" font-family=\"Times,serif\" font-size=\"14.00\">father_masked_fingerprint</text>\n",
       "</g>\n",
       "<!-- father&#45;&gt;father_masked_fingerprint -->\n",
       "<g id=\"edge9\" class=\"edge\">\n",
       "<title>father&#45;&gt;father_masked_fingerprint</title>\n",
       "<path fill=\"none\" stroke=\"black\" d=\"M603.97,-307.1C486.11,-303.97 140.36,-291.73 107.08,-255 84.79,-230.39 123.47,-157.13 132.08,-147 143.71,-133.33 159.78,-122.6 175.55,-114.49\"/>\n",
       "<polygon fill=\"black\" stroke=\"black\" points=\"177.3,-117.53 184.76,-110.01 174.24,-111.23 177.3,-117.53\"/>\n",
       "</g>\n",
       "<!-- father_masked_no_fingerprint -->\n",
       "<g id=\"node14\" class=\"node\">\n",
       "<title>father_masked_no_fingerprint</title>\n",
       "<ellipse fill=\"gray\" stroke=\"black\" stroke-dasharray=\"5,2\" cx=\"930.08\" cy=\"-93\" rx=\"149.47\" ry=\"18\"/>\n",
       "<text text-anchor=\"middle\" x=\"930.08\" y=\"-89.3\" font-family=\"Times,serif\" font-size=\"14.00\">father_masked_no_fingerprint</text>\n",
       "</g>\n",
       "<!-- father&#45;&gt;father_masked_no_fingerprint -->\n",
       "<g id=\"edge14\" class=\"edge\">\n",
       "<title>father&#45;&gt;father_masked_no_fingerprint</title>\n",
       "<path fill=\"none\" stroke=\"black\" d=\"M682.22,-307.98C763.18,-307.03 944.72,-299.81 983.08,-255 1016.96,-215.44 978.66,-153.62 951.79,-119.23\"/>\n",
       "<polygon fill=\"black\" stroke=\"black\" points=\"954.25,-116.71 945.26,-111.11 948.8,-121.09 954.25,-116.71\"/>\n",
       "</g>\n",
       "<!-- father_masked_not_fathers_fingerprint -->\n",
       "<g id=\"node15\" class=\"node\">\n",
       "<title>father_masked_not_fathers_fingerprint</title>\n",
       "<ellipse fill=\"gray\" stroke=\"black\" stroke-dasharray=\"5,2\" cx=\"572.08\" cy=\"-93\" rx=\"190.37\" ry=\"18\"/>\n",
       "<text text-anchor=\"middle\" x=\"572.08\" y=\"-89.3\" font-family=\"Times,serif\" font-size=\"14.00\">father_masked_not_fathers_fingerprint</text>\n",
       "</g>\n",
       "<!-- father&#45;&gt;father_masked_not_fathers_fingerprint -->\n",
       "<g id=\"edge17\" class=\"edge\">\n",
       "<title>father&#45;&gt;father_masked_not_fathers_fingerprint</title>\n",
       "<path fill=\"none\" stroke=\"black\" d=\"M642.34,-290.74C641.29,-272.65 638.81,-243.53 633.08,-219 625.35,-185.87 622.34,-177.41 607.08,-147 602.39,-137.64 596.35,-127.92 590.63,-119.41\"/>\n",
       "<polygon fill=\"black\" stroke=\"black\" points=\"593.4,-117.27 584.84,-111.04 587.65,-121.25 593.4,-117.27\"/>\n",
       "</g>\n",
       "<!-- confession -->\n",
       "<g id=\"node6\" class=\"node\">\n",
       "<title>confession</title>\n",
       "<ellipse fill=\"white\" stroke=\"black\" cx=\"735.08\" cy=\"-165\" rx=\"59.59\" ry=\"18\"/>\n",
       "<text text-anchor=\"middle\" x=\"735.08\" y=\"-161.3\" font-family=\"Times,serif\" font-size=\"14.00\">confession</text>\n",
       "</g>\n",
       "<!-- prob_confession&#45;&gt;confession -->\n",
       "<g id=\"edge2\" class=\"edge\">\n",
       "<title>prob_confession&#45;&gt;confession</title>\n",
       "<path fill=\"none\" stroke=\"black\" d=\"M744.12,-218.7C742.8,-210.98 741.21,-201.71 739.73,-193.11\"/>\n",
       "<polygon fill=\"black\" stroke=\"black\" points=\"743.16,-192.37 738.02,-183.1 736.26,-193.55 743.16,-192.37\"/>\n",
       "</g>\n",
       "<!-- confession&#45;&gt;father_masked_fingerprint -->\n",
       "<g id=\"edge10\" class=\"edge\">\n",
       "<title>confession&#45;&gt;father_masked_fingerprint</title>\n",
       "<path fill=\"none\" stroke=\"black\" d=\"M681.99,-156.64C598.59,-145.08 435.47,-122.47 329.72,-107.81\"/>\n",
       "<polygon fill=\"black\" stroke=\"black\" points=\"330.05,-104.32 319.67,-106.42 329.09,-111.26 330.05,-104.32\"/>\n",
       "</g>\n",
       "<!-- confession&#45;&gt;father_masked_no_fingerprint -->\n",
       "<g id=\"edge15\" class=\"edge\">\n",
       "<title>confession&#45;&gt;father_masked_no_fingerprint</title>\n",
       "<path fill=\"none\" stroke=\"black\" d=\"M772.22,-150.67C801.39,-140.2 842.44,-125.46 875.36,-113.64\"/>\n",
       "<polygon fill=\"black\" stroke=\"black\" points=\"876.63,-116.91 884.86,-110.23 874.26,-110.32 876.63,-116.91\"/>\n",
       "</g>\n",
       "<!-- confession&#45;&gt;father_masked_not_fathers_fingerprint -->\n",
       "<g id=\"edge18\" class=\"edge\">\n",
       "<title>confession&#45;&gt;father_masked_not_fathers_fingerprint</title>\n",
       "<path fill=\"none\" stroke=\"black\" d=\"M702.1,-149.83C678.65,-139.77 646.78,-126.08 620.46,-114.78\"/>\n",
       "<polygon fill=\"black\" stroke=\"black\" points=\"621.62,-111.46 611.05,-110.73 618.85,-117.89 621.62,-111.46\"/>\n",
       "</g>\n",
       "<!-- father_fingerprints -->\n",
       "<g id=\"node8\" class=\"node\">\n",
       "<title>father_fingerprints</title>\n",
       "<ellipse fill=\"white\" stroke=\"black\" cx=\"240.08\" cy=\"-165\" rx=\"98.58\" ry=\"18\"/>\n",
       "<text text-anchor=\"middle\" x=\"240.08\" y=\"-161.3\" font-family=\"Times,serif\" font-size=\"14.00\">father_fingerprints</text>\n",
       "</g>\n",
       "<!-- prob_father_fingerprints&#45;&gt;father_fingerprints -->\n",
       "<g id=\"edge4\" class=\"edge\">\n",
       "<title>prob_father_fingerprints&#45;&gt;father_fingerprints</title>\n",
       "<path fill=\"none\" stroke=\"black\" d=\"M240.08,-218.7C240.08,-210.98 240.08,-201.71 240.08,-193.11\"/>\n",
       "<polygon fill=\"black\" stroke=\"black\" points=\"243.58,-193.1 240.08,-183.1 236.58,-193.1 243.58,-193.1\"/>\n",
       "</g>\n",
       "<!-- father_fingerprints&#45;&gt;father_masked_fingerprint -->\n",
       "<g id=\"edge11\" class=\"edge\">\n",
       "<title>father_fingerprints&#45;&gt;father_masked_fingerprint</title>\n",
       "<path fill=\"none\" stroke=\"black\" d=\"M237.61,-146.7C236.51,-138.98 235.19,-129.71 233.96,-121.11\"/>\n",
       "<polygon fill=\"black\" stroke=\"black\" points=\"237.41,-120.51 232.53,-111.1 230.48,-121.5 237.41,-120.51\"/>\n",
       "</g>\n",
       "<!-- father_fingerprints&#45;&gt;father_masked_not_fathers_fingerprint -->\n",
       "<g id=\"edge19\" class=\"edge\">\n",
       "<title>father_fingerprints&#45;&gt;father_masked_not_fathers_fingerprint</title>\n",
       "<path fill=\"none\" stroke=\"black\" d=\"M302.14,-150.92C354.66,-139.84 430.4,-123.87 488.29,-111.67\"/>\n",
       "<polygon fill=\"black\" stroke=\"black\" points=\"489.09,-115.08 498.15,-109.59 487.64,-108.23 489.09,-115.08\"/>\n",
       "</g>\n",
       "<!-- other_fingerprints -->\n",
       "<g id=\"node10\" class=\"node\">\n",
       "<title>other_fingerprints</title>\n",
       "<ellipse fill=\"white\" stroke=\"black\" cx=\"503.08\" cy=\"-165\" rx=\"94.78\" ry=\"18\"/>\n",
       "<text text-anchor=\"middle\" x=\"503.08\" y=\"-161.3\" font-family=\"Times,serif\" font-size=\"14.00\">other_fingerprints</text>\n",
       "</g>\n",
       "<!-- prob_other_fingerprints&#45;&gt;other_fingerprints -->\n",
       "<g id=\"edge6\" class=\"edge\">\n",
       "<title>prob_other_fingerprints&#45;&gt;other_fingerprints</title>\n",
       "<path fill=\"none\" stroke=\"black\" d=\"M503.08,-218.7C503.08,-210.98 503.08,-201.71 503.08,-193.11\"/>\n",
       "<polygon fill=\"black\" stroke=\"black\" points=\"506.58,-193.1 503.08,-183.1 499.58,-193.1 506.58,-193.1\"/>\n",
       "</g>\n",
       "<!-- other_fingerprints&#45;&gt;father_masked_fingerprint -->\n",
       "<g id=\"edge12\" class=\"edge\">\n",
       "<title>other_fingerprints&#45;&gt;father_masked_fingerprint</title>\n",
       "<path fill=\"none\" stroke=\"black\" d=\"M449.15,-150.17C406.21,-139.16 345.8,-123.67 299.3,-111.75\"/>\n",
       "<polygon fill=\"black\" stroke=\"black\" points=\"300.15,-108.35 289.59,-109.26 298.41,-115.13 300.15,-108.35\"/>\n",
       "</g>\n",
       "<!-- other_fingerprints&#45;&gt;father_masked_not_fathers_fingerprint -->\n",
       "<g id=\"edge20\" class=\"edge\">\n",
       "<title>other_fingerprints&#45;&gt;father_masked_not_fathers_fingerprint</title>\n",
       "<path fill=\"none\" stroke=\"black\" d=\"M519.79,-147.05C528.22,-138.5 538.61,-127.96 547.9,-118.54\"/>\n",
       "<polygon fill=\"black\" stroke=\"black\" points=\"550.53,-120.85 555.06,-111.28 545.54,-115.94 550.53,-120.85\"/>\n",
       "</g>\n",
       "<!-- angle -->\n",
       "<g id=\"node12\" class=\"node\">\n",
       "<title>angle</title>\n",
       "<ellipse fill=\"white\" stroke=\"black\" cx=\"881.08\" cy=\"-165\" rx=\"36.29\" ry=\"18\"/>\n",
       "<text text-anchor=\"middle\" x=\"881.08\" y=\"-161.3\" font-family=\"Times,serif\" font-size=\"14.00\">angle</text>\n",
       "</g>\n",
       "<!-- angle_prob&#45;&gt;angle -->\n",
       "<g id=\"edge8\" class=\"edge\">\n",
       "<title>angle_prob&#45;&gt;angle</title>\n",
       "<path fill=\"none\" stroke=\"black\" d=\"M904.58,-219.05C901,-210.97 896.64,-201.12 892.65,-192.11\"/>\n",
       "<polygon fill=\"black\" stroke=\"black\" points=\"895.77,-190.52 888.52,-182.79 889.37,-193.35 895.77,-190.52\"/>\n",
       "</g>\n",
       "<!-- angle&#45;&gt;father_masked_fingerprint -->\n",
       "<g id=\"edge13\" class=\"edge\">\n",
       "<title>angle&#45;&gt;father_masked_fingerprint</title>\n",
       "<path fill=\"none\" stroke=\"black\" d=\"M849.42,-156.01C835.58,-152.77 819.11,-149.28 804.08,-147 614.03,-118.22 564.33,-130.35 373.08,-111 360.82,-109.76 347.97,-108.37 335.22,-106.92\"/>\n",
       "<polygon fill=\"black\" stroke=\"black\" points=\"335.36,-103.42 325.03,-105.76 334.57,-110.37 335.36,-103.42\"/>\n",
       "</g>\n",
       "<!-- angle&#45;&gt;father_masked_no_fingerprint -->\n",
       "<g id=\"edge16\" class=\"edge\">\n",
       "<title>angle&#45;&gt;father_masked_no_fingerprint</title>\n",
       "<path fill=\"none\" stroke=\"black\" d=\"M892.45,-147.76C898.34,-139.35 905.66,-128.89 912.28,-119.44\"/>\n",
       "<polygon fill=\"black\" stroke=\"black\" points=\"915.23,-121.32 918.1,-111.12 909.5,-117.31 915.23,-121.32\"/>\n",
       "</g>\n",
       "<!-- angle&#45;&gt;father_masked_not_fathers_fingerprint -->\n",
       "<g id=\"edge21\" class=\"edge\">\n",
       "<title>angle&#45;&gt;father_masked_not_fathers_fingerprint</title>\n",
       "<path fill=\"none\" stroke=\"black\" d=\"M848.6,-156.64C802.27,-146.15 715.75,-126.55 651.78,-112.05\"/>\n",
       "<polygon fill=\"black\" stroke=\"black\" points=\"652.24,-108.57 641.71,-109.77 650.69,-115.4 652.24,-108.57\"/>\n",
       "</g>\n",
       "<!-- father_masked_fingerprint&#45;&gt;posterior_father_fathers_fingerprint -->\n",
       "<g id=\"edge22\" class=\"edge\">\n",
       "<title>father_masked_fingerprint&#45;&gt;posterior_father_fathers_fingerprint</title>\n",
       "<path fill=\"none\" stroke=\"black\" d=\"M218.02,-75.07C211.51,-65.92 203.33,-54.45 196.08,-44.26\"/>\n",
       "<polygon fill=\"black\" stroke=\"black\" points=\"198.91,-42.21 190.26,-36.09 193.21,-46.27 198.91,-42.21\"/>\n",
       "</g>\n",
       "<!-- father_masked_no_fingerprint&#45;&gt;posterior_father_no_fingerprint -->\n",
       "<g id=\"edge23\" class=\"edge\">\n",
       "<title>father_masked_no_fingerprint&#45;&gt;posterior_father_no_fingerprint</title>\n",
       "<path fill=\"none\" stroke=\"black\" d=\"M933.4,-74.7C935.04,-66.15 937.06,-55.65 938.89,-46.07\"/>\n",
       "<polygon fill=\"black\" stroke=\"black\" points=\"942.34,-46.66 940.79,-36.18 935.47,-45.34 942.34,-46.66\"/>\n",
       "</g>\n",
       "<!-- father_masked_not_fathers_fingerprint&#45;&gt;posterior_father_not_fathers_fingerprint -->\n",
       "<g id=\"edge24\" class=\"edge\">\n",
       "<title>father_masked_not_fathers_fingerprint&#45;&gt;posterior_father_not_fathers_fingerprint</title>\n",
       "<path fill=\"none\" stroke=\"black\" d=\"M572.08,-74.7C572.08,-66.25 572.08,-55.87 572.08,-46.37\"/>\n",
       "<polygon fill=\"black\" stroke=\"black\" points=\"575.58,-46.18 572.08,-36.18 568.58,-46.18 575.58,-46.18\"/>\n",
       "</g>\n",
       "</g>\n",
       "</svg>\n"
      ],
      "text/plain": [
       "<graphviz.graphs.Digraph at 0x7f501a216290>"
      ]
     },
     "execution_count": 5,
     "metadata": {},
     "output_type": "execute_result"
    }
   ],
   "source": [
    "pyro.render_model(tinbox_core_no_son, render_deterministic=True)"
   ]
  },
  {
   "cell_type": "code",
   "execution_count": 6,
   "metadata": {},
   "outputs": [
    {
     "data": {
      "image/png": "[encoded data removed]",
      "text/plain": [
       "<IPython.core.display.Image object>"
      ]
     },
     "metadata": {},
     "output_type": "display_data"
    }
   ],
   "source": [
    "# simplistic DAG\n",
    "\n",
    "# from graphviz import Digraph\n",
    "# from IPython.display import Image, display\n",
    "\n",
    "# dot = Digraph(comment=\"Modified Murder Case DAG with Other's Fingerprints\")\n",
    "\n",
    "# dot.node('father', 'Father')\n",
    "# dot.node('confession', 'Confession')\n",
    "# dot.node('angle', 'Angle')\n",
    "# dot.node('father_fingerprints', 'Father\\'s Fingerprints')\n",
    "# dot.node('others_fingerprints', 'Other\\'s Fingerprints')\n",
    "# dot.node('posterior_father_fathers_fingerprint', 'Posterior Father\\'s Fingerprints')\n",
    "# dot.node('posterior_father_not_fathers_fingerprint', 'Posterior Other\\'s Fingerprints')\n",
    "# dot.node('posterior_father_no_fingerprint', 'Posterior No Fingerprints')\n",
    "\n",
    "\n",
    "# dot.edge('father', 'father_fingerprints')\n",
    "# dot.edge('father', 'others_fingerprints')\n",
    "# dot.edge('father', 'confession')\n",
    "# dot.edge('father', 'angle')\n",
    "\n",
    "# dot.edge('father_fingerprints', 'posterior_father_fathers_fingerprint')\n",
    "# dot.edge('father_fingerprints', 'posterior_father_not_fathers_fingerprint')\n",
    "# dot.edge('others_fingerprints', 'posterior_father_not_fathers_fingerprint')\n",
    "# dot.edge('others_fingerprints', 'posterior_father_fathers_fingerprint')\n",
    "\n",
    "# dot.edge('confession', 'posterior_father_fathers_fingerprint')\n",
    "# dot.edge('confession', 'posterior_father_not_fathers_fingerprint')\n",
    "# dot.edge('confession', 'posterior_father_no_fingerprint')\n",
    "\n",
    "# dot.edge('angle', 'posterior_father_fathers_fingerprint')\n",
    "# dot.edge('angle', 'posterior_father_not_fathers_fingerprint')\n",
    "# dot.edge('angle', 'posterior_father_no_fingerprint')\n",
    "\n",
    "# png_path = dot.render('figures/dag_tinbox_father', format='png')\n",
    "# display(Image(png_path))\n",
    "# no posterior row version\n",
    "from graphviz import Digraph\n",
    "from IPython.display import Image, display\n",
    "\n",
    "dot = Digraph(comment=\"Modified Murder Case DAG with Other's Fingerprints\")\n",
    "\n",
    "dot.node(\"father\", \"father\")\n",
    "dot.node(\"confession\", \"confession\")\n",
    "dot.node(\"angle\", \"angle\")\n",
    "dot.node(\"father_fingerprints\", \"father's fingerprints\")\n",
    "dot.node(\"others_fingerprints\", \"someone else's fingerprints\")\n",
    "\n",
    "dot.edge(\"father\", \"father_fingerprints\")\n",
    "dot.edge(\"father\", \"others_fingerprints\")\n",
    "dot.edge(\"father\", \"confession\")\n",
    "dot.edge(\"father\", \"angle\")\n",
    "\n",
    "\n",
    "png_path = dot.render(\"figures/dag_tinbox_father\", format=\"png\")\n",
    "\n",
    "display(Image(png_path))"
   ]
  },
  {
   "cell_type": "markdown",
   "metadata": {},
   "source": [
    "Within this chunk we are running the model for `num_particles` times and printing the results of the posterior probabilities."
   ]
  },
  {
   "cell_type": "code",
   "execution_count": 7,
   "metadata": {},
   "outputs": [
    {
     "data": {
      "text/html": [
       "<pre style=\"white-space:pre;overflow-x:auto;line-height:normal;font-family:Menlo,'DejaVu Sans Mono',consolas,'Courier New',monospace\">posterior_father_fathers_fingerprint <span style=\"color: #800080; text-decoration-color: #800080; font-weight: bold\">tensor</span><span style=\"font-weight: bold\">(</span><span style=\"color: #008080; text-decoration-color: #008080; font-weight: bold\">0.9941</span><span style=\"font-weight: bold\">)</span>\n",
       "</pre>\n"
      ],
      "text/plain": [
       "posterior_father_fathers_fingerprint \u001b[1;35mtensor\u001b[0m\u001b[1m(\u001b[0m\u001b[1;36m0.9941\u001b[0m\u001b[1m)\u001b[0m\n"
      ]
     },
     "metadata": {},
     "output_type": "display_data"
    },
    {
     "data": {
      "text/html": [
       "<pre style=\"white-space:pre;overflow-x:auto;line-height:normal;font-family:Menlo,'DejaVu Sans Mono',consolas,'Courier New',monospace\">posterior_father_no_fingerprint <span style=\"color: #800080; text-decoration-color: #800080; font-weight: bold\">tensor</span><span style=\"font-weight: bold\">(</span><span style=\"color: #008080; text-decoration-color: #008080; font-weight: bold\">0.9669</span><span style=\"font-weight: bold\">)</span>\n",
       "</pre>\n"
      ],
      "text/plain": [
       "posterior_father_no_fingerprint \u001b[1;35mtensor\u001b[0m\u001b[1m(\u001b[0m\u001b[1;36m0.9669\u001b[0m\u001b[1m)\u001b[0m\n"
      ]
     },
     "metadata": {},
     "output_type": "display_data"
    },
    {
     "data": {
      "text/html": [
       "<pre style=\"white-space:pre;overflow-x:auto;line-height:normal;font-family:Menlo,'DejaVu Sans Mono',consolas,'Courier New',monospace\">posterior_father_not_fathers_fingerprint <span style=\"color: #800080; text-decoration-color: #800080; font-weight: bold\">tensor</span><span style=\"font-weight: bold\">(</span><span style=\"color: #008080; text-decoration-color: #008080; font-weight: bold\">0.9214</span><span style=\"font-weight: bold\">)</span>\n",
       "</pre>\n"
      ],
      "text/plain": [
       "posterior_father_not_fathers_fingerprint \u001b[1;35mtensor\u001b[0m\u001b[1m(\u001b[0m\u001b[1;36m0.9214\u001b[0m\u001b[1m)\u001b[0m\n"
      ]
     },
     "metadata": {},
     "output_type": "display_data"
    }
   ],
   "source": [
    "# extracting the posterior probabilities\n",
    "\n",
    "with pyro.poutine.trace() as tr:\n",
    "    pyro.set_rng_seed(42)\n",
    "    tinbox_core_no_son(num_particles=1e6)\n",
    "\n",
    "for key in tr.trace.nodes.keys():\n",
    "    if key.startswith(\"posterior\"):\n",
    "        print(key, tr.trace.nodes[key][\"value\"])"
   ]
  },
  {
   "cell_type": "markdown",
   "metadata": {},
   "source": [
    "The following code calculates the expected weight by performing Bayesian inference using posterior probabilities derived from a probabilistic model. It starts by extracting posterior values of the father's guilt given different types of fingerprint evidence (no fingerprints, father's fingerprints, and others' fingerprints). Then, it uses these values to calculate prior probabilities and the likelihood of various pieces of evidence (fingerprints and no fingerprints) given the current belief in the father's guilt.\n",
    "\n",
    "The posteriors, probs_of_evidence, and prior_now are later used to calculate the expected weight."
   ]
  },
  {
   "cell_type": "code",
   "execution_count": 8,
   "metadata": {},
   "outputs": [
    {
     "data": {
      "text/html": [
       "<pre style=\"white-space:pre;overflow-x:auto;line-height:normal;font-family:Menlo,'DejaVu Sans Mono',consolas,'Courier New',monospace\">posterior_father_no_fingerprint <span style=\"color: #800080; text-decoration-color: #800080; font-weight: bold\">tensor</span><span style=\"font-weight: bold\">([</span><span style=\"color: #008080; text-decoration-color: #008080; font-weight: bold\">0.0331</span>, <span style=\"color: #008080; text-decoration-color: #008080; font-weight: bold\">0.9669</span><span style=\"font-weight: bold\">])</span>\n",
       "</pre>\n"
      ],
      "text/plain": [
       "posterior_father_no_fingerprint \u001b[1;35mtensor\u001b[0m\u001b[1m(\u001b[0m\u001b[1m[\u001b[0m\u001b[1;36m0.0331\u001b[0m, \u001b[1;36m0.9669\u001b[0m\u001b[1m]\u001b[0m\u001b[1m)\u001b[0m\n"
      ]
     },
     "metadata": {},
     "output_type": "display_data"
    },
    {
     "data": {
      "text/html": [
       "<pre style=\"white-space:pre;overflow-x:auto;line-height:normal;font-family:Menlo,'DejaVu Sans Mono',consolas,'Courier New',monospace\">posterior_father_fathers_fingerprint <span style=\"color: #800080; text-decoration-color: #800080; font-weight: bold\">tensor</span><span style=\"font-weight: bold\">([</span><span style=\"color: #008080; text-decoration-color: #008080; font-weight: bold\">0.0059</span>, <span style=\"color: #008080; text-decoration-color: #008080; font-weight: bold\">0.9941</span><span style=\"font-weight: bold\">])</span>\n",
       "</pre>\n"
      ],
      "text/plain": [
       "posterior_father_fathers_fingerprint \u001b[1;35mtensor\u001b[0m\u001b[1m(\u001b[0m\u001b[1m[\u001b[0m\u001b[1;36m0.0059\u001b[0m, \u001b[1;36m0.9941\u001b[0m\u001b[1m]\u001b[0m\u001b[1m)\u001b[0m\n"
      ]
     },
     "metadata": {},
     "output_type": "display_data"
    },
    {
     "data": {
      "text/html": [
       "<pre style=\"white-space:pre;overflow-x:auto;line-height:normal;font-family:Menlo,'DejaVu Sans Mono',consolas,'Courier New',monospace\">posterior_father_not_fathers_fingerprint <span style=\"color: #800080; text-decoration-color: #800080; font-weight: bold\">tensor</span><span style=\"font-weight: bold\">([</span><span style=\"color: #008080; text-decoration-color: #008080; font-weight: bold\">0.0786</span>, <span style=\"color: #008080; text-decoration-color: #008080; font-weight: bold\">0.9214</span><span style=\"font-weight: bold\">])</span>\n",
       "</pre>\n"
      ],
      "text/plain": [
       "posterior_father_not_fathers_fingerprint \u001b[1;35mtensor\u001b[0m\u001b[1m(\u001b[0m\u001b[1m[\u001b[0m\u001b[1;36m0.0786\u001b[0m, \u001b[1;36m0.9214\u001b[0m\u001b[1m]\u001b[0m\u001b[1m)\u001b[0m\n"
      ]
     },
     "metadata": {},
     "output_type": "display_data"
    },
    {
     "data": {
      "text/html": [
       "<pre style=\"white-space:pre;overflow-x:auto;line-height:normal;font-family:Menlo,'DejaVu Sans Mono',consolas,'Courier New',monospace\">prior now <span style=\"color: #800080; text-decoration-color: #800080; font-weight: bold\">tensor</span><span style=\"font-weight: bold\">([</span><span style=\"color: #008080; text-decoration-color: #008080; font-weight: bold\">0.0331</span>, <span style=\"color: #008080; text-decoration-color: #008080; font-weight: bold\">0.9669</span><span style=\"font-weight: bold\">])</span>\n",
       "</pre>\n"
      ],
      "text/plain": [
       "prior now \u001b[1;35mtensor\u001b[0m\u001b[1m(\u001b[0m\u001b[1m[\u001b[0m\u001b[1;36m0.0331\u001b[0m, \u001b[1;36m0.9669\u001b[0m\u001b[1m]\u001b[0m\u001b[1m)\u001b[0m\n"
      ]
     },
     "metadata": {},
     "output_type": "display_data"
    },
    {
     "data": {
      "text/html": [
       "<pre style=\"white-space:pre;overflow-x:auto;line-height:normal;font-family:Menlo,'DejaVu Sans Mono',consolas,'Courier New',monospace\">fathers <span style=\"color: #800080; text-decoration-color: #800080; font-weight: bold\">tensor</span><span style=\"font-weight: bold\">(</span><span style=\"color: #008080; text-decoration-color: #008080; font-weight: bold\">0.1967</span><span style=\"font-weight: bold\">)</span>\n",
       "</pre>\n"
      ],
      "text/plain": [
       "fathers \u001b[1;35mtensor\u001b[0m\u001b[1m(\u001b[0m\u001b[1;36m0.1967\u001b[0m\u001b[1m)\u001b[0m\n"
      ]
     },
     "metadata": {},
     "output_type": "display_data"
    },
    {
     "data": {
      "text/html": [
       "<pre style=\"white-space:pre;overflow-x:auto;line-height:normal;font-family:Menlo,'DejaVu Sans Mono',consolas,'Courier New',monospace\">others <span style=\"color: #800080; text-decoration-color: #800080; font-weight: bold\">tensor</span><span style=\"font-weight: bold\">(</span><span style=\"color: #008080; text-decoration-color: #008080; font-weight: bold\">0.0163</span><span style=\"font-weight: bold\">)</span>\n",
       "</pre>\n"
      ],
      "text/plain": [
       "others \u001b[1;35mtensor\u001b[0m\u001b[1m(\u001b[0m\u001b[1;36m0.0163\u001b[0m\u001b[1m)\u001b[0m\n"
      ]
     },
     "metadata": {},
     "output_type": "display_data"
    },
    {
     "data": {
      "text/html": [
       "<pre style=\"white-space:pre;overflow-x:auto;line-height:normal;font-family:Menlo,'DejaVu Sans Mono',consolas,'Courier New',monospace\">none <span style=\"color: #800080; text-decoration-color: #800080; font-weight: bold\">tensor</span><span style=\"font-weight: bold\">(</span><span style=\"color: #008080; text-decoration-color: #008080; font-weight: bold\">0.7870</span><span style=\"font-weight: bold\">)</span>\n",
       "</pre>\n"
      ],
      "text/plain": [
       "none \u001b[1;35mtensor\u001b[0m\u001b[1m(\u001b[0m\u001b[1;36m0.7870\u001b[0m\u001b[1m)\u001b[0m\n"
      ]
     },
     "metadata": {},
     "output_type": "display_data"
    },
    {
     "data": {
      "text/html": [
       "<pre style=\"white-space:pre;overflow-x:auto;line-height:normal;font-family:Menlo,'DejaVu Sans Mono',consolas,'Courier New',monospace\">probs_of_evidence_no_son <span style=\"color: #800080; text-decoration-color: #800080; font-weight: bold\">tensor</span><span style=\"font-weight: bold\">([</span><span style=\"color: #008080; text-decoration-color: #008080; font-weight: bold\">0.1967</span>, <span style=\"color: #008080; text-decoration-color: #008080; font-weight: bold\">0.0163</span>, <span style=\"color: #008080; text-decoration-color: #008080; font-weight: bold\">0.7870</span><span style=\"font-weight: bold\">])</span>\n",
       "</pre>\n"
      ],
      "text/plain": [
       "probs_of_evidence_no_son \u001b[1;35mtensor\u001b[0m\u001b[1m(\u001b[0m\u001b[1m[\u001b[0m\u001b[1;36m0.1967\u001b[0m, \u001b[1;36m0.0163\u001b[0m, \u001b[1;36m0.7870\u001b[0m\u001b[1m]\u001b[0m\u001b[1m)\u001b[0m\n"
      ]
     },
     "metadata": {},
     "output_type": "display_data"
    }
   ],
   "source": [
    "# Calculations necessary for the expected weight\n",
    "\n",
    "#  Posterior of father's guilt given no fingerprints\n",
    "father_posterior_no_fingerprint = torch.tensor(\n",
    "    [\n",
    "        1\n",
    "        - tr.trace.nodes[\"posterior_father_no_fingerprint\"][\n",
    "            \"value\"\n",
    "        ],  # Probability father is innocent\n",
    "        tr.trace.nodes[\"posterior_father_no_fingerprint\"][\n",
    "            \"value\"\n",
    "        ],  # Probability father is guilty\n",
    "    ]\n",
    ")\n",
    "\n",
    "#  Posterior of father's guilt given his fingerprints are found\n",
    "father_posterior_fathers_fingerprint = torch.tensor(\n",
    "    [\n",
    "        1 - tr.trace.nodes[\"posterior_father_fathers_fingerprint\"][\"value\"],\n",
    "        tr.trace.nodes[\"posterior_father_fathers_fingerprint\"][\"value\"],\n",
    "    ]\n",
    ")\n",
    "\n",
    "#  Posterior of father's guilt given other (non-father) fingerprints are found\n",
    "father_posterior_others_fingerprint = torch.tensor(\n",
    "    [\n",
    "        1 - tr.trace.nodes[\"posterior_father_not_fathers_fingerprint\"][\"value\"],\n",
    "        tr.trace.nodes[\"posterior_father_not_fathers_fingerprint\"][\"value\"],\n",
    "    ]\n",
    ")\n",
    "\n",
    "print(\"posterior_father_no_fingerprint\", father_posterior_no_fingerprint)\n",
    "print(\"posterior_father_fathers_fingerprint\", father_posterior_fathers_fingerprint)\n",
    "print(\"posterior_father_not_fathers_fingerprint\", father_posterior_others_fingerprint)\n",
    "\n",
    "# the core that was used in the model before\n",
    "pr_father: float = 0.8\n",
    "pr_confession_if_father = 0.9\n",
    "pr_confession_if_not_father = 0.01\n",
    "father_fingerprints_if_father = 0.2\n",
    "father_fingerprints_if_not_father = 0.1\n",
    "other_fingerprints_if_father = 0.01\n",
    "other_fingerprints_if_not_father = 0.2\n",
    "\n",
    "# Current posterior probability of father's guilt given no fingerprint evidence\n",
    "pr_father_now = tr.trace.nodes[\"posterior_father_no_fingerprint\"][\n",
    "    \"value\"\n",
    "]  # father's guilt with no fingerprints evidence\n",
    "\n",
    "father_prior_now = torch.tensor([1 - pr_father_now, pr_father_now])  # Updated prior\n",
    "print(\"prior now\", father_prior_now)\n",
    "\n",
    "# Calculating the probability of finding the father's fingerprints, given the current belief in his guilt\n",
    "pr_fathers_fingerprint_now = (\n",
    "    pr_father_now * father_fingerprints_if_father\n",
    "    + (1 - pr_father_now) * father_fingerprints_if_not_father\n",
    ")\n",
    "print(\"fathers\", pr_fathers_fingerprint_now)\n",
    "\n",
    "# Calculating the probability of finding other fingerprints given the current belief in father's guilt\n",
    "pr_other_fingerprints_now = (\n",
    "    pr_father_now * other_fingerprints_if_father\n",
    "    + (1 - pr_father_now) * other_fingerprints_if_not_father\n",
    ")\n",
    "print(\"others\", pr_other_fingerprints_now)\n",
    "\n",
    "# Calculating the probability of finding no fingerprints at all\n",
    "pr_no_fingerprints_now = 1 - pr_fathers_fingerprint_now - pr_other_fingerprints_now\n",
    "print(\"none\", pr_no_fingerprints_now)\n",
    "\n",
    "\n",
    "# Creating a tensor containing the probabilities of different types of evidence (fingerprints or no fingerprints)\n",
    "probs_of_evidence_no_son = torch.tensor(\n",
    "    [pr_fathers_fingerprint_now, pr_other_fingerprints_now, pr_no_fingerprints_now]\n",
    ")\n",
    "print(\"probs_of_evidence_no_son\", probs_of_evidence_no_son)"
   ]
  },
  {
   "cell_type": "code",
   "execution_count": 9,
   "metadata": {},
   "outputs": [],
   "source": [
    "# # Visualization that represents posterior probabilities\n",
    "\n",
    "# labels = ['Father\\'s fingerprints', 'Others\\' fingerprints', 'No fingerprints']\n",
    "\n",
    "# values = [father_posterior_fathers_fingerprint[1],  father_posterior_others_fingerprint[1], father_posterior_no_fingerprint[1]]\n",
    "\n",
    "# fig, ax = plt.subplots()\n",
    "# bars = ax.bar(labels, values, color= 'steelblue')\n",
    "\n",
    "# for bar in bars:\n",
    "#     yval = bar.get_height()\n",
    "#     ax.text(bar.get_x() + bar.get_width()/2, yval, round(yval, 4), ha='center', va='bottom')\n",
    "\n",
    "# ax.set_ylabel(\"Father's guilt prob.\")\n",
    "\n",
    "# sns.despine()#ax.set_title('Posterior Probs. (no son scenario)')\n",
    "\n",
    "# plt.savefig('figures/tinbox_posterior_probs_no_son.pdf')\n",
    "# plt.show()"
   ]
  },
  {
   "cell_type": "code",
   "execution_count": 10,
   "metadata": {},
   "outputs": [
    {
     "data": {
      "text/html": [
       "<pre style=\"white-space:pre;overflow-x:auto;line-height:normal;font-family:Menlo,'DejaVu Sans Mono',consolas,'Courier New',monospace\"><span style=\"font-weight: bold\">[</span><span style=\"color: #800080; text-decoration-color: #800080; font-weight: bold\">tensor</span><span style=\"font-weight: bold\">(</span><span style=\"color: #008080; text-decoration-color: #008080; font-weight: bold\">0.9941</span><span style=\"font-weight: bold\">)</span>, <span style=\"color: #800080; text-decoration-color: #800080; font-weight: bold\">tensor</span><span style=\"font-weight: bold\">(</span><span style=\"color: #008080; text-decoration-color: #008080; font-weight: bold\">0.9214</span><span style=\"font-weight: bold\">)</span>, <span style=\"color: #800080; text-decoration-color: #800080; font-weight: bold\">tensor</span><span style=\"font-weight: bold\">(</span><span style=\"color: #008080; text-decoration-color: #008080; font-weight: bold\">0.9669</span><span style=\"font-weight: bold\">)]</span>\n",
       "</pre>\n"
      ],
      "text/plain": [
       "\u001b[1m[\u001b[0m\u001b[1;35mtensor\u001b[0m\u001b[1m(\u001b[0m\u001b[1;36m0.9941\u001b[0m\u001b[1m)\u001b[0m, \u001b[1;35mtensor\u001b[0m\u001b[1m(\u001b[0m\u001b[1;36m0.9214\u001b[0m\u001b[1m)\u001b[0m, \u001b[1;35mtensor\u001b[0m\u001b[1m(\u001b[0m\u001b[1;36m0.9669\u001b[0m\u001b[1m)\u001b[0m\u001b[1m]\u001b[0m\n"
      ]
     },
     "metadata": {},
     "output_type": "display_data"
    },
    {
     "data": {
      "image/png": "[encoded data removed]",
      "text/plain": [
       "<Figure size 640x480 with 1 Axes>"
      ]
     },
     "metadata": {},
     "output_type": "display_data"
    }
   ],
   "source": [
    "posterior_guilt_probs = [\n",
    "    father_posterior_fathers_fingerprint[1],\n",
    "    father_posterior_others_fingerprint[1],\n",
    "    father_posterior_no_fingerprint[1],\n",
    "]\n",
    "\n",
    "print(posterior_guilt_probs)\n",
    "\n",
    "labels = [\n",
    "    \"father's fingerprints match\",\n",
    "    \"someone else's fingerprints\",\n",
    "    \"no fingerprints found\",\n",
    "]\n",
    "fig, ax = plt.subplots()\n",
    "ax.scatter(probs_of_evidence_no_son, posterior_guilt_probs)\n",
    "for i, label in enumerate(labels):\n",
    "    ax.annotate(\n",
    "        label,\n",
    "        (probs_of_evidence_no_son[i], posterior_guilt_probs[i]),\n",
    "        textcoords=\"offset points\",\n",
    "        xytext=(4, 3),\n",
    "        ha=\"left\",\n",
    "        fontsize=10,\n",
    "    )\n",
    "\n",
    "ax.set_xlabel(\"probability of evidential scenario\")\n",
    "ax.set_title(\"Posterior probability of father's guilt (no son hypothesis)\", pad=10)\n",
    "# pad title 2 mm\n",
    "\n",
    "ax.set_ylabel(\"posterior probability\")\n",
    "plt.xlim(0, 1)\n",
    "\n",
    "sns.despine()\n",
    "\n",
    "plt.savefig(\"figures/tinbox_posterior_probs_no_son.pdf\")\n",
    "plt.show()"
   ]
  },
  {
   "cell_type": "code",
   "execution_count": 11,
   "metadata": {},
   "outputs": [
    {
     "data": {
      "text/plain": [
       "tensor([0.1967, 0.0163, 0.7870])"
      ]
     },
     "execution_count": 11,
     "metadata": {},
     "output_type": "execute_result"
    }
   ],
   "source": [
    "probs_of_evidence_no_son"
   ]
  },
  {
   "cell_type": "code",
   "execution_count": 12,
   "metadata": {},
   "outputs": [
    {
     "data": {
      "text/html": [
       "<pre style=\"white-space:pre;overflow-x:auto;line-height:normal;font-family:Menlo,'DejaVu Sans Mono',consolas,'Courier New',monospace\">posteriors now have shape\n",
       "<span style=\"color: #800080; text-decoration-color: #800080; font-weight: bold\">torch.Size</span><span style=\"font-weight: bold\">([</span><span style=\"color: #008080; text-decoration-color: #008080; font-weight: bold\">3</span>, <span style=\"color: #008080; text-decoration-color: #008080; font-weight: bold\">2</span><span style=\"font-weight: bold\">])</span>\n",
       "</pre>\n"
      ],
      "text/plain": [
       "posteriors now have shape\n",
       "\u001b[1;35mtorch.Size\u001b[0m\u001b[1m(\u001b[0m\u001b[1m[\u001b[0m\u001b[1;36m3\u001b[0m, \u001b[1;36m2\u001b[0m\u001b[1m]\u001b[0m\u001b[1m)\u001b[0m\n"
      ]
     },
     "metadata": {},
     "output_type": "display_data"
    },
    {
     "data": {
      "text/html": [
       "<pre style=\"white-space:pre;overflow-x:auto;line-height:normal;font-family:Menlo,'DejaVu Sans Mono',consolas,'Courier New',monospace\"><span style=\"color: #800080; text-decoration-color: #800080; font-weight: bold\">tensor</span><span style=\"font-weight: bold\">([[</span><span style=\"color: #008080; text-decoration-color: #008080; font-weight: bold\">0.0059</span>, <span style=\"color: #008080; text-decoration-color: #008080; font-weight: bold\">0.9941</span><span style=\"font-weight: bold\">]</span>,\n",
       "        <span style=\"font-weight: bold\">[</span><span style=\"color: #008080; text-decoration-color: #008080; font-weight: bold\">0.0786</span>, <span style=\"color: #008080; text-decoration-color: #008080; font-weight: bold\">0.9214</span><span style=\"font-weight: bold\">]</span>,\n",
       "        <span style=\"font-weight: bold\">[</span><span style=\"color: #008080; text-decoration-color: #008080; font-weight: bold\">0.0331</span>, <span style=\"color: #008080; text-decoration-color: #008080; font-weight: bold\">0.9669</span><span style=\"font-weight: bold\">]])</span>\n",
       "</pre>\n"
      ],
      "text/plain": [
       "\u001b[1;35mtensor\u001b[0m\u001b[1m(\u001b[0m\u001b[1m[\u001b[0m\u001b[1m[\u001b[0m\u001b[1;36m0.0059\u001b[0m, \u001b[1;36m0.9941\u001b[0m\u001b[1m]\u001b[0m,\n",
       "        \u001b[1m[\u001b[0m\u001b[1;36m0.0786\u001b[0m, \u001b[1;36m0.9214\u001b[0m\u001b[1m]\u001b[0m,\n",
       "        \u001b[1m[\u001b[0m\u001b[1;36m0.0331\u001b[0m, \u001b[1;36m0.9669\u001b[0m\u001b[1m]\u001b[0m\u001b[1m]\u001b[0m\u001b[1m)\u001b[0m\n"
      ]
     },
     "metadata": {},
     "output_type": "display_data"
    },
    {
     "data": {
      "text/html": [
       "<pre style=\"white-space:pre;overflow-x:auto;line-height:normal;font-family:Menlo,'DejaVu Sans Mono',consolas,'Courier New',monospace\">expected_weight <span style=\"color: #800080; text-decoration-color: #800080; font-weight: bold\">tensor</span><span style=\"font-weight: bold\">(</span><span style=\"color: #008080; text-decoration-color: #008080; font-weight: bold\">0.0340</span><span style=\"font-weight: bold\">)</span>\n",
       "</pre>\n"
      ],
      "text/plain": [
       "expected_weight \u001b[1;35mtensor\u001b[0m\u001b[1m(\u001b[0m\u001b[1;36m0.0340\u001b[0m\u001b[1m)\u001b[0m\n"
      ]
     },
     "metadata": {},
     "output_type": "display_data"
    },
    {
     "data": {
      "text/html": [
       "<pre style=\"white-space:pre;overflow-x:auto;line-height:normal;font-family:Menlo,'DejaVu Sans Mono',consolas,'Courier New',monospace\">weight_prior <span style=\"color: #800080; text-decoration-color: #800080; font-weight: bold\">tensor</span><span style=\"font-weight: bold\">(</span><span style=\"color: #008080; text-decoration-color: #008080; font-weight: bold\">0.7902</span><span style=\"font-weight: bold\">)</span>\n",
       "</pre>\n"
      ],
      "text/plain": [
       "weight_prior \u001b[1;35mtensor\u001b[0m\u001b[1m(\u001b[0m\u001b[1;36m0.7902\u001b[0m\u001b[1m)\u001b[0m\n"
      ]
     },
     "metadata": {},
     "output_type": "display_data"
    },
    {
     "data": {
      "text/html": [
       "<pre style=\"white-space:pre;overflow-x:auto;line-height:normal;font-family:Menlo,'DejaVu Sans Mono',consolas,'Courier New',monospace\">posterior_weights <span style=\"color: #800080; text-decoration-color: #800080; font-weight: bold\">tensor</span><span style=\"font-weight: bold\">([</span><span style=\"color: #008080; text-decoration-color: #008080; font-weight: bold\">0.9476</span>, <span style=\"color: #008080; text-decoration-color: #008080; font-weight: bold\">0.6028</span>, <span style=\"color: #008080; text-decoration-color: #008080; font-weight: bold\">0.7902</span><span style=\"font-weight: bold\">])</span>\n",
       "</pre>\n"
      ],
      "text/plain": [
       "posterior_weights \u001b[1;35mtensor\u001b[0m\u001b[1m(\u001b[0m\u001b[1m[\u001b[0m\u001b[1;36m0.9476\u001b[0m, \u001b[1;36m0.6028\u001b[0m, \u001b[1;36m0.7902\u001b[0m\u001b[1m]\u001b[0m\u001b[1m)\u001b[0m\n"
      ]
     },
     "metadata": {},
     "output_type": "display_data"
    },
    {
     "data": {
      "text/html": [
       "<pre style=\"white-space:pre;overflow-x:auto;line-height:normal;font-family:Menlo,'DejaVu Sans Mono',consolas,'Courier New',monospace\">weight_changes <span style=\"color: #800080; text-decoration-color: #800080; font-weight: bold\">tensor</span><span style=\"font-weight: bold\">([</span><span style=\"color: #008080; text-decoration-color: #008080; font-weight: bold\">0.1574</span>, <span style=\"color: #008080; text-decoration-color: #008080; font-weight: bold\">0.1875</span>, <span style=\"color: #008080; text-decoration-color: #008080; font-weight: bold\">0.0000</span><span style=\"font-weight: bold\">])</span>\n",
       "</pre>\n"
      ],
      "text/plain": [
       "weight_changes \u001b[1;35mtensor\u001b[0m\u001b[1m(\u001b[0m\u001b[1m[\u001b[0m\u001b[1;36m0.1574\u001b[0m, \u001b[1;36m0.1875\u001b[0m, \u001b[1;36m0.0000\u001b[0m\u001b[1m]\u001b[0m\u001b[1m)\u001b[0m\n"
      ]
     },
     "metadata": {},
     "output_type": "display_data"
    },
    {
     "data": {
      "text/html": [
       "<pre style=\"white-space:pre;overflow-x:auto;line-height:normal;font-family:Menlo,'DejaVu Sans Mono',consolas,'Courier New',monospace\">weighted_weight_changes <span style=\"color: #800080; text-decoration-color: #800080; font-weight: bold\">tensor</span><span style=\"font-weight: bold\">([</span><span style=\"color: #008080; text-decoration-color: #008080; font-weight: bold\">0.0310</span>, <span style=\"color: #008080; text-decoration-color: #008080; font-weight: bold\">0.0031</span>, <span style=\"color: #008080; text-decoration-color: #008080; font-weight: bold\">0.0000</span><span style=\"font-weight: bold\">])</span>\n",
       "</pre>\n"
      ],
      "text/plain": [
       "weighted_weight_changes \u001b[1;35mtensor\u001b[0m\u001b[1m(\u001b[0m\u001b[1m[\u001b[0m\u001b[1;36m0.0310\u001b[0m, \u001b[1;36m0.0031\u001b[0m, \u001b[1;36m0.0000\u001b[0m\u001b[1m]\u001b[0m\u001b[1m)\u001b[0m\n"
      ]
     },
     "metadata": {},
     "output_type": "display_data"
    }
   ],
   "source": [
    "posteriors = torch.stack(\n",
    "    [\n",
    "        father_posterior_fathers_fingerprint,\n",
    "        father_posterior_others_fingerprint,\n",
    "        father_posterior_no_fingerprint,\n",
    "    ],\n",
    "    dim=0,\n",
    ")\n",
    "\n",
    "print(\"posteriors now have shape\", posteriors.shape)\n",
    "print(posteriors)\n",
    "\n",
    "expected_weights_no_son = pot.expected_weight(\n",
    "    probs_of_evidence_no_son,\n",
    "    father_prior_now,\n",
    "    posteriors,\n",
    ")\n",
    "\n",
    "\n",
    "# posterior weights: A tensor of weights calculated for each of the posterior distributions. Each posterior represents a belief after observing some evidence\n",
    "# weight changes: The difference between the weights of the posteriors and the prior\n",
    "# weighted weight changes: The weight_changes values multiplied by the probabilities of the corresponding pieces of evidence\n",
    "\n",
    "for key in expected_weights_no_son:\n",
    "    print(key, expected_weights_no_son[key])"
   ]
  },
  {
   "cell_type": "markdown",
   "metadata": {},
   "source": [
    "add to the vis. below: probs_of_evidence_no_son tensor([0.1996, 0.0107, 0.7897])\n",
    "\n",
    "Add a description and explanation of the calculations below:\n"
   ]
  },
  {
   "cell_type": "code",
   "execution_count": 13,
   "metadata": {},
   "outputs": [],
   "source": [
    "# # Visualization of the expected weight calculation\n",
    "\n",
    "# posterior_weights = expected_weights_no_son[\"posterior_weights\"]\n",
    "# weight_changes = expected_weights_no_son[\"weight_changes\"]\n",
    "# weighted_weight_changes = expected_weights_no_son[\"weighted_weight_changes\"]\n",
    "\n",
    "# print('Expected weight (no son):', expected_weights_no_son[\"expected_weight\"])"
   ]
  },
  {
   "cell_type": "code",
   "execution_count": 14,
   "metadata": {},
   "outputs": [
    {
     "data": {
      "image/png": "[encoded data removed]",
      "text/plain": [
       "<Figure size 640x480 with 1 Axes>"
      ]
     },
     "metadata": {},
     "output_type": "display_data"
    }
   ],
   "source": [
    "fig, ax = plt.subplots()\n",
    "weight_changes = expected_weights_no_son[\"weight_changes\"]\n",
    "ax.scatter(probs_of_evidence_no_son, weight_changes, color=\"lightcoral\")\n",
    "\n",
    "\n",
    "for i, label in enumerate(labels):\n",
    "    ax.annotate(\n",
    "        label,\n",
    "        (probs_of_evidence_no_son[i], weight_changes[i]),\n",
    "        textcoords=\"offset points\",\n",
    "        xytext=(4, 3),\n",
    "        ha=\"left\",\n",
    "        fontsize=10,\n",
    "    )\n",
    "\n",
    "\n",
    "first_key = list(expected_weights_no_son.keys())[0]\n",
    "first_value = expected_weights_no_son[first_key].item()\n",
    "rounded_value = round(first_value, 4)\n",
    "\n",
    "ax.set_title(\n",
    "    f\"Absolute and expected weight changes under 3 evidential scenarios\", pad=10\n",
    ")\n",
    "# TODO NIKODEM add text with calculations:\n",
    "#  f\"Expected weight of the evidence: FORMULA ... {rounded_value}\"\n",
    "\n",
    "\n",
    "# ax.set_title(f\"Expected weight of the wvidence: {rounded_value}\", pad=10)\n",
    "ax.set_xlabel(\"probability of evidential scenario\")\n",
    "ax.set_ylabel(\"absolute weight change\")\n",
    "sns.despine()\n",
    "plt.xlim(0, 1)\n",
    "\n",
    "plt.savefig(\"figures/tinbox_posterior_weights_no_son.pdf\")\n",
    "plt.show()"
   ]
  },
  {
   "cell_type": "code",
   "execution_count": 15,
   "metadata": {},
   "outputs": [],
   "source": [
    "# labels = ['Father\\'s fingerprints', 'Others\\' fingerprints', 'No fingerprints']\n",
    "\n",
    "# fig, axs = plt.subplots(1, 2, figsize=(11, 5))\n",
    "\n",
    "# axs[0].bar(labels, posterior_weights, color= 'lightblue')\n",
    "# axs[0].set_title('Posterior Weights')\n",
    "# axs[0].set_ylabel('Weight')\n",
    "# for i, v in enumerate(posterior_weights):\n",
    "#     axs[0].text(i, v, f\"{v:.2f}\", ha='center', va='bottom')\n",
    "\n",
    "# axs[1].bar(labels, weighted_weight_changes, color='lightcoral')\n",
    "# axs[1].set_title('Expected Weights') # Weighted Weight Changes\n",
    "# axs[1].set_ylabel('Weighted Change')\n",
    "# for i, v in enumerate(weighted_weight_changes):\n",
    "#     axs[1].text(i, v, f\"{v:.3f}\", ha='center', va='bottom')\n",
    "\n",
    "# # axs[1].bar(labels, weight_changes, color='lightgreen')\n",
    "# # axs[1].set_title('Weight Changes (Posteriors - Prior)')\n",
    "# # axs[1].set_ylabel('Weight Change')\n",
    "# # for i, v in enumerate(weight_changes):\n",
    "# #     axs[1].text(i, v, f\"{v:.2f}\", ha='center', va='bottom')\n",
    "\n",
    "# plt.tight_layout()\n",
    "# plt.savefig('figures/tinbox_posterior_weights_no_son.pdf')\n",
    "# plt.show()"
   ]
  },
  {
   "cell_type": "markdown",
   "metadata": {},
   "source": [
    "## Tinbox case, son considered"
   ]
  },
  {
   "cell_type": "markdown",
   "metadata": {},
   "source": [
    "We will follow here the same workflow as in the previous case, but now we will consider the son. Build the model, calculating the posterior and expected weight."
   ]
  },
  {
   "cell_type": "code",
   "execution_count": 16,
   "metadata": {},
   "outputs": [],
   "source": [
    "# set pyro seed\n",
    "pyro.set_rng_seed(42)\n",
    "\n",
    "\n",
    "def tinbox_core_son(\n",
    "    pr_father: float = 0.5,\n",
    "    pr_confession_if_father=0.4,\n",
    "    pr_confession_if_son=0.4,  # Probability of confession if father is NOT guilty is 0.8 (higher), whereas in the previous model it was 0.01.\n",
    "    father_fingerprints_if_father=0.4,\n",
    "    father_fingerprints_if_son=0.1,\n",
    "    son_fingerprints_if_father=0.1,  # This model introduces son’s fingerprints\n",
    "    son_fingerprints_if_son=0.4,\n",
    "    angle_if_father=0.3,\n",
    "    angle_if_son=0.8,\n",
    "    num_particles=3e4,  # should be wide uniform really\n",
    "):\n",
    "    with pyro.plate(\"inner_particles\", size=num_particles):\n",
    "        father = pyro.sample(\"father\", dist.Bernoulli(pr_father))\n",
    "\n",
    "        prob_confession = pyro.deterministic(\n",
    "            \"prob_confession\",\n",
    "            father * pr_confession_if_father + (1 - father) * pr_confession_if_son,\n",
    "        )\n",
    "\n",
    "        confession = pyro.sample(\"confession\", dist.Bernoulli(prob_confession))\n",
    "\n",
    "        prob_father_fingerprints = pyro.deterministic(\n",
    "            \"prob_father_fingerprints\",\n",
    "            father * father_fingerprints_if_father\n",
    "            + (1 - father) * father_fingerprints_if_son,\n",
    "        )\n",
    "\n",
    "        father_fingerprints = pyro.sample(\n",
    "            \"father_fingerprints\", dist.Bernoulli(prob_father_fingerprints)\n",
    "        )\n",
    "\n",
    "        #  In this model, \"other_fingerprints\" refers to the son's fingerprints, not unrelated fingerprints like in the first model.\n",
    "        prob_son_fingerprints = pyro.deterministic(\n",
    "            \"prob_son_fingerprints\",\n",
    "            father * son_fingerprints_if_father\n",
    "            + (1 - father) * son_fingerprints_if_son,\n",
    "        )  # The son's fingerprints are now incorporated.\n",
    "\n",
    "        son_fingerprints = pyro.sample(\n",
    "            \"other_fingerprints\", dist.Bernoulli(prob_son_fingerprints)\n",
    "        )\n",
    "\n",
    "        angle_prob = pyro.deterministic(\n",
    "            \"angle_prob\", father * angle_if_father + (1 - father) * angle_if_son\n",
    "        )\n",
    "\n",
    "        angle = pyro.sample(\"angle\", dist.Bernoulli(angle_prob))\n",
    "\n",
    "        # a bit hacky, but we want to run it inside other models, so we\n",
    "        # avoid running real inference here, using this poor man's\n",
    "        # rejection sampling\n",
    "\n",
    "        # Evidence masks remain similar to the first model:\n",
    "\n",
    "        evidence_mask_father_fingerprint = (\n",
    "            confession * angle * father_fingerprints * (1 - son_fingerprints)\n",
    "        ).bool()\n",
    "\n",
    "        evidence_mask_no_fingerprint = (confession * angle).bool()\n",
    "\n",
    "        evidence_mask_son_fingerprint = (\n",
    "            confession * (1 - father_fingerprints) * son_fingerprints * angle\n",
    "        ).bool()\n",
    "\n",
    "        father_masked_fathers_fingerprint = pyro.deterministic(\n",
    "            \"father_masked_fingerprint\",\n",
    "            torch.where(\n",
    "                evidence_mask_father_fingerprint, father, torch.tensor(float(\"nan\"))\n",
    "            ),\n",
    "        )\n",
    "\n",
    "        father_masked_no_fingerpint = pyro.deterministic(\n",
    "            \"father_masked_no_fingerprint\",\n",
    "            torch.where(\n",
    "                evidence_mask_no_fingerprint, father, torch.tensor(float(\"nan\"))\n",
    "            ),\n",
    "        )\n",
    "\n",
    "        father_masked_son_fingerprint = pyro.deterministic(\n",
    "            \"father_masked_son_fingerprint\",\n",
    "            torch.where(\n",
    "                evidence_mask_son_fingerprint, father, torch.tensor(float(\"nan\"))\n",
    "            ),\n",
    "        )\n",
    "\n",
    "    posterior_father_fathers_fingerprint = pyro.deterministic(\n",
    "        \"posterior_father_fathers_fingerprint\",\n",
    "        torch.nanmean(father_masked_fathers_fingerprint, axis=0),\n",
    "    )\n",
    "\n",
    "    posterior_father_no_fingerprint = pyro.deterministic(\n",
    "        \"posterior_father_no_fingerprint\",\n",
    "        torch.nanmean(father_masked_no_fingerpint, axis=0),\n",
    "    )\n",
    "\n",
    "    posterior_father_son_fingerprint = pyro.deterministic(\n",
    "        \"posterior_father_son_fingerprint\",\n",
    "        torch.nanmean(father_masked_son_fingerprint, axis=0),\n",
    "    )"
   ]
  },
  {
   "cell_type": "code",
   "execution_count": 17,
   "metadata": {},
   "outputs": [
    {
     "name": "stderr",
     "output_type": "stream",
     "text": [
      "/home/rafal/miniconda3/envs/mrbook/lib/python3.10/site-packages/torch/cuda/__init__.py:734: UserWarning: Can't initialize NVML\n",
      "  warnings.warn(\"Can't initialize NVML\")\n"
     ]
    },
    {
     "data": {
      "image/svg+xml": [
       "<?xml version=\"1.0\" encoding=\"UTF-8\" standalone=\"no\"?>\n",
       "<!DOCTYPE svg PUBLIC \"-//W3C//DTD SVG 1.1//EN\"\n",
       " \"http://www.w3.org/Graphics/SVG/1.1/DTD/svg11.dtd\">\n",
       "<!-- Generated by graphviz version 2.43.0 (0)\n",
       " -->\n",
       "<!-- Title: %3 Pages: 1 -->\n",
       "<svg width=\"1034pt\" height=\"351pt\"\n",
       " viewBox=\"0.00 0.00 1034.07 351.00\" xmlns=\"http://www.w3.org/2000/svg\" xmlns:xlink=\"http://www.w3.org/1999/xlink\">\n",
       "<g id=\"graph0\" class=\"graph\" transform=\"scale(1 1) rotate(0) translate(4 347)\">\n",
       "<title>%3</title>\n",
       "<polygon fill=\"white\" stroke=\"transparent\" points=\"-4,4 -4,-347 1030.07,-347 1030.07,4 -4,4\"/>\n",
       "<g id=\"clust1\" class=\"cluster\">\n",
       "<title>cluster_inner_particles</title>\n",
       "<polygon fill=\"none\" stroke=\"black\" points=\"87.08,-44 87.08,-335 1014.08,-335 1014.08,-44 87.08,-44\"/>\n",
       "<text text-anchor=\"middle\" x=\"952.58\" y=\"-51.8\" font-family=\"Times,serif\" font-size=\"14.00\">inner_particles</text>\n",
       "</g>\n",
       "<!-- posterior_father_fathers_fingerprint -->\n",
       "<g id=\"node1\" class=\"node\">\n",
       "<title>posterior_father_fathers_fingerprint</title>\n",
       "<ellipse fill=\"gray\" stroke=\"black\" stroke-dasharray=\"5,2\" cx=\"178.08\" cy=\"-18\" rx=\"178.17\" ry=\"18\"/>\n",
       "<text text-anchor=\"middle\" x=\"178.08\" y=\"-14.3\" font-family=\"Times,serif\" font-size=\"14.00\">posterior_father_fathers_fingerprint</text>\n",
       "</g>\n",
       "<!-- posterior_father_no_fingerprint -->\n",
       "<g id=\"node2\" class=\"node\">\n",
       "<title>posterior_father_no_fingerprint</title>\n",
       "<ellipse fill=\"gray\" stroke=\"black\" stroke-dasharray=\"5,2\" cx=\"870.08\" cy=\"-18\" rx=\"155.97\" ry=\"18\"/>\n",
       "<text text-anchor=\"middle\" x=\"870.08\" y=\"-14.3\" font-family=\"Times,serif\" font-size=\"14.00\">posterior_father_no_fingerprint</text>\n",
       "</g>\n",
       "<!-- posterior_father_son_fingerprint -->\n",
       "<g id=\"node3\" class=\"node\">\n",
       "<title>posterior_father_son_fingerprint</title>\n",
       "<ellipse fill=\"gray\" stroke=\"black\" stroke-dasharray=\"5,2\" cx=\"535.08\" cy=\"-18\" rx=\"161.37\" ry=\"18\"/>\n",
       "<text text-anchor=\"middle\" x=\"535.08\" y=\"-14.3\" font-family=\"Times,serif\" font-size=\"14.00\">posterior_father_son_fingerprint</text>\n",
       "</g>\n",
       "<!-- father -->\n",
       "<g id=\"node4\" class=\"node\">\n",
       "<title>father</title>\n",
       "<ellipse fill=\"white\" stroke=\"black\" cx=\"625.08\" cy=\"-309\" rx=\"38.99\" ry=\"18\"/>\n",
       "<text text-anchor=\"middle\" x=\"625.08\" y=\"-305.3\" font-family=\"Times,serif\" font-size=\"14.00\">father</text>\n",
       "</g>\n",
       "<!-- prob_confession -->\n",
       "<g id=\"node5\" class=\"node\">\n",
       "<title>prob_confession</title>\n",
       "<ellipse fill=\"gray\" stroke=\"black\" stroke-dasharray=\"5,2\" cx=\"729.08\" cy=\"-237\" rx=\"85.29\" ry=\"18\"/>\n",
       "<text text-anchor=\"middle\" x=\"729.08\" y=\"-233.3\" font-family=\"Times,serif\" font-size=\"14.00\">prob_confession</text>\n",
       "</g>\n",
       "<!-- father&#45;&gt;prob_confession -->\n",
       "<g id=\"edge1\" class=\"edge\">\n",
       "<title>father&#45;&gt;prob_confession</title>\n",
       "<path fill=\"none\" stroke=\"black\" d=\"M646.13,-293.83C660.45,-284.19 679.7,-271.24 696.05,-260.23\"/>\n",
       "<polygon fill=\"black\" stroke=\"black\" points=\"698.45,-262.84 704.79,-254.35 694.54,-257.03 698.45,-262.84\"/>\n",
       "</g>\n",
       "<!-- prob_father_fingerprints -->\n",
       "<g id=\"node7\" class=\"node\">\n",
       "<title>prob_father_fingerprints</title>\n",
       "<ellipse fill=\"gray\" stroke=\"black\" stroke-dasharray=\"5,2\" cx=\"239.08\" cy=\"-237\" rx=\"124.28\" ry=\"18\"/>\n",
       "<text text-anchor=\"middle\" x=\"239.08\" y=\"-233.3\" font-family=\"Times,serif\" font-size=\"14.00\">prob_father_fingerprints</text>\n",
       "</g>\n",
       "<!-- father&#45;&gt;prob_father_fingerprints -->\n",
       "<g id=\"edge3\" class=\"edge\">\n",
       "<title>father&#45;&gt;prob_father_fingerprints</title>\n",
       "<path fill=\"none\" stroke=\"black\" d=\"M589.46,-301.54C529.38,-290.64 406.34,-268.33 323.26,-253.27\"/>\n",
       "<polygon fill=\"black\" stroke=\"black\" points=\"323.8,-249.81 313.34,-251.47 322.55,-256.69 323.8,-249.81\"/>\n",
       "</g>\n",
       "<!-- prob_son_fingerprints -->\n",
       "<g id=\"node9\" class=\"node\">\n",
       "<title>prob_son_fingerprints</title>\n",
       "<ellipse fill=\"gray\" stroke=\"black\" stroke-dasharray=\"5,2\" cx=\"494.08\" cy=\"-237\" rx=\"112.38\" ry=\"18\"/>\n",
       "<text text-anchor=\"middle\" x=\"494.08\" y=\"-233.3\" font-family=\"Times,serif\" font-size=\"14.00\">prob_son_fingerprints</text>\n",
       "</g>\n",
       "<!-- father&#45;&gt;prob_son_fingerprints -->\n",
       "<g id=\"edge5\" class=\"edge\">\n",
       "<title>father&#45;&gt;prob_son_fingerprints</title>\n",
       "<path fill=\"none\" stroke=\"black\" d=\"M600.44,-294.83C581.77,-284.85 555.71,-270.93 534.06,-259.36\"/>\n",
       "<polygon fill=\"black\" stroke=\"black\" points=\"535.56,-256.19 525.09,-254.57 532.26,-262.37 535.56,-256.19\"/>\n",
       "</g>\n",
       "<!-- angle_prob -->\n",
       "<g id=\"node11\" class=\"node\">\n",
       "<title>angle_prob</title>\n",
       "<ellipse fill=\"gray\" stroke=\"black\" stroke-dasharray=\"5,2\" cx=\"894.08\" cy=\"-237\" rx=\"61.99\" ry=\"18\"/>\n",
       "<text text-anchor=\"middle\" x=\"894.08\" y=\"-233.3\" font-family=\"Times,serif\" font-size=\"14.00\">angle_prob</text>\n",
       "</g>\n",
       "<!-- father&#45;&gt;angle_prob -->\n",
       "<g id=\"edge7\" class=\"edge\">\n",
       "<title>father&#45;&gt;angle_prob</title>\n",
       "<path fill=\"none\" stroke=\"black\" d=\"M658.34,-299.35C703.73,-287.53 785.63,-266.22 839.94,-252.09\"/>\n",
       "<polygon fill=\"black\" stroke=\"black\" points=\"840.95,-255.44 849.74,-249.54 839.19,-248.67 840.95,-255.44\"/>\n",
       "</g>\n",
       "<!-- father_masked_fingerprint -->\n",
       "<g id=\"node13\" class=\"node\">\n",
       "<title>father_masked_fingerprint</title>\n",
       "<ellipse fill=\"gray\" stroke=\"black\" stroke-dasharray=\"5,2\" cx=\"229.08\" cy=\"-93\" rx=\"133.78\" ry=\"18\"/>\n",
       "<text text-anchor=\"middle\" x=\"229.08\" y=\"-89.3\" font-family=\"Times,serif\" font-size=\"14.00\">father_masked_fingerprint</text>\n",
       "</g>\n",
       "<!-- father&#45;&gt;father_masked_fingerprint -->\n",
       "<g id=\"edge9\" class=\"edge\">\n",
       "<title>father&#45;&gt;father_masked_fingerprint</title>\n",
       "<path fill=\"none\" stroke=\"black\" d=\"M585.99,-306.96C470.7,-303.5 138.14,-290.5 106.08,-255 83.83,-230.35 122.54,-157.04 131.08,-147 142.71,-133.33 158.78,-122.6 174.55,-114.49\"/>\n",
       "<polygon fill=\"black\" stroke=\"black\" points=\"176.3,-117.53 183.76,-110.01 173.24,-111.23 176.3,-117.53\"/>\n",
       "</g>\n",
       "<!-- father_masked_no_fingerprint -->\n",
       "<g id=\"node14\" class=\"node\">\n",
       "<title>father_masked_no_fingerprint</title>\n",
       "<ellipse fill=\"gray\" stroke=\"black\" stroke-dasharray=\"5,2\" cx=\"857.08\" cy=\"-93\" rx=\"149.47\" ry=\"18\"/>\n",
       "<text text-anchor=\"middle\" x=\"857.08\" y=\"-89.3\" font-family=\"Times,serif\" font-size=\"14.00\">father_masked_no_fingerprint</text>\n",
       "</g>\n",
       "<!-- father&#45;&gt;father_masked_no_fingerprint -->\n",
       "<g id=\"edge14\" class=\"edge\">\n",
       "<title>father&#45;&gt;father_masked_no_fingerprint</title>\n",
       "<path fill=\"none\" stroke=\"black\" d=\"M664.22,-307.98C745.18,-307.03 926.72,-299.81 965.08,-255 1004.16,-209.36 936.24,-149.1 891.53,-116.79\"/>\n",
       "<polygon fill=\"black\" stroke=\"black\" points=\"893.4,-113.82 883.21,-110.9 889.35,-119.53 893.4,-113.82\"/>\n",
       "</g>\n",
       "<!-- father_masked_son_fingerprint -->\n",
       "<g id=\"node15\" class=\"node\">\n",
       "<title>father_masked_son_fingerprint</title>\n",
       "<ellipse fill=\"gray\" stroke=\"black\" stroke-dasharray=\"5,2\" cx=\"535.08\" cy=\"-93\" rx=\"154.07\" ry=\"18\"/>\n",
       "<text text-anchor=\"middle\" x=\"535.08\" y=\"-89.3\" font-family=\"Times,serif\" font-size=\"14.00\">father_masked_son_fingerprint</text>\n",
       "</g>\n",
       "<!-- father&#45;&gt;father_masked_son_fingerprint -->\n",
       "<g id=\"edge17\" class=\"edge\">\n",
       "<title>father&#45;&gt;father_masked_son_fingerprint</title>\n",
       "<path fill=\"none\" stroke=\"black\" d=\"M626.25,-290.56C627.51,-259.33 626.31,-192.86 598.08,-147 591.05,-135.57 580.7,-125.39 570.41,-117.09\"/>\n",
       "<polygon fill=\"black\" stroke=\"black\" points=\"572.31,-114.14 562.24,-110.84 568.06,-119.7 572.31,-114.14\"/>\n",
       "</g>\n",
       "<!-- confession -->\n",
       "<g id=\"node6\" class=\"node\">\n",
       "<title>confession</title>\n",
       "<ellipse fill=\"white\" stroke=\"black\" cx=\"717.08\" cy=\"-165\" rx=\"59.59\" ry=\"18\"/>\n",
       "<text text-anchor=\"middle\" x=\"717.08\" y=\"-161.3\" font-family=\"Times,serif\" font-size=\"14.00\">confession</text>\n",
       "</g>\n",
       "<!-- prob_confession&#45;&gt;confession -->\n",
       "<g id=\"edge2\" class=\"edge\">\n",
       "<title>prob_confession&#45;&gt;confession</title>\n",
       "<path fill=\"none\" stroke=\"black\" d=\"M726.12,-218.7C724.8,-210.98 723.21,-201.71 721.73,-193.11\"/>\n",
       "<polygon fill=\"black\" stroke=\"black\" points=\"725.16,-192.37 720.02,-183.1 718.26,-193.55 725.16,-192.37\"/>\n",
       "</g>\n",
       "<!-- confession&#45;&gt;father_masked_fingerprint -->\n",
       "<g id=\"edge10\" class=\"edge\">\n",
       "<title>confession&#45;&gt;father_masked_fingerprint</title>\n",
       "<path fill=\"none\" stroke=\"black\" d=\"M664.4,-156.44C583.78,-144.88 428.49,-122.6 326.85,-108.02\"/>\n",
       "<polygon fill=\"black\" stroke=\"black\" points=\"327.27,-104.55 316.88,-106.59 326.28,-111.48 327.27,-104.55\"/>\n",
       "</g>\n",
       "<!-- confession&#45;&gt;father_masked_no_fingerprint -->\n",
       "<g id=\"edge15\" class=\"edge\">\n",
       "<title>confession&#45;&gt;father_masked_no_fingerprint</title>\n",
       "<path fill=\"none\" stroke=\"black\" d=\"M746.77,-149.15C766.44,-139.32 792.54,-126.27 814.42,-115.33\"/>\n",
       "<polygon fill=\"black\" stroke=\"black\" points=\"816.13,-118.39 823.51,-110.79 813,-112.13 816.13,-118.39\"/>\n",
       "</g>\n",
       "<!-- confession&#45;&gt;father_masked_son_fingerprint -->\n",
       "<g id=\"edge18\" class=\"edge\">\n",
       "<title>confession&#45;&gt;father_masked_son_fingerprint</title>\n",
       "<path fill=\"none\" stroke=\"black\" d=\"M681.56,-150.34C654.68,-140 617.35,-125.64 587.1,-114.01\"/>\n",
       "<polygon fill=\"black\" stroke=\"black\" points=\"588.14,-110.66 577.55,-110.33 585.63,-117.19 588.14,-110.66\"/>\n",
       "</g>\n",
       "<!-- father_fingerprints -->\n",
       "<g id=\"node8\" class=\"node\">\n",
       "<title>father_fingerprints</title>\n",
       "<ellipse fill=\"white\" stroke=\"black\" cx=\"239.08\" cy=\"-165\" rx=\"98.58\" ry=\"18\"/>\n",
       "<text text-anchor=\"middle\" x=\"239.08\" y=\"-161.3\" font-family=\"Times,serif\" font-size=\"14.00\">father_fingerprints</text>\n",
       "</g>\n",
       "<!-- prob_father_fingerprints&#45;&gt;father_fingerprints -->\n",
       "<g id=\"edge4\" class=\"edge\">\n",
       "<title>prob_father_fingerprints&#45;&gt;father_fingerprints</title>\n",
       "<path fill=\"none\" stroke=\"black\" d=\"M239.08,-218.7C239.08,-210.98 239.08,-201.71 239.08,-193.11\"/>\n",
       "<polygon fill=\"black\" stroke=\"black\" points=\"242.58,-193.1 239.08,-183.1 235.58,-193.1 242.58,-193.1\"/>\n",
       "</g>\n",
       "<!-- father_fingerprints&#45;&gt;father_masked_fingerprint -->\n",
       "<g id=\"edge11\" class=\"edge\">\n",
       "<title>father_fingerprints&#45;&gt;father_masked_fingerprint</title>\n",
       "<path fill=\"none\" stroke=\"black\" d=\"M236.61,-146.7C235.51,-138.98 234.19,-129.71 232.96,-121.11\"/>\n",
       "<polygon fill=\"black\" stroke=\"black\" points=\"236.41,-120.51 231.53,-111.1 229.48,-121.5 236.41,-120.51\"/>\n",
       "</g>\n",
       "<!-- father_fingerprints&#45;&gt;father_masked_son_fingerprint -->\n",
       "<g id=\"edge19\" class=\"edge\">\n",
       "<title>father_fingerprints&#45;&gt;father_masked_son_fingerprint</title>\n",
       "<path fill=\"none\" stroke=\"black\" d=\"M296.86,-150.34C343.55,-139.3 409.61,-123.67 460.32,-111.68\"/>\n",
       "<polygon fill=\"black\" stroke=\"black\" points=\"461.33,-115.04 470.25,-109.33 459.71,-108.23 461.33,-115.04\"/>\n",
       "</g>\n",
       "<!-- other_fingerprints -->\n",
       "<g id=\"node10\" class=\"node\">\n",
       "<title>other_fingerprints</title>\n",
       "<ellipse fill=\"white\" stroke=\"black\" cx=\"494.08\" cy=\"-165\" rx=\"94.78\" ry=\"18\"/>\n",
       "<text text-anchor=\"middle\" x=\"494.08\" y=\"-161.3\" font-family=\"Times,serif\" font-size=\"14.00\">other_fingerprints</text>\n",
       "</g>\n",
       "<!-- prob_son_fingerprints&#45;&gt;other_fingerprints -->\n",
       "<g id=\"edge6\" class=\"edge\">\n",
       "<title>prob_son_fingerprints&#45;&gt;other_fingerprints</title>\n",
       "<path fill=\"none\" stroke=\"black\" d=\"M494.08,-218.7C494.08,-210.98 494.08,-201.71 494.08,-193.11\"/>\n",
       "<polygon fill=\"black\" stroke=\"black\" points=\"497.58,-193.1 494.08,-183.1 490.58,-193.1 497.58,-193.1\"/>\n",
       "</g>\n",
       "<!-- other_fingerprints&#45;&gt;father_masked_fingerprint -->\n",
       "<g id=\"edge12\" class=\"edge\">\n",
       "<title>other_fingerprints&#45;&gt;father_masked_fingerprint</title>\n",
       "<path fill=\"none\" stroke=\"black\" d=\"M441.09,-150C399.67,-139.06 341.79,-123.77 296.97,-111.93\"/>\n",
       "<polygon fill=\"black\" stroke=\"black\" points=\"297.6,-108.48 287.04,-109.31 295.82,-115.25 297.6,-108.48\"/>\n",
       "</g>\n",
       "<!-- other_fingerprints&#45;&gt;father_masked_son_fingerprint -->\n",
       "<g id=\"edge20\" class=\"edge\">\n",
       "<title>other_fingerprints&#45;&gt;father_masked_son_fingerprint</title>\n",
       "<path fill=\"none\" stroke=\"black\" d=\"M504.01,-147.05C508.77,-138.92 514.59,-129 519.89,-119.94\"/>\n",
       "<polygon fill=\"black\" stroke=\"black\" points=\"522.93,-121.67 524.97,-111.28 516.89,-118.14 522.93,-121.67\"/>\n",
       "</g>\n",
       "<!-- angle -->\n",
       "<g id=\"node12\" class=\"node\">\n",
       "<title>angle</title>\n",
       "<ellipse fill=\"white\" stroke=\"black\" cx=\"844.08\" cy=\"-165\" rx=\"36.29\" ry=\"18\"/>\n",
       "<text text-anchor=\"middle\" x=\"844.08\" y=\"-161.3\" font-family=\"Times,serif\" font-size=\"14.00\">angle</text>\n",
       "</g>\n",
       "<!-- angle_prob&#45;&gt;angle -->\n",
       "<g id=\"edge8\" class=\"edge\">\n",
       "<title>angle_prob&#45;&gt;angle</title>\n",
       "<path fill=\"none\" stroke=\"black\" d=\"M881.98,-219.05C875.87,-210.5 868.35,-199.97 861.62,-190.56\"/>\n",
       "<polygon fill=\"black\" stroke=\"black\" points=\"864.39,-188.41 855.73,-182.31 858.7,-192.48 864.39,-188.41\"/>\n",
       "</g>\n",
       "<!-- angle&#45;&gt;father_masked_fingerprint -->\n",
       "<g id=\"edge13\" class=\"edge\">\n",
       "<title>angle&#45;&gt;father_masked_fingerprint</title>\n",
       "<path fill=\"none\" stroke=\"black\" d=\"M814.85,-154.21C805.73,-151.48 795.57,-148.78 786.08,-147 604.57,-112.86 555.81,-129.9 372.08,-111 359.82,-109.74 346.97,-108.33 334.22,-106.88\"/>\n",
       "<polygon fill=\"black\" stroke=\"black\" points=\"334.37,-103.38 324.03,-105.71 333.57,-110.33 334.37,-103.38\"/>\n",
       "</g>\n",
       "<!-- angle&#45;&gt;father_masked_no_fingerprint -->\n",
       "<g id=\"edge16\" class=\"edge\">\n",
       "<title>angle&#45;&gt;father_masked_no_fingerprint</title>\n",
       "<path fill=\"none\" stroke=\"black\" d=\"M847.23,-147.05C848.66,-139.35 850.39,-130.03 852,-121.36\"/>\n",
       "<polygon fill=\"black\" stroke=\"black\" points=\"855.49,-121.75 853.88,-111.28 848.61,-120.47 855.49,-121.75\"/>\n",
       "</g>\n",
       "<!-- angle&#45;&gt;father_masked_son_fingerprint -->\n",
       "<g id=\"edge21\" class=\"edge\">\n",
       "<title>angle&#45;&gt;father_masked_son_fingerprint</title>\n",
       "<path fill=\"none\" stroke=\"black\" d=\"M814.1,-154.73C805.13,-152.09 795.24,-149.31 786.08,-147 731.84,-133.34 670.4,-120.33 621.89,-110.62\"/>\n",
       "<polygon fill=\"black\" stroke=\"black\" points=\"622.55,-107.18 612.06,-108.66 621.18,-114.04 622.55,-107.18\"/>\n",
       "</g>\n",
       "<!-- father_masked_fingerprint&#45;&gt;posterior_father_fathers_fingerprint -->\n",
       "<g id=\"edge22\" class=\"edge\">\n",
       "<title>father_masked_fingerprint&#45;&gt;posterior_father_fathers_fingerprint</title>\n",
       "<path fill=\"none\" stroke=\"black\" d=\"M217.26,-75.07C210.93,-66.01 203.01,-54.67 195.95,-44.57\"/>\n",
       "<polygon fill=\"black\" stroke=\"black\" points=\"198.62,-42.29 190.03,-36.09 192.88,-46.29 198.62,-42.29\"/>\n",
       "</g>\n",
       "<!-- father_masked_no_fingerprint&#45;&gt;posterior_father_no_fingerprint -->\n",
       "<g id=\"edge23\" class=\"edge\">\n",
       "<title>father_masked_no_fingerprint&#45;&gt;posterior_father_no_fingerprint</title>\n",
       "<path fill=\"none\" stroke=\"black\" d=\"M860.17,-74.7C861.69,-66.15 863.56,-55.65 865.26,-46.07\"/>\n",
       "<polygon fill=\"black\" stroke=\"black\" points=\"868.72,-46.63 867.03,-36.18 861.83,-45.41 868.72,-46.63\"/>\n",
       "</g>\n",
       "<!-- father_masked_son_fingerprint&#45;&gt;posterior_father_son_fingerprint -->\n",
       "<g id=\"edge24\" class=\"edge\">\n",
       "<title>father_masked_son_fingerprint&#45;&gt;posterior_father_son_fingerprint</title>\n",
       "<path fill=\"none\" stroke=\"black\" d=\"M535.08,-74.7C535.08,-66.25 535.08,-55.87 535.08,-46.37\"/>\n",
       "<polygon fill=\"black\" stroke=\"black\" points=\"538.58,-46.18 535.08,-36.18 531.58,-46.18 538.58,-46.18\"/>\n",
       "</g>\n",
       "</g>\n",
       "</svg>\n"
      ],
      "text/plain": [
       "<graphviz.graphs.Digraph at 0x7f513132fc40>"
      ]
     },
     "execution_count": 17,
     "metadata": {},
     "output_type": "execute_result"
    }
   ],
   "source": [
    "pyro.render_model(tinbox_core_son, render_deterministic=True)"
   ]
  },
  {
   "cell_type": "code",
   "execution_count": 18,
   "metadata": {},
   "outputs": [
    {
     "data": {
      "text/html": [
       "<pre style=\"white-space:pre;overflow-x:auto;line-height:normal;font-family:Menlo,'DejaVu Sans Mono',consolas,'Courier New',monospace\">posterior_father_fathers_fingerprint <span style=\"color: #800080; text-decoration-color: #800080; font-weight: bold\">tensor</span><span style=\"font-weight: bold\">(</span><span style=\"color: #008080; text-decoration-color: #008080; font-weight: bold\">0.6922</span><span style=\"font-weight: bold\">)</span>\n",
       "</pre>\n"
      ],
      "text/plain": [
       "posterior_father_fathers_fingerprint \u001b[1;35mtensor\u001b[0m\u001b[1m(\u001b[0m\u001b[1;36m0.6922\u001b[0m\u001b[1m)\u001b[0m\n"
      ]
     },
     "metadata": {},
     "output_type": "display_data"
    },
    {
     "data": {
      "text/html": [
       "<pre style=\"white-space:pre;overflow-x:auto;line-height:normal;font-family:Menlo,'DejaVu Sans Mono',consolas,'Courier New',monospace\">posterior_father_no_fingerprint <span style=\"color: #800080; text-decoration-color: #800080; font-weight: bold\">tensor</span><span style=\"font-weight: bold\">(</span><span style=\"color: #008080; text-decoration-color: #008080; font-weight: bold\">0.2736</span><span style=\"font-weight: bold\">)</span>\n",
       "</pre>\n"
      ],
      "text/plain": [
       "posterior_father_no_fingerprint \u001b[1;35mtensor\u001b[0m\u001b[1m(\u001b[0m\u001b[1;36m0.2736\u001b[0m\u001b[1m)\u001b[0m\n"
      ]
     },
     "metadata": {},
     "output_type": "display_data"
    },
    {
     "data": {
      "text/html": [
       "<pre style=\"white-space:pre;overflow-x:auto;line-height:normal;font-family:Menlo,'DejaVu Sans Mono',consolas,'Courier New',monospace\">posterior_father_son_fingerprint <span style=\"color: #800080; text-decoration-color: #800080; font-weight: bold\">tensor</span><span style=\"font-weight: bold\">(</span><span style=\"color: #008080; text-decoration-color: #008080; font-weight: bold\">0.0593</span><span style=\"font-weight: bold\">)</span>\n",
       "</pre>\n"
      ],
      "text/plain": [
       "posterior_father_son_fingerprint \u001b[1;35mtensor\u001b[0m\u001b[1m(\u001b[0m\u001b[1;36m0.0593\u001b[0m\u001b[1m)\u001b[0m\n"
      ]
     },
     "metadata": {},
     "output_type": "display_data"
    }
   ],
   "source": [
    "with pyro.poutine.trace() as tr_son:\n",
    "    pyro.set_rng_seed(42)\n",
    "    tinbox_core_son(num_particles=1e6)\n",
    "\n",
    "for key in tr_son.trace.nodes.keys():\n",
    "    if key.startswith(\"posterior\"):\n",
    "        print(key, tr_son.trace.nodes[key][\"value\"])"
   ]
  },
  {
   "cell_type": "code",
   "execution_count": 19,
   "metadata": {},
   "outputs": [
    {
     "data": {
      "text/html": [
       "<pre style=\"white-space:pre;overflow-x:auto;line-height:normal;font-family:Menlo,'DejaVu Sans Mono',consolas,'Courier New',monospace\">Posterior no fingerprints <span style=\"color: #800080; text-decoration-color: #800080; font-weight: bold\">tensor</span><span style=\"font-weight: bold\">([</span><span style=\"color: #008080; text-decoration-color: #008080; font-weight: bold\">0.7264</span>, <span style=\"color: #008080; text-decoration-color: #008080; font-weight: bold\">0.2736</span><span style=\"font-weight: bold\">])</span>\n",
       "</pre>\n"
      ],
      "text/plain": [
       "Posterior no fingerprints \u001b[1;35mtensor\u001b[0m\u001b[1m(\u001b[0m\u001b[1m[\u001b[0m\u001b[1;36m0.7264\u001b[0m, \u001b[1;36m0.2736\u001b[0m\u001b[1m]\u001b[0m\u001b[1m)\u001b[0m\n"
      ]
     },
     "metadata": {},
     "output_type": "display_data"
    },
    {
     "data": {
      "text/html": [
       "<pre style=\"white-space:pre;overflow-x:auto;line-height:normal;font-family:Menlo,'DejaVu Sans Mono',consolas,'Courier New',monospace\">Posterior father's fingerprints <span style=\"color: #800080; text-decoration-color: #800080; font-weight: bold\">tensor</span><span style=\"font-weight: bold\">([</span><span style=\"color: #008080; text-decoration-color: #008080; font-weight: bold\">0.3078</span>, <span style=\"color: #008080; text-decoration-color: #008080; font-weight: bold\">0.6922</span><span style=\"font-weight: bold\">])</span>\n",
       "</pre>\n"
      ],
      "text/plain": [
       "Posterior father's fingerprints \u001b[1;35mtensor\u001b[0m\u001b[1m(\u001b[0m\u001b[1m[\u001b[0m\u001b[1;36m0.3078\u001b[0m, \u001b[1;36m0.6922\u001b[0m\u001b[1m]\u001b[0m\u001b[1m)\u001b[0m\n"
      ]
     },
     "metadata": {},
     "output_type": "display_data"
    },
    {
     "data": {
      "text/html": [
       "<pre style=\"white-space:pre;overflow-x:auto;line-height:normal;font-family:Menlo,'DejaVu Sans Mono',consolas,'Courier New',monospace\">Posterior other's fingerprints <span style=\"color: #800080; text-decoration-color: #800080; font-weight: bold\">tensor</span><span style=\"font-weight: bold\">([</span><span style=\"color: #008080; text-decoration-color: #008080; font-weight: bold\">0.9407</span>, <span style=\"color: #008080; text-decoration-color: #008080; font-weight: bold\">0.0593</span><span style=\"font-weight: bold\">])</span>\n",
       "</pre>\n"
      ],
      "text/plain": [
       "Posterior other's fingerprints \u001b[1;35mtensor\u001b[0m\u001b[1m(\u001b[0m\u001b[1m[\u001b[0m\u001b[1;36m0.9407\u001b[0m, \u001b[1;36m0.0593\u001b[0m\u001b[1m]\u001b[0m\u001b[1m)\u001b[0m\n"
      ]
     },
     "metadata": {},
     "output_type": "display_data"
    },
    {
     "data": {
      "text/html": [
       "<pre style=\"white-space:pre;overflow-x:auto;line-height:normal;font-family:Menlo,'DejaVu Sans Mono',consolas,'Courier New',monospace\">prior now <span style=\"color: #800080; text-decoration-color: #800080; font-weight: bold\">tensor</span><span style=\"font-weight: bold\">([</span><span style=\"color: #008080; text-decoration-color: #008080; font-weight: bold\">0.7264</span>, <span style=\"color: #008080; text-decoration-color: #008080; font-weight: bold\">0.2736</span><span style=\"font-weight: bold\">])</span>\n",
       "</pre>\n"
      ],
      "text/plain": [
       "prior now \u001b[1;35mtensor\u001b[0m\u001b[1m(\u001b[0m\u001b[1m[\u001b[0m\u001b[1;36m0.7264\u001b[0m, \u001b[1;36m0.2736\u001b[0m\u001b[1m]\u001b[0m\u001b[1m)\u001b[0m\n"
      ]
     },
     "metadata": {},
     "output_type": "display_data"
    },
    {
     "data": {
      "text/html": [
       "<pre style=\"white-space:pre;overflow-x:auto;line-height:normal;font-family:Menlo,'DejaVu Sans Mono',consolas,'Courier New',monospace\">fathers <span style=\"color: #800080; text-decoration-color: #800080; font-weight: bold\">tensor</span><span style=\"font-weight: bold\">(</span><span style=\"color: #008080; text-decoration-color: #008080; font-weight: bold\">0.1821</span><span style=\"font-weight: bold\">)</span>\n",
       "</pre>\n"
      ],
      "text/plain": [
       "fathers \u001b[1;35mtensor\u001b[0m\u001b[1m(\u001b[0m\u001b[1;36m0.1821\u001b[0m\u001b[1m)\u001b[0m\n"
      ]
     },
     "metadata": {},
     "output_type": "display_data"
    },
    {
     "data": {
      "text/html": [
       "<pre style=\"white-space:pre;overflow-x:auto;line-height:normal;font-family:Menlo,'DejaVu Sans Mono',consolas,'Courier New',monospace\">others <span style=\"color: #800080; text-decoration-color: #800080; font-weight: bold\">tensor</span><span style=\"font-weight: bold\">(</span><span style=\"color: #008080; text-decoration-color: #008080; font-weight: bold\">0.0163</span><span style=\"font-weight: bold\">)</span>\n",
       "</pre>\n"
      ],
      "text/plain": [
       "others \u001b[1;35mtensor\u001b[0m\u001b[1m(\u001b[0m\u001b[1;36m0.0163\u001b[0m\u001b[1m)\u001b[0m\n"
      ]
     },
     "metadata": {},
     "output_type": "display_data"
    },
    {
     "data": {
      "text/html": [
       "<pre style=\"white-space:pre;overflow-x:auto;line-height:normal;font-family:Menlo,'DejaVu Sans Mono',consolas,'Courier New',monospace\">none <span style=\"color: #800080; text-decoration-color: #800080; font-weight: bold\">tensor</span><span style=\"font-weight: bold\">(</span><span style=\"color: #008080; text-decoration-color: #008080; font-weight: bold\">0.5000</span><span style=\"font-weight: bold\">)</span>\n",
       "</pre>\n"
      ],
      "text/plain": [
       "none \u001b[1;35mtensor\u001b[0m\u001b[1m(\u001b[0m\u001b[1;36m0.5000\u001b[0m\u001b[1m)\u001b[0m\n"
      ]
     },
     "metadata": {},
     "output_type": "display_data"
    },
    {
     "data": {
      "text/html": [
       "<pre style=\"white-space:pre;overflow-x:auto;line-height:normal;font-family:Menlo,'DejaVu Sans Mono',consolas,'Courier New',monospace\">probs_of_evidence_with_son <span style=\"color: #800080; text-decoration-color: #800080; font-weight: bold\">tensor</span><span style=\"font-weight: bold\">([</span><span style=\"color: #008080; text-decoration-color: #008080; font-weight: bold\">0.1821</span>, <span style=\"color: #008080; text-decoration-color: #008080; font-weight: bold\">0.3179</span>, <span style=\"color: #008080; text-decoration-color: #008080; font-weight: bold\">0.5000</span><span style=\"font-weight: bold\">])</span>\n",
       "</pre>\n"
      ],
      "text/plain": [
       "probs_of_evidence_with_son \u001b[1;35mtensor\u001b[0m\u001b[1m(\u001b[0m\u001b[1m[\u001b[0m\u001b[1;36m0.1821\u001b[0m, \u001b[1;36m0.3179\u001b[0m, \u001b[1;36m0.5000\u001b[0m\u001b[1m]\u001b[0m\u001b[1m)\u001b[0m\n"
      ]
     },
     "metadata": {},
     "output_type": "display_data"
    }
   ],
   "source": [
    "father_posterior_no_fingerprint = torch.tensor(\n",
    "    [\n",
    "        1 - tr_son.trace.nodes[\"posterior_father_no_fingerprint\"][\"value\"],\n",
    "        tr_son.trace.nodes[\"posterior_father_no_fingerprint\"][\"value\"],\n",
    "    ]\n",
    ")\n",
    "father_posterior_fathers_fingerprint = torch.tensor(\n",
    "    [\n",
    "        1 - tr_son.trace.nodes[\"posterior_father_fathers_fingerprint\"][\"value\"],\n",
    "        tr_son.trace.nodes[\"posterior_father_fathers_fingerprint\"][\"value\"],\n",
    "    ]\n",
    ")\n",
    "father_posterior_son_fingerprint = torch.tensor(\n",
    "    [\n",
    "        1 - tr_son.trace.nodes[\"posterior_father_son_fingerprint\"][\"value\"],\n",
    "        tr_son.trace.nodes[\"posterior_father_son_fingerprint\"][\"value\"],\n",
    "    ]\n",
    ")\n",
    "\n",
    "print(\"Posterior no fingerprints\", father_posterior_no_fingerprint)\n",
    "print(\"Posterior father's fingerprints\", father_posterior_fathers_fingerprint)\n",
    "print(\"Posterior other's fingerprints\", father_posterior_son_fingerprint)\n",
    "\n",
    "pr_father: float = 0.5\n",
    "pr_confession_if_father = 0.4\n",
    "pr_confession_if_son = 0.4  # Probability of confession if father is NOT guilty is 0.8 (higher), whereas in the previous model it was 0.01.\n",
    "father_fingerprints_if_father = 0.4\n",
    "father_fingerprints_if_son = 0.1\n",
    "son_fingerprints_if_father = 0.1  # This model introduces son’s fingerprints\n",
    "son_fingerprints_if_son = 0.4\n",
    "angle_if_father = 0.3\n",
    "angle_if_son = 0.8\n",
    "\n",
    "\n",
    "pr_father_now = tr_son.trace.nodes[\"posterior_father_no_fingerprint\"][\"value\"]\n",
    "\n",
    "father_prior_now = torch.tensor([1 - pr_father_now, pr_father_now])\n",
    "\n",
    "print(\"prior now\", father_prior_now)\n",
    "\n",
    "pr_fathers_fingerprint_now = (\n",
    "    pr_father_now * father_fingerprints_if_father\n",
    "    + (1 - pr_father_now) * father_fingerprints_if_son\n",
    ")\n",
    "\n",
    "print(\"fathers\", pr_fathers_fingerprint_now)\n",
    "\n",
    "pr_son_fingerprints_now = (\n",
    "    pr_father_now * son_fingerprints_if_father\n",
    "    + (1 - pr_father_now) * son_fingerprints_if_son\n",
    ")\n",
    "\n",
    "print(\"others\", pr_other_fingerprints_now)\n",
    "\n",
    "pr_no_fingerprints_now = 1 - pr_fathers_fingerprint_now - pr_son_fingerprints_now\n",
    "\n",
    "print(\"none\", pr_no_fingerprints_now)\n",
    "\n",
    "probs_of_evidence_with_son = torch.tensor(\n",
    "    [\n",
    "        pr_fathers_fingerprint_now,\n",
    "        pr_son_fingerprints_now,\n",
    "        pr_no_fingerprints_now,\n",
    "    ]\n",
    ")\n",
    "print(\"probs_of_evidence_with_son\", probs_of_evidence_with_son)"
   ]
  },
  {
   "cell_type": "code",
   "execution_count": 20,
   "metadata": {},
   "outputs": [
    {
     "name": "stderr",
     "output_type": "stream",
     "text": [
      "/home/rafal/miniconda3/envs/mrbook/lib/python3.10/site-packages/torch/cuda/__init__.py:734: UserWarning: Can't initialize NVML\n",
      "  warnings.warn(\"Can't initialize NVML\")\n"
     ]
    },
    {
     "data": {
      "image/svg+xml": [
       "<?xml version=\"1.0\" encoding=\"UTF-8\" standalone=\"no\"?>\n",
       "<!DOCTYPE svg PUBLIC \"-//W3C//DTD SVG 1.1//EN\"\n",
       " \"http://www.w3.org/Graphics/SVG/1.1/DTD/svg11.dtd\">\n",
       "<!-- Generated by graphviz version 2.43.0 (0)\n",
       " -->\n",
       "<!-- Title: %3 Pages: 1 -->\n",
       "<svg width=\"1034pt\" height=\"351pt\"\n",
       " viewBox=\"0.00 0.00 1034.07 351.00\" xmlns=\"http://www.w3.org/2000/svg\" xmlns:xlink=\"http://www.w3.org/1999/xlink\">\n",
       "<g id=\"graph0\" class=\"graph\" transform=\"scale(1 1) rotate(0) translate(4 347)\">\n",
       "<title>%3</title>\n",
       "<polygon fill=\"white\" stroke=\"transparent\" points=\"-4,4 -4,-347 1030.07,-347 1030.07,4 -4,4\"/>\n",
       "<g id=\"clust1\" class=\"cluster\">\n",
       "<title>cluster_inner_particles</title>\n",
       "<polygon fill=\"none\" stroke=\"black\" points=\"87.08,-44 87.08,-335 1014.08,-335 1014.08,-44 87.08,-44\"/>\n",
       "<text text-anchor=\"middle\" x=\"952.58\" y=\"-51.8\" font-family=\"Times,serif\" font-size=\"14.00\">inner_particles</text>\n",
       "</g>\n",
       "<!-- posterior_father_fathers_fingerprint -->\n",
       "<g id=\"node1\" class=\"node\">\n",
       "<title>posterior_father_fathers_fingerprint</title>\n",
       "<ellipse fill=\"gray\" stroke=\"black\" stroke-dasharray=\"5,2\" cx=\"178.08\" cy=\"-18\" rx=\"178.17\" ry=\"18\"/>\n",
       "<text text-anchor=\"middle\" x=\"178.08\" y=\"-14.3\" font-family=\"Times,serif\" font-size=\"14.00\">posterior_father_fathers_fingerprint</text>\n",
       "</g>\n",
       "<!-- posterior_father_no_fingerprint -->\n",
       "<g id=\"node2\" class=\"node\">\n",
       "<title>posterior_father_no_fingerprint</title>\n",
       "<ellipse fill=\"gray\" stroke=\"black\" stroke-dasharray=\"5,2\" cx=\"870.08\" cy=\"-18\" rx=\"155.97\" ry=\"18\"/>\n",
       "<text text-anchor=\"middle\" x=\"870.08\" y=\"-14.3\" font-family=\"Times,serif\" font-size=\"14.00\">posterior_father_no_fingerprint</text>\n",
       "</g>\n",
       "<!-- posterior_father_son_fingerprint -->\n",
       "<g id=\"node3\" class=\"node\">\n",
       "<title>posterior_father_son_fingerprint</title>\n",
       "<ellipse fill=\"gray\" stroke=\"black\" stroke-dasharray=\"5,2\" cx=\"535.08\" cy=\"-18\" rx=\"161.37\" ry=\"18\"/>\n",
       "<text text-anchor=\"middle\" x=\"535.08\" y=\"-14.3\" font-family=\"Times,serif\" font-size=\"14.00\">posterior_father_son_fingerprint</text>\n",
       "</g>\n",
       "<!-- father -->\n",
       "<g id=\"node4\" class=\"node\">\n",
       "<title>father</title>\n",
       "<ellipse fill=\"white\" stroke=\"black\" cx=\"625.08\" cy=\"-309\" rx=\"38.99\" ry=\"18\"/>\n",
       "<text text-anchor=\"middle\" x=\"625.08\" y=\"-305.3\" font-family=\"Times,serif\" font-size=\"14.00\">father</text>\n",
       "</g>\n",
       "<!-- prob_confession -->\n",
       "<g id=\"node5\" class=\"node\">\n",
       "<title>prob_confession</title>\n",
       "<ellipse fill=\"gray\" stroke=\"black\" stroke-dasharray=\"5,2\" cx=\"729.08\" cy=\"-237\" rx=\"85.29\" ry=\"18\"/>\n",
       "<text text-anchor=\"middle\" x=\"729.08\" y=\"-233.3\" font-family=\"Times,serif\" font-size=\"14.00\">prob_confession</text>\n",
       "</g>\n",
       "<!-- father&#45;&gt;prob_confession -->\n",
       "<g id=\"edge1\" class=\"edge\">\n",
       "<title>father&#45;&gt;prob_confession</title>\n",
       "<path fill=\"none\" stroke=\"black\" d=\"M646.13,-293.83C660.45,-284.19 679.7,-271.24 696.05,-260.23\"/>\n",
       "<polygon fill=\"black\" stroke=\"black\" points=\"698.45,-262.84 704.79,-254.35 694.54,-257.03 698.45,-262.84\"/>\n",
       "</g>\n",
       "<!-- prob_father_fingerprints -->\n",
       "<g id=\"node7\" class=\"node\">\n",
       "<title>prob_father_fingerprints</title>\n",
       "<ellipse fill=\"gray\" stroke=\"black\" stroke-dasharray=\"5,2\" cx=\"239.08\" cy=\"-237\" rx=\"124.28\" ry=\"18\"/>\n",
       "<text text-anchor=\"middle\" x=\"239.08\" y=\"-233.3\" font-family=\"Times,serif\" font-size=\"14.00\">prob_father_fingerprints</text>\n",
       "</g>\n",
       "<!-- father&#45;&gt;prob_father_fingerprints -->\n",
       "<g id=\"edge3\" class=\"edge\">\n",
       "<title>father&#45;&gt;prob_father_fingerprints</title>\n",
       "<path fill=\"none\" stroke=\"black\" d=\"M589.46,-301.54C529.38,-290.64 406.34,-268.33 323.26,-253.27\"/>\n",
       "<polygon fill=\"black\" stroke=\"black\" points=\"323.8,-249.81 313.34,-251.47 322.55,-256.69 323.8,-249.81\"/>\n",
       "</g>\n",
       "<!-- prob_son_fingerprints -->\n",
       "<g id=\"node9\" class=\"node\">\n",
       "<title>prob_son_fingerprints</title>\n",
       "<ellipse fill=\"gray\" stroke=\"black\" stroke-dasharray=\"5,2\" cx=\"494.08\" cy=\"-237\" rx=\"112.38\" ry=\"18\"/>\n",
       "<text text-anchor=\"middle\" x=\"494.08\" y=\"-233.3\" font-family=\"Times,serif\" font-size=\"14.00\">prob_son_fingerprints</text>\n",
       "</g>\n",
       "<!-- father&#45;&gt;prob_son_fingerprints -->\n",
       "<g id=\"edge5\" class=\"edge\">\n",
       "<title>father&#45;&gt;prob_son_fingerprints</title>\n",
       "<path fill=\"none\" stroke=\"black\" d=\"M600.44,-294.83C581.77,-284.85 555.71,-270.93 534.06,-259.36\"/>\n",
       "<polygon fill=\"black\" stroke=\"black\" points=\"535.56,-256.19 525.09,-254.57 532.26,-262.37 535.56,-256.19\"/>\n",
       "</g>\n",
       "<!-- angle_prob -->\n",
       "<g id=\"node11\" class=\"node\">\n",
       "<title>angle_prob</title>\n",
       "<ellipse fill=\"gray\" stroke=\"black\" stroke-dasharray=\"5,2\" cx=\"894.08\" cy=\"-237\" rx=\"61.99\" ry=\"18\"/>\n",
       "<text text-anchor=\"middle\" x=\"894.08\" y=\"-233.3\" font-family=\"Times,serif\" font-size=\"14.00\">angle_prob</text>\n",
       "</g>\n",
       "<!-- father&#45;&gt;angle_prob -->\n",
       "<g id=\"edge7\" class=\"edge\">\n",
       "<title>father&#45;&gt;angle_prob</title>\n",
       "<path fill=\"none\" stroke=\"black\" d=\"M658.34,-299.35C703.73,-287.53 785.63,-266.22 839.94,-252.09\"/>\n",
       "<polygon fill=\"black\" stroke=\"black\" points=\"840.95,-255.44 849.74,-249.54 839.19,-248.67 840.95,-255.44\"/>\n",
       "</g>\n",
       "<!-- father_masked_fingerprint -->\n",
       "<g id=\"node13\" class=\"node\">\n",
       "<title>father_masked_fingerprint</title>\n",
       "<ellipse fill=\"gray\" stroke=\"black\" stroke-dasharray=\"5,2\" cx=\"229.08\" cy=\"-93\" rx=\"133.78\" ry=\"18\"/>\n",
       "<text text-anchor=\"middle\" x=\"229.08\" y=\"-89.3\" font-family=\"Times,serif\" font-size=\"14.00\">father_masked_fingerprint</text>\n",
       "</g>\n",
       "<!-- father&#45;&gt;father_masked_fingerprint -->\n",
       "<g id=\"edge9\" class=\"edge\">\n",
       "<title>father&#45;&gt;father_masked_fingerprint</title>\n",
       "<path fill=\"none\" stroke=\"black\" d=\"M585.99,-306.96C470.7,-303.5 138.14,-290.5 106.08,-255 83.83,-230.35 122.54,-157.04 131.08,-147 142.71,-133.33 158.78,-122.6 174.55,-114.49\"/>\n",
       "<polygon fill=\"black\" stroke=\"black\" points=\"176.3,-117.53 183.76,-110.01 173.24,-111.23 176.3,-117.53\"/>\n",
       "</g>\n",
       "<!-- father_masked_no_fingerprint -->\n",
       "<g id=\"node14\" class=\"node\">\n",
       "<title>father_masked_no_fingerprint</title>\n",
       "<ellipse fill=\"gray\" stroke=\"black\" stroke-dasharray=\"5,2\" cx=\"857.08\" cy=\"-93\" rx=\"149.47\" ry=\"18\"/>\n",
       "<text text-anchor=\"middle\" x=\"857.08\" y=\"-89.3\" font-family=\"Times,serif\" font-size=\"14.00\">father_masked_no_fingerprint</text>\n",
       "</g>\n",
       "<!-- father&#45;&gt;father_masked_no_fingerprint -->\n",
       "<g id=\"edge14\" class=\"edge\">\n",
       "<title>father&#45;&gt;father_masked_no_fingerprint</title>\n",
       "<path fill=\"none\" stroke=\"black\" d=\"M664.22,-307.98C745.18,-307.03 926.72,-299.81 965.08,-255 1004.16,-209.36 936.24,-149.1 891.53,-116.79\"/>\n",
       "<polygon fill=\"black\" stroke=\"black\" points=\"893.4,-113.82 883.21,-110.9 889.35,-119.53 893.4,-113.82\"/>\n",
       "</g>\n",
       "<!-- father_masked_son_fingerprint -->\n",
       "<g id=\"node15\" class=\"node\">\n",
       "<title>father_masked_son_fingerprint</title>\n",
       "<ellipse fill=\"gray\" stroke=\"black\" stroke-dasharray=\"5,2\" cx=\"535.08\" cy=\"-93\" rx=\"154.07\" ry=\"18\"/>\n",
       "<text text-anchor=\"middle\" x=\"535.08\" y=\"-89.3\" font-family=\"Times,serif\" font-size=\"14.00\">father_masked_son_fingerprint</text>\n",
       "</g>\n",
       "<!-- father&#45;&gt;father_masked_son_fingerprint -->\n",
       "<g id=\"edge17\" class=\"edge\">\n",
       "<title>father&#45;&gt;father_masked_son_fingerprint</title>\n",
       "<path fill=\"none\" stroke=\"black\" d=\"M626.25,-290.56C627.51,-259.33 626.31,-192.86 598.08,-147 591.05,-135.57 580.7,-125.39 570.41,-117.09\"/>\n",
       "<polygon fill=\"black\" stroke=\"black\" points=\"572.31,-114.14 562.24,-110.84 568.06,-119.7 572.31,-114.14\"/>\n",
       "</g>\n",
       "<!-- confession -->\n",
       "<g id=\"node6\" class=\"node\">\n",
       "<title>confession</title>\n",
       "<ellipse fill=\"white\" stroke=\"black\" cx=\"717.08\" cy=\"-165\" rx=\"59.59\" ry=\"18\"/>\n",
       "<text text-anchor=\"middle\" x=\"717.08\" y=\"-161.3\" font-family=\"Times,serif\" font-size=\"14.00\">confession</text>\n",
       "</g>\n",
       "<!-- prob_confession&#45;&gt;confession -->\n",
       "<g id=\"edge2\" class=\"edge\">\n",
       "<title>prob_confession&#45;&gt;confession</title>\n",
       "<path fill=\"none\" stroke=\"black\" d=\"M726.12,-218.7C724.8,-210.98 723.21,-201.71 721.73,-193.11\"/>\n",
       "<polygon fill=\"black\" stroke=\"black\" points=\"725.16,-192.37 720.02,-183.1 718.26,-193.55 725.16,-192.37\"/>\n",
       "</g>\n",
       "<!-- confession&#45;&gt;father_masked_fingerprint -->\n",
       "<g id=\"edge10\" class=\"edge\">\n",
       "<title>confession&#45;&gt;father_masked_fingerprint</title>\n",
       "<path fill=\"none\" stroke=\"black\" d=\"M664.4,-156.44C583.78,-144.88 428.49,-122.6 326.85,-108.02\"/>\n",
       "<polygon fill=\"black\" stroke=\"black\" points=\"327.27,-104.55 316.88,-106.59 326.28,-111.48 327.27,-104.55\"/>\n",
       "</g>\n",
       "<!-- confession&#45;&gt;father_masked_no_fingerprint -->\n",
       "<g id=\"edge15\" class=\"edge\">\n",
       "<title>confession&#45;&gt;father_masked_no_fingerprint</title>\n",
       "<path fill=\"none\" stroke=\"black\" d=\"M746.77,-149.15C766.44,-139.32 792.54,-126.27 814.42,-115.33\"/>\n",
       "<polygon fill=\"black\" stroke=\"black\" points=\"816.13,-118.39 823.51,-110.79 813,-112.13 816.13,-118.39\"/>\n",
       "</g>\n",
       "<!-- confession&#45;&gt;father_masked_son_fingerprint -->\n",
       "<g id=\"edge18\" class=\"edge\">\n",
       "<title>confession&#45;&gt;father_masked_son_fingerprint</title>\n",
       "<path fill=\"none\" stroke=\"black\" d=\"M681.56,-150.34C654.68,-140 617.35,-125.64 587.1,-114.01\"/>\n",
       "<polygon fill=\"black\" stroke=\"black\" points=\"588.14,-110.66 577.55,-110.33 585.63,-117.19 588.14,-110.66\"/>\n",
       "</g>\n",
       "<!-- father_fingerprints -->\n",
       "<g id=\"node8\" class=\"node\">\n",
       "<title>father_fingerprints</title>\n",
       "<ellipse fill=\"white\" stroke=\"black\" cx=\"239.08\" cy=\"-165\" rx=\"98.58\" ry=\"18\"/>\n",
       "<text text-anchor=\"middle\" x=\"239.08\" y=\"-161.3\" font-family=\"Times,serif\" font-size=\"14.00\">father_fingerprints</text>\n",
       "</g>\n",
       "<!-- prob_father_fingerprints&#45;&gt;father_fingerprints -->\n",
       "<g id=\"edge4\" class=\"edge\">\n",
       "<title>prob_father_fingerprints&#45;&gt;father_fingerprints</title>\n",
       "<path fill=\"none\" stroke=\"black\" d=\"M239.08,-218.7C239.08,-210.98 239.08,-201.71 239.08,-193.11\"/>\n",
       "<polygon fill=\"black\" stroke=\"black\" points=\"242.58,-193.1 239.08,-183.1 235.58,-193.1 242.58,-193.1\"/>\n",
       "</g>\n",
       "<!-- father_fingerprints&#45;&gt;father_masked_fingerprint -->\n",
       "<g id=\"edge11\" class=\"edge\">\n",
       "<title>father_fingerprints&#45;&gt;father_masked_fingerprint</title>\n",
       "<path fill=\"none\" stroke=\"black\" d=\"M236.61,-146.7C235.51,-138.98 234.19,-129.71 232.96,-121.11\"/>\n",
       "<polygon fill=\"black\" stroke=\"black\" points=\"236.41,-120.51 231.53,-111.1 229.48,-121.5 236.41,-120.51\"/>\n",
       "</g>\n",
       "<!-- father_fingerprints&#45;&gt;father_masked_son_fingerprint -->\n",
       "<g id=\"edge19\" class=\"edge\">\n",
       "<title>father_fingerprints&#45;&gt;father_masked_son_fingerprint</title>\n",
       "<path fill=\"none\" stroke=\"black\" d=\"M296.86,-150.34C343.55,-139.3 409.61,-123.67 460.32,-111.68\"/>\n",
       "<polygon fill=\"black\" stroke=\"black\" points=\"461.33,-115.04 470.25,-109.33 459.71,-108.23 461.33,-115.04\"/>\n",
       "</g>\n",
       "<!-- other_fingerprints -->\n",
       "<g id=\"node10\" class=\"node\">\n",
       "<title>other_fingerprints</title>\n",
       "<ellipse fill=\"white\" stroke=\"black\" cx=\"494.08\" cy=\"-165\" rx=\"94.78\" ry=\"18\"/>\n",
       "<text text-anchor=\"middle\" x=\"494.08\" y=\"-161.3\" font-family=\"Times,serif\" font-size=\"14.00\">other_fingerprints</text>\n",
       "</g>\n",
       "<!-- prob_son_fingerprints&#45;&gt;other_fingerprints -->\n",
       "<g id=\"edge6\" class=\"edge\">\n",
       "<title>prob_son_fingerprints&#45;&gt;other_fingerprints</title>\n",
       "<path fill=\"none\" stroke=\"black\" d=\"M494.08,-218.7C494.08,-210.98 494.08,-201.71 494.08,-193.11\"/>\n",
       "<polygon fill=\"black\" stroke=\"black\" points=\"497.58,-193.1 494.08,-183.1 490.58,-193.1 497.58,-193.1\"/>\n",
       "</g>\n",
       "<!-- other_fingerprints&#45;&gt;father_masked_fingerprint -->\n",
       "<g id=\"edge12\" class=\"edge\">\n",
       "<title>other_fingerprints&#45;&gt;father_masked_fingerprint</title>\n",
       "<path fill=\"none\" stroke=\"black\" d=\"M441.09,-150C399.67,-139.06 341.79,-123.77 296.97,-111.93\"/>\n",
       "<polygon fill=\"black\" stroke=\"black\" points=\"297.6,-108.48 287.04,-109.31 295.82,-115.25 297.6,-108.48\"/>\n",
       "</g>\n",
       "<!-- other_fingerprints&#45;&gt;father_masked_son_fingerprint -->\n",
       "<g id=\"edge20\" class=\"edge\">\n",
       "<title>other_fingerprints&#45;&gt;father_masked_son_fingerprint</title>\n",
       "<path fill=\"none\" stroke=\"black\" d=\"M504.01,-147.05C508.77,-138.92 514.59,-129 519.89,-119.94\"/>\n",
       "<polygon fill=\"black\" stroke=\"black\" points=\"522.93,-121.67 524.97,-111.28 516.89,-118.14 522.93,-121.67\"/>\n",
       "</g>\n",
       "<!-- angle -->\n",
       "<g id=\"node12\" class=\"node\">\n",
       "<title>angle</title>\n",
       "<ellipse fill=\"white\" stroke=\"black\" cx=\"844.08\" cy=\"-165\" rx=\"36.29\" ry=\"18\"/>\n",
       "<text text-anchor=\"middle\" x=\"844.08\" y=\"-161.3\" font-family=\"Times,serif\" font-size=\"14.00\">angle</text>\n",
       "</g>\n",
       "<!-- angle_prob&#45;&gt;angle -->\n",
       "<g id=\"edge8\" class=\"edge\">\n",
       "<title>angle_prob&#45;&gt;angle</title>\n",
       "<path fill=\"none\" stroke=\"black\" d=\"M881.98,-219.05C875.87,-210.5 868.35,-199.97 861.62,-190.56\"/>\n",
       "<polygon fill=\"black\" stroke=\"black\" points=\"864.39,-188.41 855.73,-182.31 858.7,-192.48 864.39,-188.41\"/>\n",
       "</g>\n",
       "<!-- angle&#45;&gt;father_masked_fingerprint -->\n",
       "<g id=\"edge13\" class=\"edge\">\n",
       "<title>angle&#45;&gt;father_masked_fingerprint</title>\n",
       "<path fill=\"none\" stroke=\"black\" d=\"M814.85,-154.21C805.73,-151.48 795.57,-148.78 786.08,-147 604.57,-112.86 555.81,-129.9 372.08,-111 359.82,-109.74 346.97,-108.33 334.22,-106.88\"/>\n",
       "<polygon fill=\"black\" stroke=\"black\" points=\"334.37,-103.38 324.03,-105.71 333.57,-110.33 334.37,-103.38\"/>\n",
       "</g>\n",
       "<!-- angle&#45;&gt;father_masked_no_fingerprint -->\n",
       "<g id=\"edge16\" class=\"edge\">\n",
       "<title>angle&#45;&gt;father_masked_no_fingerprint</title>\n",
       "<path fill=\"none\" stroke=\"black\" d=\"M847.23,-147.05C848.66,-139.35 850.39,-130.03 852,-121.36\"/>\n",
       "<polygon fill=\"black\" stroke=\"black\" points=\"855.49,-121.75 853.88,-111.28 848.61,-120.47 855.49,-121.75\"/>\n",
       "</g>\n",
       "<!-- angle&#45;&gt;father_masked_son_fingerprint -->\n",
       "<g id=\"edge21\" class=\"edge\">\n",
       "<title>angle&#45;&gt;father_masked_son_fingerprint</title>\n",
       "<path fill=\"none\" stroke=\"black\" d=\"M814.1,-154.73C805.13,-152.09 795.24,-149.31 786.08,-147 731.84,-133.34 670.4,-120.33 621.89,-110.62\"/>\n",
       "<polygon fill=\"black\" stroke=\"black\" points=\"622.55,-107.18 612.06,-108.66 621.18,-114.04 622.55,-107.18\"/>\n",
       "</g>\n",
       "<!-- father_masked_fingerprint&#45;&gt;posterior_father_fathers_fingerprint -->\n",
       "<g id=\"edge22\" class=\"edge\">\n",
       "<title>father_masked_fingerprint&#45;&gt;posterior_father_fathers_fingerprint</title>\n",
       "<path fill=\"none\" stroke=\"black\" d=\"M217.26,-75.07C210.93,-66.01 203.01,-54.67 195.95,-44.57\"/>\n",
       "<polygon fill=\"black\" stroke=\"black\" points=\"198.62,-42.29 190.03,-36.09 192.88,-46.29 198.62,-42.29\"/>\n",
       "</g>\n",
       "<!-- father_masked_no_fingerprint&#45;&gt;posterior_father_no_fingerprint -->\n",
       "<g id=\"edge23\" class=\"edge\">\n",
       "<title>father_masked_no_fingerprint&#45;&gt;posterior_father_no_fingerprint</title>\n",
       "<path fill=\"none\" stroke=\"black\" d=\"M860.17,-74.7C861.69,-66.15 863.56,-55.65 865.26,-46.07\"/>\n",
       "<polygon fill=\"black\" stroke=\"black\" points=\"868.72,-46.63 867.03,-36.18 861.83,-45.41 868.72,-46.63\"/>\n",
       "</g>\n",
       "<!-- father_masked_son_fingerprint&#45;&gt;posterior_father_son_fingerprint -->\n",
       "<g id=\"edge24\" class=\"edge\">\n",
       "<title>father_masked_son_fingerprint&#45;&gt;posterior_father_son_fingerprint</title>\n",
       "<path fill=\"none\" stroke=\"black\" d=\"M535.08,-74.7C535.08,-66.25 535.08,-55.87 535.08,-46.37\"/>\n",
       "<polygon fill=\"black\" stroke=\"black\" points=\"538.58,-46.18 535.08,-36.18 531.58,-46.18 538.58,-46.18\"/>\n",
       "</g>\n",
       "</g>\n",
       "</svg>\n"
      ],
      "text/plain": [
       "<graphviz.graphs.Digraph at 0x7f501a2169b0>"
      ]
     },
     "execution_count": 20,
     "metadata": {},
     "output_type": "execute_result"
    }
   ],
   "source": [
    "pyro.render_model(tinbox_core_son, render_deterministic=True)"
   ]
  },
  {
   "cell_type": "code",
   "execution_count": 21,
   "metadata": {},
   "outputs": [
    {
     "data": {
      "image/png": "[encoded data removed]",
      "text/plain": [
       "<IPython.core.display.Image object>"
      ]
     },
     "metadata": {},
     "output_type": "display_data"
    }
   ],
   "source": [
    "# simplistic DAG\n",
    "\n",
    "# from graphviz import Digraph\n",
    "# from IPython.display import Image, display\n",
    "\n",
    "# dot = Digraph(comment=\"Modified Murder Case DAG with Other's Fingerprints\")\n",
    "\n",
    "# dot.node('father', 'Father')\n",
    "# dot.node('confession', 'Confession')\n",
    "# dot.node('angle', 'Angle')\n",
    "# dot.node('father_fingerprints', 'Father\\'s Fingerprints')\n",
    "# dot.node('others_fingerprints', 'Other\\'s Fingerprints')\n",
    "# dot.node('posterior_father_fathers_fingerprint', 'Posterior Father\\'s Fingerprints')\n",
    "# dot.node('posterior_father_not_fathers_fingerprint', 'Posterior Other\\'s Fingerprints')\n",
    "# dot.node('posterior_father_no_fingerprint', 'Posterior No Fingerprints')\n",
    "\n",
    "\n",
    "# dot.edge('father', 'father_fingerprints')\n",
    "# dot.edge('father', 'others_fingerprints')\n",
    "# dot.edge('father', 'confession')\n",
    "# dot.edge('father', 'angle')\n",
    "\n",
    "# dot.edge('father_fingerprints', 'posterior_father_fathers_fingerprint')\n",
    "# dot.edge('father_fingerprints', 'posterior_father_not_fathers_fingerprint')\n",
    "# dot.edge('others_fingerprints', 'posterior_father_not_fathers_fingerprint')\n",
    "# dot.edge('others_fingerprints', 'posterior_father_fathers_fingerprint')\n",
    "\n",
    "# dot.edge('confession', 'posterior_father_fathers_fingerprint')\n",
    "# dot.edge('confession', 'posterior_father_not_fathers_fingerprint')\n",
    "# dot.edge('confession', 'posterior_father_no_fingerprint')\n",
    "\n",
    "# dot.edge('angle', 'posterior_father_fathers_fingerprint')\n",
    "# dot.edge('angle', 'posterior_father_not_fathers_fingerprint')\n",
    "# dot.edge('angle', 'posterior_father_no_fingerprint')\n",
    "\n",
    "# png_path = dot.render('figures/dag_tinbox_father', format='png')\n",
    "# display(Image(png_path))\n",
    "# no posterior row version\n",
    "from graphviz import Digraph\n",
    "from IPython.display import Image, display\n",
    "\n",
    "dot = Digraph(comment=\"Modified Murder Case DAG with Other's Fingerprints\")\n",
    "\n",
    "dot.node(\"father/son\", \"father/son\")\n",
    "dot.node(\"confession\", \"confession\")\n",
    "dot.node(\"angle\", \"angle\")\n",
    "dot.node(\"father_fingerprints\", \"father's fingerprints\")\n",
    "dot.node(\"sons_fingerprints\", \"son's fingerprints\")\n",
    "\n",
    "dot.edge(\"father/son\", \"father_fingerprints\")\n",
    "dot.edge(\"father/son\", \"sons_fingerprints\")\n",
    "dot.edge(\"father/son\", \"confession\")\n",
    "dot.edge(\"father/son\", \"angle\")\n",
    "\n",
    "\n",
    "png_path = dot.render(\"figures/dag_tinbox_father_son_2\", format=\"png\")\n",
    "\n",
    "display(Image(png_path))"
   ]
  },
  {
   "cell_type": "code",
   "execution_count": 22,
   "metadata": {},
   "outputs": [
    {
     "data": {
      "text/html": [
       "<pre style=\"white-space:pre;overflow-x:auto;line-height:normal;font-family:Menlo,'DejaVu Sans Mono',consolas,'Courier New',monospace\"><span style=\"font-weight: bold\">[</span><span style=\"color: #800080; text-decoration-color: #800080; font-weight: bold\">tensor</span><span style=\"font-weight: bold\">(</span><span style=\"color: #008080; text-decoration-color: #008080; font-weight: bold\">0.6922</span><span style=\"font-weight: bold\">)</span>, <span style=\"color: #800080; text-decoration-color: #800080; font-weight: bold\">tensor</span><span style=\"font-weight: bold\">(</span><span style=\"color: #008080; text-decoration-color: #008080; font-weight: bold\">0.0593</span><span style=\"font-weight: bold\">)</span>, <span style=\"color: #800080; text-decoration-color: #800080; font-weight: bold\">tensor</span><span style=\"font-weight: bold\">(</span><span style=\"color: #008080; text-decoration-color: #008080; font-weight: bold\">0.2736</span><span style=\"font-weight: bold\">)]</span>\n",
       "</pre>\n"
      ],
      "text/plain": [
       "\u001b[1m[\u001b[0m\u001b[1;35mtensor\u001b[0m\u001b[1m(\u001b[0m\u001b[1;36m0.6922\u001b[0m\u001b[1m)\u001b[0m, \u001b[1;35mtensor\u001b[0m\u001b[1m(\u001b[0m\u001b[1;36m0.0593\u001b[0m\u001b[1m)\u001b[0m, \u001b[1;35mtensor\u001b[0m\u001b[1m(\u001b[0m\u001b[1;36m0.2736\u001b[0m\u001b[1m)\u001b[0m\u001b[1m]\u001b[0m\n"
      ]
     },
     "metadata": {},
     "output_type": "display_data"
    },
    {
     "data": {
      "image/png": "[encoded data removed]",
      "text/plain": [
       "<Figure size 640x480 with 1 Axes>"
      ]
     },
     "metadata": {},
     "output_type": "display_data"
    }
   ],
   "source": [
    "posterior_guilt_probs = [\n",
    "    tr_son.trace.nodes[\"posterior_father_fathers_fingerprint\"][\"value\"],\n",
    "    tr_son.trace.nodes[\"posterior_father_son_fingerprint\"][\"value\"],\n",
    "    tr_son.trace.nodes[\"posterior_father_no_fingerprint\"][\"value\"],\n",
    "]\n",
    "\n",
    "print(posterior_guilt_probs)\n",
    "\n",
    "labels = [\n",
    "    \"father's fingerprints match\",\n",
    "    \"son's fingerprints match\",\n",
    "    \"no fingerprints found\",\n",
    "]\n",
    "fig, ax = plt.subplots()\n",
    "ax.scatter(probs_of_evidence_with_son, posterior_guilt_probs)\n",
    "for i, label in enumerate(labels):\n",
    "    ax.annotate(\n",
    "        label,\n",
    "        (probs_of_evidence_with_son[i], posterior_guilt_probs[i]),\n",
    "        textcoords=\"offset points\",\n",
    "        xytext=(4, 3),\n",
    "        ha=\"left\",\n",
    "        fontsize=10,\n",
    "    )\n",
    "\n",
    "ax.set_xlabel(\"probability of evidential scenario\")\n",
    "ax.set_title(\"Posterior probability of father's guilt (son hypothesis)\", pad=10)\n",
    "ax.set_ylabel(\"posterior probability\")\n",
    "plt.xlim(0, 1)\n",
    "\n",
    "sns.despine()\n",
    "\n",
    "plt.savefig(\"figures/tinbox_posterior_probs_son.pdf\")\n",
    "\n",
    "plt.show()"
   ]
  },
  {
   "cell_type": "code",
   "execution_count": 23,
   "metadata": {},
   "outputs": [
    {
     "data": {
      "text/html": [
       "<pre style=\"white-space:pre;overflow-x:auto;line-height:normal;font-family:Menlo,'DejaVu Sans Mono',consolas,'Courier New',monospace\"><span style=\"color: #800080; text-decoration-color: #800080; font-weight: bold\">tensor</span><span style=\"font-weight: bold\">([[</span><span style=\"color: #008080; text-decoration-color: #008080; font-weight: bold\">0.3078</span>, <span style=\"color: #008080; text-decoration-color: #008080; font-weight: bold\">0.6922</span><span style=\"font-weight: bold\">]</span>,\n",
       "        <span style=\"font-weight: bold\">[</span><span style=\"color: #008080; text-decoration-color: #008080; font-weight: bold\">0.0786</span>, <span style=\"color: #008080; text-decoration-color: #008080; font-weight: bold\">0.9214</span><span style=\"font-weight: bold\">]</span>,\n",
       "        <span style=\"font-weight: bold\">[</span><span style=\"color: #008080; text-decoration-color: #008080; font-weight: bold\">0.9407</span>, <span style=\"color: #008080; text-decoration-color: #008080; font-weight: bold\">0.0593</span><span style=\"font-weight: bold\">]])</span>\n",
       "</pre>\n"
      ],
      "text/plain": [
       "\u001b[1;35mtensor\u001b[0m\u001b[1m(\u001b[0m\u001b[1m[\u001b[0m\u001b[1m[\u001b[0m\u001b[1;36m0.3078\u001b[0m, \u001b[1;36m0.6922\u001b[0m\u001b[1m]\u001b[0m,\n",
       "        \u001b[1m[\u001b[0m\u001b[1;36m0.0786\u001b[0m, \u001b[1;36m0.9214\u001b[0m\u001b[1m]\u001b[0m,\n",
       "        \u001b[1m[\u001b[0m\u001b[1;36m0.9407\u001b[0m, \u001b[1;36m0.0593\u001b[0m\u001b[1m]\u001b[0m\u001b[1m]\u001b[0m\u001b[1m)\u001b[0m\n"
      ]
     },
     "metadata": {},
     "output_type": "display_data"
    },
    {
     "data": {
      "text/html": [
       "<pre style=\"white-space:pre;overflow-x:auto;line-height:normal;font-family:Menlo,'DejaVu Sans Mono',consolas,'Courier New',monospace\"><span style=\"font-weight: bold\">[[</span><span style=\"color: #800080; text-decoration-color: #800080; font-weight: bold\">tensor</span><span style=\"font-weight: bold\">(</span><span style=\"color: #008080; text-decoration-color: #008080; font-weight: bold\">0.6922</span><span style=\"font-weight: bold\">)</span>, <span style=\"color: #800080; text-decoration-color: #800080; font-weight: bold\">tensor</span><span style=\"font-weight: bold\">(</span><span style=\"color: #008080; text-decoration-color: #008080; font-weight: bold\">0.0593</span><span style=\"font-weight: bold\">)</span>, <span style=\"color: #800080; text-decoration-color: #800080; font-weight: bold\">tensor</span><span style=\"font-weight: bold\">(</span><span style=\"color: #008080; text-decoration-color: #008080; font-weight: bold\">0.2736</span><span style=\"font-weight: bold\">)]]</span>\n",
       "</pre>\n"
      ],
      "text/plain": [
       "\u001b[1m[\u001b[0m\u001b[1m[\u001b[0m\u001b[1;35mtensor\u001b[0m\u001b[1m(\u001b[0m\u001b[1;36m0.6922\u001b[0m\u001b[1m)\u001b[0m, \u001b[1;35mtensor\u001b[0m\u001b[1m(\u001b[0m\u001b[1;36m0.0593\u001b[0m\u001b[1m)\u001b[0m, \u001b[1;35mtensor\u001b[0m\u001b[1m(\u001b[0m\u001b[1;36m0.2736\u001b[0m\u001b[1m)\u001b[0m\u001b[1m]\u001b[0m\u001b[1m]\u001b[0m\n"
      ]
     },
     "metadata": {},
     "output_type": "display_data"
    },
    {
     "data": {
      "text/html": [
       "<pre style=\"white-space:pre;overflow-x:auto;line-height:normal;font-family:Menlo,'DejaVu Sans Mono',consolas,'Courier New',monospace\">Batched posteriors have the following shape\n",
       "<span style=\"color: #800080; text-decoration-color: #800080; font-weight: bold\">torch.Size</span><span style=\"font-weight: bold\">([</span><span style=\"color: #008080; text-decoration-color: #008080; font-weight: bold\">3</span>, <span style=\"color: #008080; text-decoration-color: #008080; font-weight: bold\">2</span><span style=\"font-weight: bold\">])</span>\n",
       "</pre>\n"
      ],
      "text/plain": [
       "Batched posteriors have the following shape\n",
       "\u001b[1;35mtorch.Size\u001b[0m\u001b[1m(\u001b[0m\u001b[1m[\u001b[0m\u001b[1;36m3\u001b[0m, \u001b[1;36m2\u001b[0m\u001b[1m]\u001b[0m\u001b[1m)\u001b[0m\n"
      ]
     },
     "metadata": {},
     "output_type": "display_data"
    },
    {
     "data": {
      "text/html": [
       "<pre style=\"white-space:pre;overflow-x:auto;line-height:normal;font-family:Menlo,'DejaVu Sans Mono',consolas,'Courier New',monospace\"><span style=\"font-weight: bold\">{</span>\n",
       "    <span style=\"color: #008000; text-decoration-color: #008000\">'expected_weight'</span>: <span style=\"color: #800080; text-decoration-color: #800080; font-weight: bold\">tensor</span><span style=\"font-weight: bold\">(</span><span style=\"color: #008080; text-decoration-color: #008080; font-weight: bold\">0.4119</span><span style=\"font-weight: bold\">)</span>,\n",
       "    <span style=\"color: #008000; text-decoration-color: #008000\">'weight_prior'</span>: <span style=\"color: #800080; text-decoration-color: #800080; font-weight: bold\">tensor</span><span style=\"font-weight: bold\">(</span><span style=\"color: #008080; text-decoration-color: #008080; font-weight: bold\">0.1535</span><span style=\"font-weight: bold\">)</span>,\n",
       "    <span style=\"color: #008000; text-decoration-color: #008000\">'posterior_weights'</span>: <span style=\"color: #800080; text-decoration-color: #800080; font-weight: bold\">tensor</span><span style=\"font-weight: bold\">([</span><span style=\"color: #008080; text-decoration-color: #008080; font-weight: bold\">0.1094</span>, <span style=\"color: #008080; text-decoration-color: #008080; font-weight: bold\">0.6028</span>, <span style=\"color: #008080; text-decoration-color: #008080; font-weight: bold\">0.6755</span><span style=\"font-weight: bold\">])</span>,\n",
       "    <span style=\"color: #008000; text-decoration-color: #008000\">'weight_changes'</span>: <span style=\"color: #800080; text-decoration-color: #800080; font-weight: bold\">tensor</span><span style=\"font-weight: bold\">([</span><span style=\"color: #008080; text-decoration-color: #008080; font-weight: bold\">0.0441</span>, <span style=\"color: #008080; text-decoration-color: #008080; font-weight: bold\">0.4493</span>, <span style=\"color: #008080; text-decoration-color: #008080; font-weight: bold\">0.5220</span><span style=\"font-weight: bold\">])</span>,\n",
       "    <span style=\"color: #008000; text-decoration-color: #008000\">'weighted_weight_changes'</span>: <span style=\"color: #800080; text-decoration-color: #800080; font-weight: bold\">tensor</span><span style=\"font-weight: bold\">([</span><span style=\"color: #008080; text-decoration-color: #008080; font-weight: bold\">0.0080</span>, <span style=\"color: #008080; text-decoration-color: #008080; font-weight: bold\">0.1428</span>, <span style=\"color: #008080; text-decoration-color: #008080; font-weight: bold\">0.2610</span><span style=\"font-weight: bold\">])</span>\n",
       "<span style=\"font-weight: bold\">}</span>\n",
       "</pre>\n"
      ],
      "text/plain": [
       "\u001b[1m{\u001b[0m\n",
       "    \u001b[32m'expected_weight'\u001b[0m: \u001b[1;35mtensor\u001b[0m\u001b[1m(\u001b[0m\u001b[1;36m0.4119\u001b[0m\u001b[1m)\u001b[0m,\n",
       "    \u001b[32m'weight_prior'\u001b[0m: \u001b[1;35mtensor\u001b[0m\u001b[1m(\u001b[0m\u001b[1;36m0.1535\u001b[0m\u001b[1m)\u001b[0m,\n",
       "    \u001b[32m'posterior_weights'\u001b[0m: \u001b[1;35mtensor\u001b[0m\u001b[1m(\u001b[0m\u001b[1m[\u001b[0m\u001b[1;36m0.1094\u001b[0m, \u001b[1;36m0.6028\u001b[0m, \u001b[1;36m0.6755\u001b[0m\u001b[1m]\u001b[0m\u001b[1m)\u001b[0m,\n",
       "    \u001b[32m'weight_changes'\u001b[0m: \u001b[1;35mtensor\u001b[0m\u001b[1m(\u001b[0m\u001b[1m[\u001b[0m\u001b[1;36m0.0441\u001b[0m, \u001b[1;36m0.4493\u001b[0m, \u001b[1;36m0.5220\u001b[0m\u001b[1m]\u001b[0m\u001b[1m)\u001b[0m,\n",
       "    \u001b[32m'weighted_weight_changes'\u001b[0m: \u001b[1;35mtensor\u001b[0m\u001b[1m(\u001b[0m\u001b[1m[\u001b[0m\u001b[1;36m0.0080\u001b[0m, \u001b[1;36m0.1428\u001b[0m, \u001b[1;36m0.2610\u001b[0m\u001b[1m]\u001b[0m\u001b[1m)\u001b[0m\n",
       "\u001b[1m}\u001b[0m\n"
      ]
     },
     "metadata": {},
     "output_type": "display_data"
    }
   ],
   "source": [
    "posteriors = torch.stack(\n",
    "    [\n",
    "        father_posterior_fathers_fingerprint,\n",
    "        father_posterior_others_fingerprint,\n",
    "        father_posterior_son_fingerprint,\n",
    "    ],\n",
    "    dim=0,\n",
    ")\n",
    "\n",
    "\n",
    "print(posteriors)\n",
    "\n",
    "print([posterior_guilt_probs])\n",
    "\n",
    "\n",
    "print(\"Batched posteriors have the following shape\", posteriors.shape)\n",
    "\n",
    "expected_weights_with_son = pot.expected_weight(\n",
    "    probs_of_evidence_with_son,\n",
    "    father_prior_now,\n",
    "    posteriors,\n",
    ")\n",
    "\n",
    "print(expected_weights_with_son)"
   ]
  },
  {
   "cell_type": "markdown",
   "metadata": {},
   "source": [
    "Comparison of exp. weights, the scale, is 0.03 a significant difference?"
   ]
  },
  {
   "cell_type": "code",
   "execution_count": 21,
   "metadata": {},
   "outputs": [
    {
     "data": {
      "image/png": "[encoded data removed]",
      "text/plain": [
       "<Figure size 640x480 with 1 Axes>"
      ]
     },
     "metadata": {},
     "output_type": "display_data"
    }
   ],
   "source": [
    "fig, ax = plt.subplots()\n",
    "weight_changes = expected_weights_with_son[\"weight_changes\"]\n",
    "ax.scatter(probs_of_evidence_with_son, weight_changes, color=\"lightcoral\")\n",
    "\n",
    "\n",
    "for i, label in enumerate(labels):\n",
    "    ax.annotate(\n",
    "        label,\n",
    "        (probs_of_evidence_with_son[i], weight_changes[i]),\n",
    "        textcoords=\"offset points\",\n",
    "        xytext=(4, 3),\n",
    "        ha=\"left\",\n",
    "        fontsize=10,\n",
    "    )\n",
    "\n",
    "\n",
    "first_key = list(expected_weights_with_son.keys())[0]\n",
    "first_value = expected_weights_with_son[first_key].item()\n",
    "rounded_value = round(first_value, 4)\n",
    "\n",
    "\n",
    "# ax.set_title(f\"Expected Weight of the Evidence: {rounded_value}\", pad=10)\n",
    "ax.set_title(f\"Absolute expected weight changes under 3 evidential scenarios\", pad=10)\n",
    "ax.set_xlabel(\"probability of evidential scenario\")\n",
    "ax.set_ylabel(\"absolute weight change\")\n",
    "sns.despine()\n",
    "plt.xlim(0, 1)\n",
    "\n",
    "\n",
    "plt.savefig(\"figures/tinbox_posterior_weights_son.pdf\")\n",
    "plt.show()"
   ]
  },
  {
   "cell_type": "markdown",
   "metadata": {},
   "source": [
    "## Digraph visualization of the DAG"
   ]
  },
  {
   "cell_type": "code",
   "execution_count": 22,
   "metadata": {},
   "outputs": [
    {
     "data": {
      "image/png": "[encoded data removed]",
      "text/plain": [
       "<IPython.core.display.Image object>"
      ]
     },
     "metadata": {},
     "output_type": "display_data"
    }
   ],
   "source": [
    "dot = Digraph(comment=\"Murder Case DAG\")\n",
    "\n",
    "dot.node(\"F\", \"Father\")\n",
    "dot.node(\"C\", \"Confession\")\n",
    "dot.node(\"A\", \"Angle\")\n",
    "dot.node(\"FF\", \"Father Fingerprints\")\n",
    "dot.node(\"P\", \"Posterior Father No Fingerprints\")\n",
    "\n",
    "dot.edge(\"F\", \"C\", label=\"Influences Confession\")\n",
    "dot.edge(\"F\", \"A\", label=\"Influences Angle\")\n",
    "dot.edge(\"F\", \"FF\", label=\"Influences Fingerprints\")\n",
    "dot.edge(\"C\", \"P\")\n",
    "dot.edge(\"A\", \"P\")\n",
    "dot.edge(\"FF\", \"P\")\n",
    "\n",
    "\n",
    "png_path = dot.render(\"murder_case_dag\", format=\"png\")  # saving the PNG\n",
    "\n",
    "display(Image(png_path))"
   ]
  },
  {
   "cell_type": "markdown",
   "metadata": {},
   "source": [
    "![](tinbox_dagitty_plot.png){ fig-align=\"center\" width=\"60%\"}"
   ]
  }
 ],
 "metadata": {
  "kernelspec": {
   "display_name": "mrbook",
   "language": "python",
   "name": "python3"
  },
  "language_info": {
   "codemirror_mode": {
    "name": "ipython",
    "version": 3
   },
   "file_extension": ".py",
   "mimetype": "text/x-python",
   "name": "python",
   "nbconvert_exporter": "python",
   "pygments_lexer": "ipython3",
   "version": "3.10.0"
  }
 },
 "nbformat": 4,
 "nbformat_minor": 2
}
